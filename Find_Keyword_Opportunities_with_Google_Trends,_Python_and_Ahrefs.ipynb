{
  "nbformat": 4,
  "nbformat_minor": 0,
  "metadata": {
    "colab": {
      "name": "Find Keyword Opportunities with Google Trends, Python and Ahrefs.ipynb",
      "provenance": [],
      "collapsed_sections": [],
      "authorship_tag": "ABX9TyOTCadMwYoUCnFPQ4WUORf3",
      "include_colab_link": true
    },
    "kernelspec": {
      "name": "python3",
      "display_name": "Python 3"
    },
    "language_info": {
      "name": "python"
    }
  },
  "cells": [
    {
      "cell_type": "markdown",
      "metadata": {
        "id": "view-in-github",
        "colab_type": "text"
      },
      "source": [
        "<a href=\"https://colab.research.google.com/github/simodepth/Keyword-Research/blob/main/Find_Keyword_Opportunities_with_Google_Trends%2C_Python_and_Ahrefs.ipynb\" target=\"_parent\"><img src=\"https://colab.research.google.com/assets/colab-badge.svg\" alt=\"Open In Colab\"/></a>"
      ]
    },
    {
      "cell_type": "markdown",
      "source": [
        "#Find Keyword Opportunities with Google Trends and Ahrefs via Python\n",
        "\n",
        "\n",
        "---\n",
        "\n",
        "SEOs dispose of an endless spectrum of tools that they can take advantage of when carrying out a keyword research. Whether this is undoubtedly awesome, working out your way from every single tools may often result time-consuming.\n",
        "\n",
        "This cookie-cutter python script condenses repetitive manual processes as it is designed to disclose keyword opportunities relying on data merged from Ahrefs and Google Trends and finally categorized by entity.\n",
        "\n",
        "Find keyword opportunities for your site merging search data from Ahrefs site explorer and Google Trends."
      ],
      "metadata": {
        "id": "F-kSFmjCJ1iM"
      }
    },
    {
      "cell_type": "markdown",
      "source": [
        "#Requirements and Assumptions\n",
        "- Ahrefs access to the Site Explorer section\n",
        "- PyTrends to retreive data from Google Trends\n",
        "\n",
        "---\n",
        "###How to Export Ahrefs Keywords data for your site (step-by-step)\n",
        "\n",
        "1. Login at [Ahrefs](https://app.ahrefs.com/keywords-explorer)\n",
        "\n",
        "2. In Site Explorer paste your site URL in the search bar\n",
        "\n",
        "2. Click “Organic Keywords” on the left sidebar\n",
        "\n",
        "3. Click “Export” at the top right of the data table\n",
        "\n",
        "4. Choose “Full Report” and UTF-8 format\n",
        "\n",
        "5. Rename downloaded CSV as **ranking.csv**"
      ],
      "metadata": {
        "id": "fIjRYaOnB1AQ"
      }
    },
    {
      "cell_type": "code",
      "execution_count": null,
      "metadata": {
        "colab": {
          "base_uri": "https://localhost:8080/"
        },
        "id": "r9ApG5-gCOgH",
        "outputId": "5dfc69ef-98ba-48ae-fdc0-69641626c688",
        "cellView": "form"
      },
      "outputs": [
        {
          "output_type": "stream",
          "name": "stdout",
          "text": [
            "Collecting pytrends\n",
            "  Downloading pytrends-4.8.0.tar.gz (19 kB)\n",
            "Requirement already satisfied: requests>=2.0 in /usr/local/lib/python3.7/dist-packages (from pytrends) (2.23.0)\n",
            "Requirement already satisfied: pandas>=0.25 in /usr/local/lib/python3.7/dist-packages (from pytrends) (1.3.5)\n",
            "Requirement already satisfied: lxml in /usr/local/lib/python3.7/dist-packages (from pytrends) (4.2.6)\n",
            "Requirement already satisfied: numpy>=1.17.3 in /usr/local/lib/python3.7/dist-packages (from pandas>=0.25->pytrends) (1.21.6)\n",
            "Requirement already satisfied: pytz>=2017.3 in /usr/local/lib/python3.7/dist-packages (from pandas>=0.25->pytrends) (2022.1)\n",
            "Requirement already satisfied: python-dateutil>=2.7.3 in /usr/local/lib/python3.7/dist-packages (from pandas>=0.25->pytrends) (2.8.2)\n",
            "Requirement already satisfied: six>=1.5 in /usr/local/lib/python3.7/dist-packages (from python-dateutil>=2.7.3->pandas>=0.25->pytrends) (1.15.0)\n",
            "Requirement already satisfied: urllib3!=1.25.0,!=1.25.1,<1.26,>=1.21.1 in /usr/local/lib/python3.7/dist-packages (from requests>=2.0->pytrends) (1.24.3)\n",
            "Requirement already satisfied: idna<3,>=2.5 in /usr/local/lib/python3.7/dist-packages (from requests>=2.0->pytrends) (2.10)\n",
            "Requirement already satisfied: chardet<4,>=3.0.2 in /usr/local/lib/python3.7/dist-packages (from requests>=2.0->pytrends) (3.0.4)\n",
            "Requirement already satisfied: certifi>=2017.4.17 in /usr/local/lib/python3.7/dist-packages (from requests>=2.0->pytrends) (2021.10.8)\n",
            "Building wheels for collected packages: pytrends\n",
            "  Building wheel for pytrends (setup.py) ... \u001b[?25l\u001b[?25hdone\n",
            "  Created wheel for pytrends: filename=pytrends-4.8.0-py3-none-any.whl size=16126 sha256=c1e6673f27d3fb8ab8dc5292dff1a2abecbe84a0902d7730ddd9f082dc91e97d\n",
            "  Stored in directory: /root/.cache/pip/wheels/07/6f/5c/8174f98dec1bfbc7d5da4092854afcbcff4b26c3d9b66b5183\n",
            "Successfully built pytrends\n",
            "Installing collected packages: pytrends\n",
            "Successfully installed pytrends-4.8.0\n"
          ]
        }
      ],
      "source": [
        "#@title Install PyTrends\n",
        "!pip3 install pytrends"
      ]
    },
    {
      "cell_type": "code",
      "source": [
        "#@title Import Packages\n",
        "from pytrends.request import TrendReq\n",
        "import pandas as pd\n",
        "import time\n",
        "from google.colab import data_table\n",
        "%load_ext google.colab.data_table"
      ],
      "metadata": {
        "id": "U0QsHShU95L2",
        "cellView": "form"
      },
      "execution_count": null,
      "outputs": []
    },
    {
      "cell_type": "code",
      "source": [
        "#@title Insert Keyword\n",
        "keyword = \"board games\" #@param {type:\"string\"}"
      ],
      "metadata": {
        "id": "RmDDvjnz-Apb"
      },
      "execution_count": null,
      "outputs": []
    },
    {
      "cell_type": "code",
      "source": [
        "#@title Load up the dataframe \n",
        "rankdf = pd.read_csv('/content/ranking.csv')#@param {type:\"string\"}\n",
        "\n",
        "rankdf.drop(['Volume', 'KD', 'CPC', 'Previous traffic', 'Current traffic', 'Traffic change', 'Previous position', 'Current position', 'Position change', 'Previous URL inside', 'Previous URL', 'Current URL inside', 'Current URL', 'Previous date', 'Current date', 'SERP features'], axis=1, inplace=True)"
      ],
      "metadata": {
        "id": "rpwDSr__-cSe"
      },
      "execution_count": null,
      "outputs": []
    },
    {
      "cell_type": "code",
      "source": [
        "#@title Run PyTrends\n",
        "pytrends = TrendReq(hl='en-US', tz=360)\n",
        "\n",
        "kw_list = []\n",
        "kw_list.append(keyword)\n",
        "\n",
        "pytrends.build_payload(kw_list, cat=0, timeframe='today 5-y', geo='', gprop='')"
      ],
      "metadata": {
        "id": "R98wW65eAP2n"
      },
      "execution_count": null,
      "outputs": []
    },
    {
      "cell_type": "code",
      "source": [
        "#@title Get Topics\n",
        "gettopics = pytrends.related_topics()\n",
        "stop = 0\n",
        "\n",
        "try:\n",
        "  breakout = list(gettopics.values())[0]['rising']['formattedValue']\n",
        "  title = list(gettopics.values())[0]['rising']['topic_title']\n",
        "  topic = list(gettopics.values())[0]['rising']['topic_type']\n",
        "except:\n",
        "  stop = 1"
      ],
      "metadata": {
        "id": "lS80fILrAUBy"
      },
      "execution_count": null,
      "outputs": []
    },
    {
      "cell_type": "code",
      "source": [
        "#@title Get Queries\n",
        "time.sleep(1)\n",
        "\n",
        "getqueries = pytrends.related_queries()\n",
        "\n",
        "try:\n",
        "  top = list(getqueries.values())[0]['top']['query']\n",
        "  rising = list(getqueries.values())[0]['rising']['query']\n",
        "except:\n",
        "  stop = 1"
      ],
      "metadata": {
        "id": "QVfNbkqcAYfK"
      },
      "execution_count": null,
      "outputs": []
    },
    {
      "cell_type": "code",
      "source": [
        "#@title Merge Ahrefs dataframe with Google Trends data\n",
        "if stop == 1:\n",
        "  print(\"No Top or Rising Trends Found. Try a diferent keyword\")\n",
        "\n",
        "data = list(zip(breakout,title,topic,top))\n",
        "\n",
        "trendsdf = pd.DataFrame(data, columns = ['Breakout %','Related Keyword','Entity Label','Top Queries'])\n",
        "\n",
        "mergedf = pd.merge(trendsdf, rankdf, left_on='Top Queries', right_on='Keyword', how='left').fillna(value='--')\n",
        "mergedf.drop(['Keyword'], axis=1, inplace=True)\n",
        "\n"
      ],
      "metadata": {
        "id": "2fBbh6hkAaaV"
      },
      "execution_count": null,
      "outputs": []
    },
    {
      "cell_type": "code",
      "source": [
        "print(\"For Keyword: \" + kw_list[0])\n",
        "data_table.DataTable(mergedf, include_index=False, num_rows_per_page=50)"
      ],
      "metadata": {
        "colab": {
          "base_uri": "https://localhost:8080/",
          "height": 473
        },
        "id": "Y5gFNqaAAigU",
        "outputId": "e5516f79-010c-4f57-db2b-0ade607966bb"
      },
      "execution_count": null,
      "outputs": [
        {
          "output_type": "stream",
          "name": "stdout",
          "text": [
            "For Keyword: board games\n"
          ]
        },
        {
          "output_type": "execute_result",
          "data": {
            "text/html": [
              "<div>\n",
              "<style scoped>\n",
              "    .dataframe tbody tr th:only-of-type {\n",
              "        vertical-align: middle;\n",
              "    }\n",
              "\n",
              "    .dataframe tbody tr th {\n",
              "        vertical-align: top;\n",
              "    }\n",
              "\n",
              "    .dataframe thead th {\n",
              "        text-align: right;\n",
              "    }\n",
              "</style>\n",
              "<table border=\"1\" class=\"dataframe\">\n",
              "  <thead>\n",
              "    <tr style=\"text-align: right;\">\n",
              "      <th></th>\n",
              "      <th>Breakout %</th>\n",
              "      <th>Related Keyword</th>\n",
              "      <th>Entity Label</th>\n",
              "      <th>Top Queries</th>\n",
              "    </tr>\n",
              "  </thead>\n",
              "  <tbody>\n",
              "    <tr>\n",
              "      <th>0</th>\n",
              "      <td>+4,200%</td>\n",
              "      <td>Google Doodle</td>\n",
              "      <td>Topic</td>\n",
              "      <td>board game</td>\n",
              "    </tr>\n",
              "    <tr>\n",
              "      <th>1</th>\n",
              "      <td>+2,950%</td>\n",
              "      <td>Nintendo Switch</td>\n",
              "      <td>Topic</td>\n",
              "      <td>best board games</td>\n",
              "    </tr>\n",
              "    <tr>\n",
              "      <th>2</th>\n",
              "      <td>+2,900%</td>\n",
              "      <td>Gloomhaven</td>\n",
              "      <td>Board game</td>\n",
              "      <td>best games</td>\n",
              "    </tr>\n",
              "    <tr>\n",
              "      <th>3</th>\n",
              "      <td>+1,350%</td>\n",
              "      <td>Doodle</td>\n",
              "      <td>Topic</td>\n",
              "      <td>play board games</td>\n",
              "    </tr>\n",
              "    <tr>\n",
              "      <th>4</th>\n",
              "      <td>+800%</td>\n",
              "      <td>Escape room</td>\n",
              "      <td>Topic</td>\n",
              "      <td>kids board games</td>\n",
              "    </tr>\n",
              "    <tr>\n",
              "      <th>5</th>\n",
              "      <td>+650%</td>\n",
              "      <td>Codenames</td>\n",
              "      <td>Board game</td>\n",
              "      <td>kids games</td>\n",
              "    </tr>\n",
              "    <tr>\n",
              "      <th>6</th>\n",
              "      <td>+600%</td>\n",
              "      <td>Board Game Arena</td>\n",
              "      <td>Website</td>\n",
              "      <td>online board games</td>\n",
              "    </tr>\n",
              "    <tr>\n",
              "      <th>7</th>\n",
              "      <td>+400%</td>\n",
              "      <td>Exploding Kittens</td>\n",
              "      <td>Board game</td>\n",
              "      <td>online games</td>\n",
              "    </tr>\n",
              "    <tr>\n",
              "      <th>8</th>\n",
              "      <td>+400%</td>\n",
              "      <td>Scythe</td>\n",
              "      <td>Topic</td>\n",
              "      <td>family games</td>\n",
              "    </tr>\n",
              "    <tr>\n",
              "      <th>9</th>\n",
              "      <td>+200%</td>\n",
              "      <td>Indoor games and sports</td>\n",
              "      <td>Topic</td>\n",
              "      <td>family board games</td>\n",
              "    </tr>\n",
              "    <tr>\n",
              "      <th>10</th>\n",
              "      <td>+190%</td>\n",
              "      <td>Uno</td>\n",
              "      <td>Card game</td>\n",
              "      <td>top board games</td>\n",
              "    </tr>\n",
              "    <tr>\n",
              "      <th>11</th>\n",
              "      <td>+180%</td>\n",
              "      <td>Sequence</td>\n",
              "      <td>Board game</td>\n",
              "      <td>board games for kids</td>\n",
              "    </tr>\n",
              "    <tr>\n",
              "      <th>12</th>\n",
              "      <td>+160%</td>\n",
              "      <td>Betrayal at House on the Hill</td>\n",
              "      <td>Board game</td>\n",
              "      <td>games for kids</td>\n",
              "    </tr>\n",
              "    <tr>\n",
              "      <th>13</th>\n",
              "      <td>+160%</td>\n",
              "      <td>Kickstarter</td>\n",
              "      <td>Corporation</td>\n",
              "      <td>card board games</td>\n",
              "    </tr>\n",
              "    <tr>\n",
              "      <th>14</th>\n",
              "      <td>+140%</td>\n",
              "      <td>BIG W</td>\n",
              "      <td>Discount store company</td>\n",
              "      <td>card games</td>\n",
              "    </tr>\n",
              "    <tr>\n",
              "      <th>15</th>\n",
              "      <td>+40%</td>\n",
              "      <td>Family</td>\n",
              "      <td>Topic</td>\n",
              "      <td>games to play</td>\n",
              "    </tr>\n",
              "    <tr>\n",
              "      <th>16</th>\n",
              "      <td>+40%</td>\n",
              "      <td>good</td>\n",
              "      <td>Topic</td>\n",
              "      <td>fun board games</td>\n",
              "    </tr>\n",
              "  </tbody>\n",
              "</table>\n",
              "</div>"
            ],
            "application/vnd.google.colaboratory.module+javascript": "\n      import \"https://ssl.gstatic.com/colaboratory/data_table/f872b2c2305463fd/data_table.js\";\n\n      window.createDataTable({\n        data: [[\"+4,200%\",\n\"Google Doodle\",\n\"Topic\",\n\"board game\"],\n [\"+2,950%\",\n\"Nintendo Switch\",\n\"Topic\",\n\"best board games\"],\n [\"+2,900%\",\n\"Gloomhaven\",\n\"Board game\",\n\"best games\"],\n [\"+1,350%\",\n\"Doodle\",\n\"Topic\",\n\"play board games\"],\n [\"+800%\",\n\"Escape room\",\n\"Topic\",\n\"kids board games\"],\n [\"+650%\",\n\"Codenames\",\n\"Board game\",\n\"kids games\"],\n [\"+600%\",\n\"Board Game Arena\",\n\"Website\",\n\"online board games\"],\n [\"+400%\",\n\"Exploding Kittens\",\n\"Board game\",\n\"online games\"],\n [\"+400%\",\n\"Scythe\",\n\"Topic\",\n\"family games\"],\n [\"+200%\",\n\"Indoor games and sports\",\n\"Topic\",\n\"family board games\"],\n [\"+190%\",\n\"Uno\",\n\"Card game\",\n\"top board games\"],\n [\"+180%\",\n\"Sequence\",\n\"Board game\",\n\"board games for kids\"],\n [\"+160%\",\n\"Betrayal at House on the Hill\",\n\"Board game\",\n\"games for kids\"],\n [\"+160%\",\n\"Kickstarter\",\n\"Corporation\",\n\"card board games\"],\n [\"+140%\",\n\"BIG W\",\n\"Discount store company\",\n\"card games\"],\n [\"+40%\",\n\"Family\",\n\"Topic\",\n\"games to play\"],\n [\"+40%\",\n\"good\",\n\"Topic\",\n\"fun board games\"]],\n        columns: [[\"string\", \"Breakout %\"], [\"string\", \"Related Keyword\"], [\"string\", \"Entity Label\"], [\"string\", \"Top Queries\"]],\n        columnOptions: [],\n        rowsPerPage: 50,\n        helpUrl: \"https://colab.research.google.com/notebooks/data_table.ipynb\",\n        suppressOutputScrolling: true,\n        minimumWidth: undefined,\n      });\n    ",
            "text/plain": [
              "<google.colab.data_table.DataTable object>"
            ]
          },
          "metadata": {},
          "execution_count": 14
        }
      ]
    }
  ]
}