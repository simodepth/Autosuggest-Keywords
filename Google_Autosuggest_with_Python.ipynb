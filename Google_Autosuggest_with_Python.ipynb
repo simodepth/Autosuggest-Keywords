{
  "nbformat": 4,
  "nbformat_minor": 0,
  "metadata": {
    "colab": {
      "name": "Google Autosuggest with Python.ipynb",
      "provenance": [],
      "collapsed_sections": [],
      "include_colab_link": true
    },
    "kernelspec": {
      "name": "python3",
      "display_name": "Python 3"
    },
    "language_info": {
      "name": "python"
    },
    "accelerator": "GPU"
  },
  "cells": [
    {
      "cell_type": "markdown",
      "metadata": {
        "id": "view-in-github",
        "colab_type": "text"
      },
      "source": [
        "<a href=\"https://colab.research.google.com/github/simodepth/Keyword-Research/blob/main/Google_Autosuggest_with_Python.ipynb\" target=\"_parent\"><img src=\"https://colab.research.google.com/assets/colab-badge.svg\" alt=\"Open In Colab\"/></a>"
      ]
    },
    {
      "cell_type": "markdown",
      "source": [
        "##This framework is property of [Simone De Palma](https://seodepths.com/about/).\n",
        "\n",
        "\n",
        "## Make a copy to use it and if you find it helpful, you could [buy me a coffee](https://www.buymeacoffee.com/depasimo96) ☕️\n",
        "\n",
        "\n",
        "\n"
      ],
      "metadata": {
        "id": "UesX_JIhlj4K"
      }
    },
    {
      "cell_type": "markdown",
      "source": [
        "#🚀 Run Google Autosuggest to find keywords ideas in bulk \n",
        "\n",
        "\n",
        "---\n",
        "\n",
        "The following framework uses `urllib` and `requests_html` Python libraries to scrape Google Autosuggest and retrieve endless chunks of keywords combinations produced by term suffixes and content angles of your choice.\n",
        "\n",
        "\n"
      ],
      "metadata": {
        "id": "KbASV8aAiiV6"
      }
    },
    {
      "cell_type": "markdown",
      "source": [
        "#Requirements & Assumptions\n",
        "\n",
        "- Please note the framework is not set on a specific target location, so the output does not provide local results\n",
        "- The output is messed with unwanted **punctuations**. You will be able to copy and paste the output onto a txt file, thus into a spreadsheet where you want to play around with filters to phase the punctuation.\n",
        "\n",
        "**Should you find a way to clean up the output, please feel free to fork up the last part of the script!** "
      ],
      "metadata": {
        "id": "IORSVBkiGGmm"
      }
    },
    {
      "cell_type": "code",
      "source": [
        "!pip install requests_html"
      ],
      "metadata": {
        "colab": {
          "base_uri": "https://localhost:8080/"
        },
        "id": "0fuz3sOsv1f6",
        "outputId": "4f54413f-2bd3-4d8c-e150-c433bc06d09d",
        "cellView": "code"
      },
      "execution_count": 1,
      "outputs": [
        {
          "output_type": "stream",
          "name": "stdout",
          "text": [
            "Looking in indexes: https://pypi.org/simple, https://us-python.pkg.dev/colab-wheels/public/simple/\n",
            "Requirement already satisfied: requests_html in /usr/local/lib/python3.7/dist-packages (0.10.0)\n",
            "Requirement already satisfied: w3lib in /usr/local/lib/python3.7/dist-packages (from requests_html) (1.22.0)\n",
            "Requirement already satisfied: requests in /usr/local/lib/python3.7/dist-packages (from requests_html) (2.23.0)\n",
            "Requirement already satisfied: bs4 in /usr/local/lib/python3.7/dist-packages (from requests_html) (0.0.1)\n",
            "Requirement already satisfied: pyppeteer>=0.0.14 in /usr/local/lib/python3.7/dist-packages (from requests_html) (1.0.2)\n",
            "Requirement already satisfied: pyquery in /usr/local/lib/python3.7/dist-packages (from requests_html) (1.4.3)\n",
            "Requirement already satisfied: fake-useragent in /usr/local/lib/python3.7/dist-packages (from requests_html) (0.1.11)\n",
            "Requirement already satisfied: parse in /usr/local/lib/python3.7/dist-packages (from requests_html) (1.19.0)\n",
            "Requirement already satisfied: websockets<11.0,>=10.0 in /usr/local/lib/python3.7/dist-packages (from pyppeteer>=0.0.14->requests_html) (10.3)\n",
            "Requirement already satisfied: certifi>=2021 in /usr/local/lib/python3.7/dist-packages (from pyppeteer>=0.0.14->requests_html) (2022.6.15)\n",
            "Requirement already satisfied: appdirs<2.0.0,>=1.4.3 in /usr/local/lib/python3.7/dist-packages (from pyppeteer>=0.0.14->requests_html) (1.4.4)\n",
            "Requirement already satisfied: importlib-metadata>=1.4 in /usr/local/lib/python3.7/dist-packages (from pyppeteer>=0.0.14->requests_html) (4.12.0)\n",
            "Requirement already satisfied: pyee<9.0.0,>=8.1.0 in /usr/local/lib/python3.7/dist-packages (from pyppeteer>=0.0.14->requests_html) (8.2.2)\n",
            "Requirement already satisfied: urllib3<2.0.0,>=1.25.8 in /usr/local/lib/python3.7/dist-packages (from pyppeteer>=0.0.14->requests_html) (1.25.11)\n",
            "Requirement already satisfied: tqdm<5.0.0,>=4.42.1 in /usr/local/lib/python3.7/dist-packages (from pyppeteer>=0.0.14->requests_html) (4.64.0)\n",
            "Requirement already satisfied: zipp>=0.5 in /usr/local/lib/python3.7/dist-packages (from importlib-metadata>=1.4->pyppeteer>=0.0.14->requests_html) (3.8.1)\n",
            "Requirement already satisfied: typing-extensions>=3.6.4 in /usr/local/lib/python3.7/dist-packages (from importlib-metadata>=1.4->pyppeteer>=0.0.14->requests_html) (4.1.1)\n",
            "Requirement already satisfied: beautifulsoup4 in /usr/local/lib/python3.7/dist-packages (from bs4->requests_html) (4.6.3)\n",
            "Requirement already satisfied: cssselect>0.7.9 in /usr/local/lib/python3.7/dist-packages (from pyquery->requests_html) (1.1.0)\n",
            "Requirement already satisfied: lxml>=2.1 in /usr/local/lib/python3.7/dist-packages (from pyquery->requests_html) (4.2.6)\n",
            "Requirement already satisfied: idna<3,>=2.5 in /usr/local/lib/python3.7/dist-packages (from requests->requests_html) (2.10)\n",
            "Requirement already satisfied: chardet<4,>=3.0.2 in /usr/local/lib/python3.7/dist-packages (from requests->requests_html) (3.0.4)\n",
            "Requirement already satisfied: six>=1.4.1 in /usr/local/lib/python3.7/dist-packages (from w3lib->requests_html) (1.15.0)\n"
          ]
        }
      ]
    },
    {
      "cell_type": "code",
      "source": [
        "#@title Run Import Modules\n",
        "import requests\n",
        "import urllib\n",
        "import json\n",
        "import operator\n",
        "import pandas as pd\n",
        "from requests_html import HTML\n",
        "from requests_html import HTMLSession\n",
        "from urllib.parse import (parse_qsl, urlsplit)\n",
        "import time\n",
        "import string\n",
        "import nltk\n",
        "nltk.download('punkt')\n",
        "!pip install stop_words\n",
        "from stop_words import get_stop_words\n",
        "from google.colab import files\n",
        "%load_ext google.colab.data_table\n",
        "from collections import Counter\n",
        "from json import loads\n",
        "import numpy as np\n"
      ],
      "metadata": {
        "id": "-Du5Iue8l9dr",
        "colab": {
          "base_uri": "https://localhost:8080/"
        },
        "outputId": "8db51e6e-efa4-47a7-f7ab-96ce12e488f1"
      },
      "execution_count": 16,
      "outputs": [
        {
          "output_type": "stream",
          "name": "stderr",
          "text": [
            "[nltk_data] Downloading package punkt to /root/nltk_data...\n",
            "[nltk_data]   Package punkt is already up-to-date!\n"
          ]
        },
        {
          "output_type": "stream",
          "name": "stdout",
          "text": [
            "Looking in indexes: https://pypi.org/simple, https://us-python.pkg.dev/colab-wheels/public/simple/\n",
            "Requirement already satisfied: stop_words in /usr/local/lib/python3.7/dist-packages (2018.7.23)\n",
            "The google.colab.data_table extension is already loaded. To reload it, use:\n",
            "  %reload_ext google.colab.data_table\n"
          ]
        }
      ]
    },
    {
      "cell_type": "markdown",
      "source": [
        "#Set up connections with Google SERPs"
      ],
      "metadata": {
        "id": "zFcqyMY7luoT"
      }
    },
    {
      "cell_type": "code",
      "source": [
        "def get_source(url):\n",
        "\n",
        "    try:\n",
        "        session = HTMLSession()\n",
        "        response = session.get(url)\n",
        "        return response\n",
        "    except requests.exceptions.RequestException as e:\n",
        "        print(e)"
      ],
      "metadata": {
        "id": "o97ujs1tmWvr"
      },
      "execution_count": 3,
      "outputs": []
    },
    {
      "cell_type": "code",
      "source": [
        "def get_results(query):\n",
        "    query = urllib.parse.quote_plus(query)\n",
        "    response = get_source(\"https://suggestqueries.google.com/complete/search?output=chrome&hl=en&q=\" + query)\n",
        "    results = json.loads(response.text)\n",
        "    return results"
      ],
      "metadata": {
        "id": "7xXrE89ome8N"
      },
      "execution_count": 4,
      "outputs": []
    },
    {
      "cell_type": "code",
      "source": [
        "#@title Type your Keyword\n",
        "lang_code = \"en-gb\"  #@param {type:\"string\"}\n",
        "search_term = \"retirement villages\" #@param {type:\"string\"}\n",
        "results = get_results(search_term)\n",
        "results"
      ],
      "metadata": {
        "colab": {
          "base_uri": "https://localhost:8080/"
        },
        "id": "8uIuuoFrmqnk",
        "outputId": "f273f9b6-12a0-41e3-a191-39fa0993d4b5"
      },
      "execution_count": 27,
      "outputs": [
        {
          "output_type": "execute_result",
          "data": {
            "text/plain": [
              "['retirement villages',\n",
              " ['retirement villages california',\n",
              "  'retirement villages north carolina',\n",
              "  'retirement villages near me',\n",
              "  'retirement villages in florida',\n",
              "  'retirement villages in arizona',\n",
              "  'retirement villages in south carolina',\n",
              "  'retirement villages in tennessee',\n",
              "  'retirement villages in texas'],\n",
              " ['', '', '', '', '', '', '', ''],\n",
              " [],\n",
              " {'google:clientdata': {'bpc': False, 'phi': 0, 'tlw': False},\n",
              "  'google:suggestrelevance': [601, 600, 555, 554, 553, 552, 551, 550],\n",
              "  'google:suggestsubtypes': [[402],\n",
              "   [402],\n",
              "   [512],\n",
              "   [512],\n",
              "   [512],\n",
              "   [512],\n",
              "   [512],\n",
              "   [512]],\n",
              "  'google:suggesttype': ['QUERY',\n",
              "   'QUERY',\n",
              "   'QUERY',\n",
              "   'QUERY',\n",
              "   'QUERY',\n",
              "   'QUERY',\n",
              "   'QUERY',\n",
              "   'QUERY'],\n",
              "  'google:verbatimrelevance': 1300}]"
            ]
          },
          "metadata": {},
          "execution_count": 27
        }
      ]
    },
    {
      "cell_type": "markdown",
      "source": [
        "#Let's format the results"
      ],
      "metadata": {
        "id": "lvVH4nkmjuHq"
      }
    },
    {
      "cell_type": "code",
      "source": [
        "def format_results(results):\n",
        "    suggestions = []\n",
        "    for index, value in enumerate(results[1]):\n",
        "        suggestion = {'term': value, 'relevance': results[4]['google:suggestrelevance'][index]}\n",
        "        suggestions.append(suggestion)\n",
        "    return suggestions"
      ],
      "metadata": {
        "id": "6fhRNzuNnFMp"
      },
      "execution_count": 6,
      "outputs": []
    },
    {
      "cell_type": "code",
      "source": [
        "formatted_results = format_results(results)\n",
        "formatted_results\n"
      ],
      "metadata": {
        "colab": {
          "base_uri": "https://localhost:8080/"
        },
        "id": "wbwikz_DnUGy",
        "outputId": "34390431-2c04-46f0-baf1-979c77299f9b"
      },
      "execution_count": 7,
      "outputs": [
        {
          "output_type": "execute_result",
          "data": {
            "text/plain": [
              "[{'relevance': 601, 'term': 'retirement villages california'},\n",
              " {'relevance': 600, 'term': 'retirement villages north carolina'},\n",
              " {'relevance': 555, 'term': 'retirement villages near me'},\n",
              " {'relevance': 554, 'term': 'retirement villages in florida'},\n",
              " {'relevance': 553, 'term': 'retirement villages in arizona'},\n",
              " {'relevance': 552, 'term': 'retirement villages in south carolina'},\n",
              " {'relevance': 551, 'term': 'retirement villages in tennessee'},\n",
              " {'relevance': 550, 'term': 'retirement villages in texas'}]"
            ]
          },
          "metadata": {},
          "execution_count": 7
        }
      ]
    },
    {
      "cell_type": "markdown",
      "source": [
        "🔗 **\"Relevance\"**  refers to an automated estimation based on the frequency that specific term is subjected to in the search results page"
      ],
      "metadata": {
        "id": "BsqHNPuHHcZ1"
      }
    },
    {
      "cell_type": "markdown",
      "source": [
        "#Spice-up the research by adding some term suffixes 🌶"
      ],
      "metadata": {
        "id": "X2SUyePMj1zC"
      }
    },
    {
      "cell_type": "code",
      "source": [
        "def get_expanded_term_suffixes():\n",
        "    expanded_term_suffixes = ['a', 'b', 'c', 'd', 'e', 'f', 'g', 'h', 'i', 'j', 'k', 'l', 'm',\n",
        "                             'n', 'o', 'p', 'q', 'r', 's', 't', 'u', 'v', 'w', 'x', 'y', 'z']\n",
        "    return expanded_term_suffixes"
      ],
      "metadata": {
        "id": "NYXmYDxjn8rb"
      },
      "execution_count": 8,
      "outputs": []
    },
    {
      "cell_type": "markdown",
      "source": [
        "#Define your Content Angle according to the target funnel stage"
      ],
      "metadata": {
        "id": "YR46EYM8kSAd"
      }
    },
    {
      "cell_type": "code",
      "source": [
        "def get_expanded_term_prefixes():\n",
        "    expanded_term_prefixes = ['what *', 'where *', 'how to *', 'why *', 'buy*', 'how much*',\n",
        "                              'best *', 'worse *', 'rent*', 'sale*', 'offer*','vs*','or*'\n",
        "                             ]\n",
        "    return expanded_term_prefixes"
      ],
      "metadata": {
        "id": "zbEaw8GYoChC"
      },
      "execution_count": 9,
      "outputs": []
    },
    {
      "cell_type": "markdown",
      "source": [
        "Content angle default's definition: \n",
        "\n",
        "\n",
        "```\n",
        "# ['what *', 'where *', 'how to *', 'why *', 'vs*', 'or*', 'buy*', 'how much*',\n",
        "                              'best *', 'worse *', 'tutorial *', 'tips *', 'ideas *', 'review *', 'guide *' \n",
        "                             ]\n",
        "```\n",
        "\n"
      ],
      "metadata": {
        "id": "5TgR_6nZ_DCX"
      }
    },
    {
      "cell_type": "markdown",
      "source": [
        "#Make sure to expand the search "
      ],
      "metadata": {
        "id": "EAejRN2RkoNS"
      }
    },
    {
      "cell_type": "code",
      "source": [
        "def get_expanded_terms(query):\n",
        "\n",
        "    expanded_term_prefixes = get_expanded_term_prefixes()\n",
        "    expanded_term_suffixes = get_expanded_term_suffixes()   \n",
        "\n",
        "    terms = []\n",
        "    terms.append(query)\n",
        "\n",
        "    for term in expanded_term_prefixes:\n",
        "        terms.append(term + ' ' + query)\n",
        "\n",
        "    for term in expanded_term_suffixes:\n",
        "        terms.append(query + ' ' + term)\n",
        "\n",
        "    return terms\n"
      ],
      "metadata": {
        "id": "PTH910b3oeke"
      },
      "execution_count": 10,
      "outputs": []
    },
    {
      "cell_type": "code",
      "source": [
        "get_expanded_terms(search_term)\n"
      ],
      "metadata": {
        "colab": {
          "base_uri": "https://localhost:8080/"
        },
        "id": "B2EnmWp9omrr",
        "outputId": "6f5d8e42-02bb-41a8-a083-5a02b5b32d35"
      },
      "execution_count": 11,
      "outputs": [
        {
          "output_type": "execute_result",
          "data": {
            "text/plain": [
              "['retirement villages',\n",
              " 'what * retirement villages',\n",
              " 'where * retirement villages',\n",
              " 'how to * retirement villages',\n",
              " 'why * retirement villages',\n",
              " 'buy* retirement villages',\n",
              " 'how much* retirement villages',\n",
              " 'best * retirement villages',\n",
              " 'worse * retirement villages',\n",
              " 'rent* retirement villages',\n",
              " 'sale* retirement villages',\n",
              " 'offer* retirement villages',\n",
              " 'vs* retirement villages',\n",
              " 'or* retirement villages',\n",
              " 'retirement villages a',\n",
              " 'retirement villages b',\n",
              " 'retirement villages c',\n",
              " 'retirement villages d',\n",
              " 'retirement villages e',\n",
              " 'retirement villages f',\n",
              " 'retirement villages g',\n",
              " 'retirement villages h',\n",
              " 'retirement villages i',\n",
              " 'retirement villages j',\n",
              " 'retirement villages k',\n",
              " 'retirement villages l',\n",
              " 'retirement villages m',\n",
              " 'retirement villages n',\n",
              " 'retirement villages o',\n",
              " 'retirement villages p',\n",
              " 'retirement villages q',\n",
              " 'retirement villages r',\n",
              " 'retirement villages s',\n",
              " 'retirement villages t',\n",
              " 'retirement villages u',\n",
              " 'retirement villages v',\n",
              " 'retirement villages w',\n",
              " 'retirement villages x',\n",
              " 'retirement villages y',\n",
              " 'retirement villages z']"
            ]
          },
          "metadata": {},
          "execution_count": 11
        }
      ]
    },
    {
      "cell_type": "markdown",
      "source": [
        "#Look for further suggestions\n",
        "\n",
        "\n"
      ],
      "metadata": {
        "id": "02N29aAokvft"
      }
    },
    {
      "cell_type": "code",
      "source": [
        "def get_expanded_suggestions(query):\n",
        "\n",
        "    all_results = []\n",
        "\n",
        "    expanded_terms = get_expanded_terms(query)\n",
        "    for term in expanded_terms:\n",
        "        results = get_results(term)\n",
        "        results = format_results(results)\n",
        "        all_results = all_results + results\n",
        "        all_results = sorted(all_results, key=lambda k: k['relevance'], reverse=True)\n",
        "    return all_results\n"
      ],
      "metadata": {
        "id": "BDP4KZRMov-H"
      },
      "execution_count": 12,
      "outputs": []
    },
    {
      "cell_type": "code",
      "source": [
        "#@title Obtain the Output and Save the Data frame\n",
        "expanded_results = get_expanded_suggestions(search_term)\n",
        "expanded_results_df = pd.DataFrame(expanded_results)\n",
        "expanded_results_df.columns = ['Keywords', 'Relevance']\n",
        "expanded_results_df.to_csv('keywords.csv')\n",
        "expanded_results_df"
      ],
      "metadata": {
        "colab": {
          "base_uri": "https://localhost:8080/",
          "height": 647
        },
        "id": "7OyDeDORozwd",
        "outputId": "16b7d0b5-1bc3-46fd-cdd8-11c9dc347064"
      },
      "execution_count": 17,
      "outputs": [
        {
          "output_type": "execute_result",
          "data": {
            "text/plain": [
              "                              Keywords  Relevance\n",
              "0         retirement villages victoria       1252\n",
              "1          retirement villages arizona       1251\n",
              "2         retirement villages colorado       1251\n",
              "3    retirement villages ocala florida       1251\n",
              "4       retirement villages queensland       1251\n",
              "..                                 ...        ...\n",
              "272        retirement villages vermont        550\n",
              "273     retirement villages wollongong        550\n",
              "274   are retirement villages worth it        550\n",
              "275    retirement villages yeppoon qld        550\n",
              "276        retirement homes zanesville        550\n",
              "\n",
              "[277 rows x 2 columns]"
            ],
            "text/html": [
              "\n",
              "  <div id=\"df-26ed7641-7c8b-4fc9-9e9a-fd32d100a5b4\">\n",
              "    <div class=\"colab-df-container\">\n",
              "      <div>\n",
              "<style scoped>\n",
              "    .dataframe tbody tr th:only-of-type {\n",
              "        vertical-align: middle;\n",
              "    }\n",
              "\n",
              "    .dataframe tbody tr th {\n",
              "        vertical-align: top;\n",
              "    }\n",
              "\n",
              "    .dataframe thead th {\n",
              "        text-align: right;\n",
              "    }\n",
              "</style>\n",
              "<table border=\"1\" class=\"dataframe\">\n",
              "  <thead>\n",
              "    <tr style=\"text-align: right;\">\n",
              "      <th></th>\n",
              "      <th>Keywords</th>\n",
              "      <th>Relevance</th>\n",
              "    </tr>\n",
              "  </thead>\n",
              "  <tbody>\n",
              "    <tr>\n",
              "      <th>0</th>\n",
              "      <td>retirement villages victoria</td>\n",
              "      <td>1252</td>\n",
              "    </tr>\n",
              "    <tr>\n",
              "      <th>1</th>\n",
              "      <td>retirement villages arizona</td>\n",
              "      <td>1251</td>\n",
              "    </tr>\n",
              "    <tr>\n",
              "      <th>2</th>\n",
              "      <td>retirement villages colorado</td>\n",
              "      <td>1251</td>\n",
              "    </tr>\n",
              "    <tr>\n",
              "      <th>3</th>\n",
              "      <td>retirement villages ocala florida</td>\n",
              "      <td>1251</td>\n",
              "    </tr>\n",
              "    <tr>\n",
              "      <th>4</th>\n",
              "      <td>retirement villages queensland</td>\n",
              "      <td>1251</td>\n",
              "    </tr>\n",
              "    <tr>\n",
              "      <th>...</th>\n",
              "      <td>...</td>\n",
              "      <td>...</td>\n",
              "    </tr>\n",
              "    <tr>\n",
              "      <th>272</th>\n",
              "      <td>retirement villages vermont</td>\n",
              "      <td>550</td>\n",
              "    </tr>\n",
              "    <tr>\n",
              "      <th>273</th>\n",
              "      <td>retirement villages wollongong</td>\n",
              "      <td>550</td>\n",
              "    </tr>\n",
              "    <tr>\n",
              "      <th>274</th>\n",
              "      <td>are retirement villages worth it</td>\n",
              "      <td>550</td>\n",
              "    </tr>\n",
              "    <tr>\n",
              "      <th>275</th>\n",
              "      <td>retirement villages yeppoon qld</td>\n",
              "      <td>550</td>\n",
              "    </tr>\n",
              "    <tr>\n",
              "      <th>276</th>\n",
              "      <td>retirement homes zanesville</td>\n",
              "      <td>550</td>\n",
              "    </tr>\n",
              "  </tbody>\n",
              "</table>\n",
              "<p>277 rows × 2 columns</p>\n",
              "</div>\n",
              "      <button class=\"colab-df-convert\" onclick=\"convertToInteractive('df-26ed7641-7c8b-4fc9-9e9a-fd32d100a5b4')\"\n",
              "              title=\"Convert this dataframe to an interactive table.\"\n",
              "              style=\"display:none;\">\n",
              "        \n",
              "  <svg xmlns=\"http://www.w3.org/2000/svg\" height=\"24px\"viewBox=\"0 0 24 24\"\n",
              "       width=\"24px\">\n",
              "    <path d=\"M0 0h24v24H0V0z\" fill=\"none\"/>\n",
              "    <path d=\"M18.56 5.44l.94 2.06.94-2.06 2.06-.94-2.06-.94-.94-2.06-.94 2.06-2.06.94zm-11 1L8.5 8.5l.94-2.06 2.06-.94-2.06-.94L8.5 2.5l-.94 2.06-2.06.94zm10 10l.94 2.06.94-2.06 2.06-.94-2.06-.94-.94-2.06-.94 2.06-2.06.94z\"/><path d=\"M17.41 7.96l-1.37-1.37c-.4-.4-.92-.59-1.43-.59-.52 0-1.04.2-1.43.59L10.3 9.45l-7.72 7.72c-.78.78-.78 2.05 0 2.83L4 21.41c.39.39.9.59 1.41.59.51 0 1.02-.2 1.41-.59l7.78-7.78 2.81-2.81c.8-.78.8-2.07 0-2.86zM5.41 20L4 18.59l7.72-7.72 1.47 1.35L5.41 20z\"/>\n",
              "  </svg>\n",
              "      </button>\n",
              "      \n",
              "  <style>\n",
              "    .colab-df-container {\n",
              "      display:flex;\n",
              "      flex-wrap:wrap;\n",
              "      gap: 12px;\n",
              "    }\n",
              "\n",
              "    .colab-df-convert {\n",
              "      background-color: #E8F0FE;\n",
              "      border: none;\n",
              "      border-radius: 50%;\n",
              "      cursor: pointer;\n",
              "      display: none;\n",
              "      fill: #1967D2;\n",
              "      height: 32px;\n",
              "      padding: 0 0 0 0;\n",
              "      width: 32px;\n",
              "    }\n",
              "\n",
              "    .colab-df-convert:hover {\n",
              "      background-color: #E2EBFA;\n",
              "      box-shadow: 0px 1px 2px rgba(60, 64, 67, 0.3), 0px 1px 3px 1px rgba(60, 64, 67, 0.15);\n",
              "      fill: #174EA6;\n",
              "    }\n",
              "\n",
              "    [theme=dark] .colab-df-convert {\n",
              "      background-color: #3B4455;\n",
              "      fill: #D2E3FC;\n",
              "    }\n",
              "\n",
              "    [theme=dark] .colab-df-convert:hover {\n",
              "      background-color: #434B5C;\n",
              "      box-shadow: 0px 1px 3px 1px rgba(0, 0, 0, 0.15);\n",
              "      filter: drop-shadow(0px 1px 2px rgba(0, 0, 0, 0.3));\n",
              "      fill: #FFFFFF;\n",
              "    }\n",
              "  </style>\n",
              "\n",
              "      <script>\n",
              "        const buttonEl =\n",
              "          document.querySelector('#df-26ed7641-7c8b-4fc9-9e9a-fd32d100a5b4 button.colab-df-convert');\n",
              "        buttonEl.style.display =\n",
              "          google.colab.kernel.accessAllowed ? 'block' : 'none';\n",
              "\n",
              "        async function convertToInteractive(key) {\n",
              "          const element = document.querySelector('#df-26ed7641-7c8b-4fc9-9e9a-fd32d100a5b4');\n",
              "          const dataTable =\n",
              "            await google.colab.kernel.invokeFunction('convertToInteractive',\n",
              "                                                     [key], {});\n",
              "          if (!dataTable) return;\n",
              "\n",
              "          const docLinkHtml = 'Like what you see? Visit the ' +\n",
              "            '<a target=\"_blank\" href=https://colab.research.google.com/notebooks/data_table.ipynb>data table notebook</a>'\n",
              "            + ' to learn more about interactive tables.';\n",
              "          element.innerHTML = '';\n",
              "          dataTable['output_type'] = 'display_data';\n",
              "          await google.colab.output.renderOutput(dataTable, element);\n",
              "          const docLink = document.createElement('div');\n",
              "          docLink.innerHTML = docLinkHtml;\n",
              "          element.appendChild(docLink);\n",
              "        }\n",
              "      </script>\n",
              "    </div>\n",
              "  </div>\n",
              "  "
            ],
            "application/vnd.google.colaboratory.module+javascript": "\n      import \"https://ssl.gstatic.com/colaboratory/data_table/f872b2c2305463fd/data_table.js\";\n\n      window.createDataTable({\n        data: [[{\n            'v': 0,\n            'f': \"0\",\n        },\n\"retirement villages victoria\",\n{\n            'v': 1252,\n            'f': \"1252\",\n        }],\n [{\n            'v': 1,\n            'f': \"1\",\n        },\n\"retirement villages arizona\",\n{\n            'v': 1251,\n            'f': \"1251\",\n        }],\n [{\n            'v': 2,\n            'f': \"2\",\n        },\n\"retirement villages colorado\",\n{\n            'v': 1251,\n            'f': \"1251\",\n        }],\n [{\n            'v': 3,\n            'f': \"3\",\n        },\n\"retirement villages ocala florida\",\n{\n            'v': 1251,\n            'f': \"1251\",\n        }],\n [{\n            'v': 4,\n            'f': \"4\",\n        },\n\"retirement villages queensland\",\n{\n            'v': 1251,\n            'f': \"1251\",\n        }],\n [{\n            'v': 5,\n            'f': \"5\",\n        },\n\"retirement villages south carolina\",\n{\n            'v': 1251,\n            'f': \"1251\",\n        }],\n [{\n            'v': 6,\n            'f': \"6\",\n        },\n\"retirement villages uk\",\n{\n            'v': 1251,\n            'f': \"1251\",\n        }],\n [{\n            'v': 7,\n            'f': \"7\",\n        },\n\"retirement villages victoria point\",\n{\n            'v': 1251,\n            'f': \"1251\",\n        }],\n [{\n            'v': 8,\n            'f': \"8\",\n        },\n\"retirement villages near me\",\n{\n            'v': 1250,\n            'f': \"1250\",\n        }],\n [{\n            'v': 9,\n            'f': \"9\",\n        },\n\"retirement villages arkansas\",\n{\n            'v': 1250,\n            'f': \"1250\",\n        }],\n [{\n            'v': 10,\n            'f': \"10\",\n        },\n\"retirement villages by the sea\",\n{\n            'v': 1250,\n            'f': \"1250\",\n        }],\n [{\n            'v': 11,\n            'f': \"11\",\n        },\n\"retirement villages california\",\n{\n            'v': 1250,\n            'f': \"1250\",\n        }],\n [{\n            'v': 12,\n            'f': \"12\",\n        },\n\"retirement villages florida\",\n{\n            'v': 1250,\n            'f': \"1250\",\n        }],\n [{\n            'v': 13,\n            'f': \"13\",\n        },\n\"retirement villages gold coast\",\n{\n            'v': 1250,\n            'f': \"1250\",\n        }],\n [{\n            'v': 14,\n            'f': \"14\",\n        },\n\"retirement villages hawaii\",\n{\n            'v': 1250,\n            'f': \"1250\",\n        }],\n [{\n            'v': 15,\n            'f': \"15\",\n        },\n\"retirement villages in florida\",\n{\n            'v': 1250,\n            'f': \"1250\",\n        }],\n [{\n            'v': 16,\n            'f': \"16\",\n        },\n\"retirement villages las vegas\",\n{\n            'v': 1250,\n            'f': \"1250\",\n        }],\n [{\n            'v': 17,\n            'f': \"17\",\n        },\n\"retirement villages montana\",\n{\n            'v': 1250,\n            'f': \"1250\",\n        }],\n [{\n            'v': 18,\n            'f': \"18\",\n        },\n\"retirement villages near me\",\n{\n            'v': 1250,\n            'f': \"1250\",\n        }],\n [{\n            'v': 19,\n            'f': \"19\",\n        },\n\"retirement villages ohio\",\n{\n            'v': 1250,\n            'f': \"1250\",\n        }],\n [{\n            'v': 20,\n            'f': \"20\",\n        },\n\"retirement villages pennsylvania\",\n{\n            'v': 1250,\n            'f': \"1250\",\n        }],\n [{\n            'v': 21,\n            'f': \"21\",\n        },\n\"retirement villages qld\",\n{\n            'v': 1250,\n            'f': \"1250\",\n        }],\n [{\n            'v': 22,\n            'f': \"22\",\n        },\n\"retirement villages sydney\",\n{\n            'v': 1250,\n            'f': \"1250\",\n        }],\n [{\n            'v': 23,\n            'f': \"23\",\n        },\n\"retirement villages toms river nj\",\n{\n            'v': 1250,\n            'f': \"1250\",\n        }],\n [{\n            'v': 24,\n            'f': \"24\",\n        },\n\"retirement villages usa\",\n{\n            'v': 1250,\n            'f': \"1250\",\n        }],\n [{\n            'v': 25,\n            'f': \"25\",\n        },\n\"retirement villages victor harbor\",\n{\n            'v': 1250,\n            'f': \"1250\",\n        }],\n [{\n            'v': 26,\n            'f': \"26\",\n        },\n\"retirement villages yorkshire\",\n{\n            'v': 1250,\n            'f': \"1250\",\n        }],\n [{\n            'v': 27,\n            'f': \"27\",\n        },\n\"retirement villages san diego\",\n{\n            'v': 1200,\n            'f': \"1200\",\n        }],\n [{\n            'v': 28,\n            'f': \"28\",\n        },\n\"retirement villages yeppoon\",\n{\n            'v': 1200,\n            'f': \"1200\",\n        }],\n [{\n            'v': 29,\n            'f': \"29\",\n        },\n\"retirement villages malaysia\",\n{\n            'v': 1100,\n            'f': \"1100\",\n        }],\n [{\n            'v': 30,\n            'f': \"30\",\n        },\n\"retirement villages east rand\",\n{\n            'v': 1050,\n            'f': \"1050\",\n        }],\n [{\n            'v': 31,\n            'f': \"31\",\n        },\n\"retirement villages regulations\",\n{\n            'v': 1050,\n            'f': \"1050\",\n        }],\n [{\n            'v': 32,\n            'f': \"32\",\n        },\n\"retirement villages queenstown\",\n{\n            'v': 1000,\n            'f': \"1000\",\n        }],\n [{\n            'v': 33,\n            'f': \"33\",\n        },\n\"retirement villages york\",\n{\n            'v': 900,\n            'f': \"900\",\n        }],\n [{\n            'v': 34,\n            'f': \"34\",\n        },\n\"retirement villages group\",\n{\n            'v': 851,\n            'f': \"851\",\n        }],\n [{\n            'v': 35,\n            'f': \"35\",\n        },\n\"retirement villages fort worth\",\n{\n            'v': 850,\n            'f': \"850\",\n        }],\n [{\n            'v': 36,\n            'f': \"36\",\n        },\n\"retirement villages geelong\",\n{\n            'v': 850,\n            'f': \"850\",\n        }],\n [{\n            'v': 37,\n            'f': \"37\",\n        },\n\"retirement villages kapiti\",\n{\n            'v': 803,\n            'f': \"803\",\n        }],\n [{\n            'v': 38,\n            'f': \"38\",\n        },\n\"retirement villages kent\",\n{\n            'v': 802,\n            'f': \"802\",\n        }],\n [{\n            'v': 39,\n            'f': \"39\",\n        },\n\"retirement villages krugersdorp\",\n{\n            'v': 801,\n            'f': \"801\",\n        }],\n [{\n            'v': 40,\n            'f': \"40\",\n        },\n\"retirement villages kzn\",\n{\n            'v': 800,\n            'f': \"800\",\n        }],\n [{\n            'v': 41,\n            'f': \"41\",\n        },\n\"retirement villages sydney for sale\",\n{\n            'v': 800,\n            'f': \"800\",\n        }],\n [{\n            'v': 42,\n            'f': \"42\",\n        },\n\"retirement villages vaal triangle\",\n{\n            'v': 800,\n            'f': \"800\",\n        }],\n [{\n            'v': 43,\n            'f': \"43\",\n        },\n\"retirement villages george\",\n{\n            'v': 750,\n            'f': \"750\",\n        }],\n [{\n            'v': 44,\n            'f': \"44\",\n        },\n\"retirement villages yarra valley\",\n{\n            'v': 750,\n            'f': \"750\",\n        }],\n [{\n            'v': 45,\n            'f': \"45\",\n        },\n\"retirement villages eastern suburbs melbourne\",\n{\n            'v': 700,\n            'f': \"700\",\n        }],\n [{\n            'v': 46,\n            'f': \"46\",\n        },\n\"retirement villages roodepoort\",\n{\n            'v': 651,\n            'f': \"651\",\n        }],\n [{\n            'v': 47,\n            'f': \"47\",\n        },\n\"retirement villages kempton park\",\n{\n            'v': 650,\n            'f': \"650\",\n        }],\n [{\n            'v': 48,\n            'f': \"48\",\n        },\n\"retirement villages queanbeyan\",\n{\n            'v': 650,\n            'f': \"650\",\n        }],\n [{\n            'v': 49,\n            'f': \"49\",\n        },\n\"retirement villages regulations nsw\",\n{\n            'v': 650,\n            'f': \"650\",\n        }],\n [{\n            'v': 50,\n            'f': \"50\",\n        },\n\"retirement villages east rand price comparison\",\n{\n            'v': 603,\n            'f': \"603\",\n        }],\n [{\n            'v': 51,\n            'f': \"51\",\n        },\n\"retirement villages east london\",\n{\n            'v': 602,\n            'f': \"602\",\n        }],\n [{\n            'v': 52,\n            'f': \"52\",\n        },\n\"retirement villages in arizona\",\n{\n            'v': 602,\n            'f': \"602\",\n        }],\n [{\n            'v': 53,\n            'f': \"53\",\n        },\n\"retirement villages kerikeri\",\n{\n            'v': 602,\n            'f': \"602\",\n        }],\n [{\n            'v': 54,\n            'f': \"54\",\n        },\n\"retirement villages vereeniging\",\n{\n            'v': 602,\n            'f': \"602\",\n        }],\n [{\n            'v': 55,\n            'f': \"55\",\n        },\n\"retirement villages california\",\n{\n            'v': 601,\n            'f': \"601\",\n        }],\n [{\n            'v': 56,\n            'f': \"56\",\n        },\n\"which retirement villages\",\n{\n            'v': 601,\n            'f': \"601\",\n        }],\n [{\n            'v': 57,\n            'f': \"57\",\n        },\n\"where is the villages retirement community in florida\",\n{\n            'v': 601,\n            'f': \"601\",\n        }],\n [{\n            'v': 58,\n            'f': \"58\",\n        },\n\"how do retirement villages work\",\n{\n            'v': 601,\n            'f': \"601\",\n        }],\n [{\n            'v': 59,\n            'f': \"59\",\n        },\n\"why retirement village\",\n{\n            'v': 601,\n            'f': \"601\",\n        }],\n [{\n            'v': 60,\n            'f': \"60\",\n        },\n\"buy in retirement community\",\n{\n            'v': 601,\n            'f': \"601\",\n        }],\n [{\n            'v': 61,\n            'f': \"61\",\n        },\n\"how much retirement homes cost\",\n{\n            'v': 601,\n            'f': \"601\",\n        }],\n [{\n            'v': 62,\n            'f': \"62\",\n        },\n\"best retirement villages in uk\",\n{\n            'v': 601,\n            'f': \"601\",\n        }],\n [{\n            'v': 63,\n            'f': \"63\",\n        },\n\"worst retirement home\",\n{\n            'v': 601,\n            'f': \"601\",\n        }],\n [{\n            'v': 64,\n            'f': \"64\",\n        },\n\"rent retirement villages\",\n{\n            'v': 601,\n            'f': \"601\",\n        }],\n [{\n            'v': 65,\n            'f': \"65\",\n        },\n\"sale retirement village\",\n{\n            'v': 601,\n            'f': \"601\",\n        }],\n [{\n            'v': 66,\n            'f': \"66\",\n        },\n\"retirement v\",\n{\n            'v': 601,\n            'f': \"601\",\n        }],\n [{\n            'v': 67,\n            'f': \"67\",\n        },\n\"orrvilla retirement community\",\n{\n            'v': 601,\n            'f': \"601\",\n        }],\n [{\n            'v': 68,\n            'f': \"68\",\n        },\n\"retirement villages act\",\n{\n            'v': 601,\n            'f': \"601\",\n        }],\n [{\n            'v': 69,\n            'f': \"69\",\n        },\n\"retirement villages by the sea uk\",\n{\n            'v': 601,\n            'f': \"601\",\n        }],\n [{\n            'v': 70,\n            'f': \"70\",\n        },\n\"retirement villages cape town\",\n{\n            'v': 601,\n            'f': \"601\",\n        }],\n [{\n            'v': 71,\n            'f': \"71\",\n        },\n\"retirement villages delaware\",\n{\n            'v': 601,\n            'f': \"601\",\n        }],\n [{\n            'v': 72,\n            'f': \"72\",\n        },\n\"retirement villages east sussex\",\n{\n            'v': 601,\n            'f': \"601\",\n        }],\n [{\n            'v': 73,\n            'f': \"73\",\n        },\n\"retirement villages fort myers florida\",\n{\n            'v': 601,\n            'f': \"601\",\n        }],\n [{\n            'v': 74,\n            'f': \"74\",\n        },\n\"retirement villages gauteng\",\n{\n            'v': 601,\n            'f': \"601\",\n        }],\n [{\n            'v': 75,\n            'f': \"75\",\n        },\n\"retirement villages hamilton\",\n{\n            'v': 601,\n            'f': \"601\",\n        }],\n [{\n            'v': 76,\n            'f': \"76\",\n        },\n\"retirement villages in south carolina\",\n{\n            'v': 601,\n            'f': \"601\",\n        }],\n [{\n            'v': 77,\n            'f': \"77\",\n        },\n\"retirement villages jacksonville fl\",\n{\n            'v': 601,\n            'f': \"601\",\n        }],\n [{\n            'v': 78,\n            'f': \"78\",\n        },\n\"retirement villages klerksdorp\",\n{\n            'v': 601,\n            'f': \"601\",\n        }],\n [{\n            'v': 79,\n            'f': \"79\",\n        },\n\"retirement villages london\",\n{\n            'v': 601,\n            'f': \"601\",\n        }],\n [{\n            'v': 80,\n            'f': \"80\",\n        },\n\"retirement villages melbourne\",\n{\n            'v': 601,\n            'f': \"601\",\n        }],\n [{\n            'v': 81,\n            'f': \"81\",\n        },\n\"retirement villages california\",\n{\n            'v': 601,\n            'f': \"601\",\n        }],\n [{\n            'v': 82,\n            'f': \"82\",\n        },\n\"retirement villages orewa\",\n{\n            'v': 601,\n            'f': \"601\",\n        }],\n [{\n            'v': 83,\n            'f': \"83\",\n        },\n\"retirement villages phoenix arizona\",\n{\n            'v': 601,\n            'f': \"601\",\n        }],\n [{\n            'v': 84,\n            'f': \"84\",\n        },\n\"retirement villages queenstown new zealand\",\n{\n            'v': 601,\n            'f': \"601\",\n        }],\n [{\n            'v': 85,\n            'f': \"85\",\n        },\n\"retirement villages redcliffe\",\n{\n            'v': 601,\n            'f': \"601\",\n        }],\n [{\n            'v': 86,\n            'f': \"86\",\n        },\n\"retirement villages sunshine coast\",\n{\n            'v': 601,\n            'f': \"601\",\n        }],\n [{\n            'v': 87,\n            'f': \"87\",\n        },\n\"retirement villages tampa florida\",\n{\n            'v': 601,\n            'f': \"601\",\n        }],\n [{\n            'v': 88,\n            'f': \"88\",\n        },\n\"retirement villages umhlanga\",\n{\n            'v': 601,\n            'f': \"601\",\n        }],\n [{\n            'v': 89,\n            'f': \"89\",\n        },\n\"retirement villages vacancies\",\n{\n            'v': 601,\n            'f': \"601\",\n        }],\n [{\n            'v': 90,\n            'f': \"90\",\n        },\n\"retirement villages with bungalows\",\n{\n            'v': 601,\n            'f': \"601\",\n        }],\n [{\n            'v': 91,\n            'f': \"91\",\n        },\n\"retirement communities xenia ohio\",\n{\n            'v': 601,\n            'f': \"601\",\n        }],\n [{\n            'v': 92,\n            'f': \"92\",\n        },\n\"retirement villages yamba\",\n{\n            'v': 601,\n            'f': \"601\",\n        }],\n [{\n            'v': 93,\n            'f': \"93\",\n        },\n\"retirement villages zimbabwe\",\n{\n            'v': 601,\n            'f': \"601\",\n        }],\n [{\n            'v': 94,\n            'f': \"94\",\n        },\n\"retirement villages north carolina\",\n{\n            'v': 600,\n            'f': \"600\",\n        }],\n [{\n            'v': 95,\n            'f': \"95\",\n        },\n\"what is audley retirement villages\",\n{\n            'v': 600,\n            'f': \"600\",\n        }],\n [{\n            'v': 96,\n            'f': \"96\",\n        },\n\"where is the villages retirement\",\n{\n            'v': 600,\n            'f': \"600\",\n        }],\n [{\n            'v': 97,\n            'f': \"97\",\n        },\n\"how retirement villages work\",\n{\n            'v': 600,\n            'f': \"600\",\n        }],\n [{\n            'v': 98,\n            'f': \"98\",\n        },\n\"why retirement homes\",\n{\n            'v': 600,\n            'f': \"600\",\n        }],\n [{\n            'v': 99,\n            'f': \"99\",\n        },\n\"buy house in retirement village\",\n{\n            'v': 600,\n            'f': \"600\",\n        }],\n [{\n            'v': 100,\n            'f': \"100\",\n        },\n\"how much are retirement villages\",\n{\n            'v': 600,\n            'f': \"600\",\n        }],\n [{\n            'v': 101,\n            'f': \"101\",\n        },\n\"best retirement villages in western cape\",\n{\n            'v': 600,\n            'f': \"600\",\n        }],\n [{\n            'v': 102,\n            'f': \"102\",\n        },\n\"worst retirement plans\",\n{\n            'v': 600,\n            'f': \"600\",\n        }],\n [{\n            'v': 103,\n            'f': \"103\",\n        },\n\"rental retirement villages\",\n{\n            'v': 600,\n            'f': \"600\",\n        }],\n [{\n            'v': 104,\n            'f': \"104\",\n        },\n\"houses for sale retirement villages\",\n{\n            'v': 600,\n            'f': \"600\",\n        }],\n [{\n            'v': 105,\n            'f': \"105\",\n        },\n\"village retirement\",\n{\n            'v': 600,\n            'f': \"600\",\n        }],\n [{\n            'v': 106,\n            'f': \"106\",\n        },\n\"service retirement vs vested retirement\",\n{\n            'v': 600,\n            'f': \"600\",\n        }],\n [{\n            'v': 107,\n            'f': \"107\",\n        },\n\"orlando retirement community\",\n{\n            'v': 600,\n            'f': \"600\",\n        }],\n [{\n            'v': 108,\n            'f': \"108\",\n        },\n\"retirement villages adelaide\",\n{\n            'v': 600,\n            'f': \"600\",\n        }],\n [{\n            'v': 109,\n            'f': \"109\",\n        },\n\"retirement villages brisbane\",\n{\n            'v': 600,\n            'f': \"600\",\n        }],\n [{\n            'v': 110,\n            'f': \"110\",\n        },\n\"retirement villages christchurch\",\n{\n            'v': 600,\n            'f': \"600\",\n        }],\n [{\n            'v': 111,\n            'f': \"111\",\n        },\n\"retirement villages durban\",\n{\n            'v': 600,\n            'f': \"600\",\n        }],\n [{\n            'v': 112,\n            'f': \"112\",\n        },\n\"retirement villages east auckland\",\n{\n            'v': 600,\n            'f': \"600\",\n        }],\n [{\n            'v': 113,\n            'f': \"113\",\n        },\n\"retirement villages for sale\",\n{\n            'v': 600,\n            'f': \"600\",\n        }],\n [{\n            'v': 114,\n            'f': \"114\",\n        },\n\"retirement villages gonubie east london\",\n{\n            'v': 600,\n            'f': \"600\",\n        }],\n [{\n            'v': 115,\n            'f': \"115\",\n        },\n\"retirement villages hervey bay\",\n{\n            'v': 600,\n            'f': \"600\",\n        }],\n [{\n            'v': 116,\n            'f': \"116\",\n        },\n\"retirement villages in tennessee\",\n{\n            'v': 600,\n            'f': \"600\",\n        }],\n [{\n            'v': 117,\n            'f': \"117\",\n        },\n\"retirement villages johannesburg\",\n{\n            'v': 600,\n            'f': \"600\",\n        }],\n [{\n            'v': 118,\n            'f': \"118\",\n        },\n\"retirement villages knysna\",\n{\n            'v': 600,\n            'f': \"600\",\n        }],\n [{\n            'v': 119,\n            'f': \"119\",\n        },\n\"retirement villages lower hutt\",\n{\n            'v': 600,\n            'f': \"600\",\n        }],\n [{\n            'v': 120,\n            'f': \"120\",\n        },\n\"retirement villages mornington\",\n{\n            'v': 600,\n            'f': \"600\",\n        }],\n [{\n            'v': 121,\n            'f': \"121\",\n        },\n\"retirement villages north carolina\",\n{\n            'v': 600,\n            'f': \"600\",\n        }],\n [{\n            'v': 122,\n            'f': \"122\",\n        },\n\"retirement villages ontario\",\n{\n            'v': 600,\n            'f': \"600\",\n        }],\n [{\n            'v': 123,\n            'f': \"123\",\n        },\n\"retirement villages perth\",\n{\n            'v': 600,\n            'f': \"600\",\n        }],\n [{\n            'v': 124,\n            'f': \"124\",\n        },\n\"retirement villages queensland sunshine coast\",\n{\n            'v': 600,\n            'f': \"600\",\n        }],\n [{\n            'v': 125,\n            'f': \"125\",\n        },\n\"retirement villages randburg\",\n{\n            'v': 600,\n            'f': \"600\",\n        }],\n [{\n            'v': 126,\n            'f': \"126\",\n        },\n\"retirement villages scotland\",\n{\n            'v': 600,\n            'f': \"600\",\n        }],\n [{\n            'v': 127,\n            'f': \"127\",\n        },\n\"retirement villages tauranga\",\n{\n            'v': 600,\n            'f': \"600\",\n        }],\n [{\n            'v': 128,\n            'f': \"128\",\n        },\n\"retirement villages upper hutt\",\n{\n            'v': 600,\n            'f': \"600\",\n        }],\n [{\n            'v': 129,\n            'f': \"129\",\n        },\n\"retirement villages victoria australia\",\n{\n            'v': 600,\n            'f': \"600\",\n        }],\n [{\n            'v': 130,\n            'f': \"130\",\n        },\n\"retirement villages with golf course\",\n{\n            'v': 600,\n            'f': \"600\",\n        }],\n [{\n            'v': 131,\n            'f': \"131\",\n        },\n\"which are the best retirement villages\",\n{\n            'v': 600,\n            'f': \"600\",\n        }],\n [{\n            'v': 132,\n            'f': \"132\",\n        },\n\"retirement villages yorkshire uk\",\n{\n            'v': 600,\n            'f': \"600\",\n        }],\n [{\n            'v': 133,\n            'f': \"133\",\n        },\n\"retirement villages zevenwacht\",\n{\n            'v': 600,\n            'f': \"600\",\n        }],\n [{\n            'v': 134,\n            'f': \"134\",\n        },\n\"how much do retirement homes cost\",\n{\n            'v': 555,\n            'f': \"555\",\n        }],\n [{\n            'v': 135,\n            'f': \"135\",\n        },\n\"best retirement villages in victoria\",\n{\n            'v': 555,\n            'f': \"555\",\n        }],\n [{\n            'v': 136,\n            'f': \"136\",\n        },\n\"rental retirement villages brisbane northside\",\n{\n            'v': 555,\n            'f': \"555\",\n        }],\n [{\n            'v': 137,\n            'f': \"137\",\n        },\n\"houses for sale retirement villages durbanville\",\n{\n            'v': 555,\n            'f': \"555\",\n        }],\n [{\n            'v': 138,\n            'f': \"138\",\n        },\n\"retirement villages durbanville\",\n{\n            'v': 555,\n            'f': \"555\",\n        }],\n [{\n            'v': 139,\n            'f': \"139\",\n        },\n\"retirement villages johannesburg south\",\n{\n            'v': 555,\n            'f': \"555\",\n        }],\n [{\n            'v': 140,\n            'f': \"140\",\n        },\n\"retirement villages western cape\",\n{\n            'v': 555,\n            'f': \"555\",\n        }],\n [{\n            'v': 141,\n            'f': \"141\",\n        },\n\"retirement villages zillmere\",\n{\n            'v': 555,\n            'f': \"555\",\n        }],\n [{\n            'v': 142,\n            'f': \"142\",\n        },\n\"retirement villages in florida\",\n{\n            'v': 554,\n            'f': \"554\",\n        }],\n [{\n            'v': 143,\n            'f': \"143\",\n        },\n\"how much are retirement homes\",\n{\n            'v': 554,\n            'f': \"554\",\n        }],\n [{\n            'v': 144,\n            'f': \"144\",\n        },\n\"best retirement villages in south australia\",\n{\n            'v': 554,\n            'f': \"554\",\n        }],\n [{\n            'v': 145,\n            'f': \"145\",\n        },\n\"rental retirement villages south australia\",\n{\n            'v': 554,\n            'f': \"554\",\n        }],\n [{\n            'v': 146,\n            'f': \"146\",\n        },\n\"houses for sale retirement villages pretoria\",\n{\n            'v': 554,\n            'f': \"554\",\n        }],\n [{\n            'v': 147,\n            'f': \"147\",\n        },\n\"retirement villages bloemfontein\",\n{\n            'v': 554,\n            'f': \"554\",\n        }],\n [{\n            'v': 148,\n            'f': \"148\",\n        },\n\"retirement villages devon\",\n{\n            'v': 554,\n            'f': \"554\",\n        }],\n [{\n            'v': 149,\n            'f': \"149\",\n        },\n\"retirement villages hobart\",\n{\n            'v': 554,\n            'f': \"554\",\n        }],\n [{\n            'v': 150,\n            'f': \"150\",\n        },\n\"retirement villages jobs\",\n{\n            'v': 554,\n            'f': \"554\",\n        }],\n [{\n            'v': 151,\n            'f': \"151\",\n        },\n\"retirement villages launceston\",\n{\n            'v': 554,\n            'f': \"554\",\n        }],\n [{\n            'v': 152,\n            'f': \"152\",\n        },\n\"retirement villages near tampa florida\",\n{\n            'v': 554,\n            'f': \"554\",\n        }],\n [{\n            'v': 153,\n            'f': \"153\",\n        },\n\"retirement villages pretoria\",\n{\n            'v': 554,\n            'f': \"554\",\n        }],\n [{\n            'v': 154,\n            'f': \"154\",\n        },\n\"retirement villages toowoomba\",\n{\n            'v': 554,\n            'f': \"554\",\n        }],\n [{\n            'v': 155,\n            'f': \"155\",\n        },\n\"retirement villages wellington\",\n{\n            'v': 554,\n            'f': \"554\",\n        }],\n [{\n            'v': 156,\n            'f': \"156\",\n        },\n\"retirement communities zephyrhills fl\",\n{\n            'v': 554,\n            'f': \"554\",\n        }],\n [{\n            'v': 157,\n            'f': \"157\",\n        },\n\"retirement villages in arizona\",\n{\n            'v': 553,\n            'f': \"553\",\n        }],\n [{\n            'v': 158,\n            'f': \"158\",\n        },\n\"how do over 55 retirement villages work\",\n{\n            'v': 553,\n            'f': \"553\",\n        }],\n [{\n            'v': 159,\n            'f': \"159\",\n        },\n\"how much are retirement communities\",\n{\n            'v': 553,\n            'f': \"553\",\n        }],\n [{\n            'v': 160,\n            'f': \"160\",\n        },\n\"best retirement villages in ireland\",\n{\n            'v': 553,\n            'f': \"553\",\n        }],\n [{\n            'v': 161,\n            'f': \"161\",\n        },\n\"rental retirement villages mornington peninsula\",\n{\n            'v': 553,\n            'f': \"553\",\n        }],\n [{\n            'v': 162,\n            'f': \"162\",\n        },\n\"houses for sale retirement villages somerset west\",\n{\n            'v': 553,\n            'f': \"553\",\n        }],\n [{\n            'v': 163,\n            'f': \"163\",\n        },\n\"retirement villages auckland\",\n{\n            'v': 553,\n            'f': \"553\",\n        }],\n [{\n            'v': 164,\n            'f': \"164\",\n        },\n\"retirement villages brisbane northside\",\n{\n            'v': 553,\n            'f': \"553\",\n        }],\n [{\n            'v': 165,\n            'f': \"165\",\n        },\n\"retirement villages central coast\",\n{\n            'v': 553,\n            'f': \"553\",\n        }],\n [{\n            'v': 166,\n            'f': \"166\",\n        },\n\"retirement villages dunedin\",\n{\n            'v': 553,\n            'f': \"553\",\n        }],\n [{\n            'v': 167,\n            'f': \"167\",\n        },\n\"retirement villages for sale nsw\",\n{\n            'v': 553,\n            'f': \"553\",\n        }],\n [{\n            'v': 168,\n            'f': \"168\",\n        },\n\"retirement villages hermanus\",\n{\n            'v': 553,\n            'f': \"553\",\n        }],\n [{\n            'v': 169,\n            'f': \"169\",\n        },\n\"retirement villages in north carolina\",\n{\n            'v': 553,\n            'f': \"553\",\n        }],\n [{\n            'v': 170,\n            'f': \"170\",\n        },\n\"retirement villages johannesburg for rent\",\n{\n            'v': 553,\n            'f': \"553\",\n        }],\n [{\n            'v': 171,\n            'f': \"171\",\n        },\n\"retirement villages lake macquarie\",\n{\n            'v': 553,\n            'f': \"553\",\n        }],\n [{\n            'v': 172,\n            'f': \"172\",\n        },\n\"retirement villages mandurah\",\n{\n            'v': 553,\n            'f': \"553\",\n        }],\n [{\n            'v': 173,\n            'f': \"173\",\n        },\n\"retirement villages near me to rent\",\n{\n            'v': 553,\n            'f': \"553\",\n        }],\n [{\n            'v': 174,\n            'f': \"174\",\n        },\n\"retirement villages overberg\",\n{\n            'v': 553,\n            'f': \"553\",\n        }],\n [{\n            'v': 175,\n            'f': \"175\",\n        },\n\"retirement villages port macquarie\",\n{\n            'v': 553,\n            'f': \"553\",\n        }],\n [{\n            'v': 176,\n            'f': \"176\",\n        },\n\"retirement villages townsville\",\n{\n            'v': 553,\n            'f': \"553\",\n        }],\n [{\n            'v': 177,\n            'f': \"177\",\n        },\n\"retirement villages units for sale\",\n{\n            'v': 553,\n            'f': \"553\",\n        }],\n [{\n            'v': 178,\n            'f': \"178\",\n        },\n\"retirement villages whangarei\",\n{\n            'v': 553,\n            'f': \"553\",\n        }],\n [{\n            'v': 179,\n            'f': \"179\",\n        },\n\"retirement communities zionsville in\",\n{\n            'v': 553,\n            'f': \"553\",\n        }],\n [{\n            'v': 180,\n            'f': \"180\",\n        },\n\"retirement villages in south carolina\",\n{\n            'v': 552,\n            'f': \"552\",\n        }],\n [{\n            'v': 181,\n            'f': \"181\",\n        },\n\"which are the best retirement villages\",\n{\n            'v': 552,\n            'f': \"552\",\n        }],\n [{\n            'v': 182,\n            'f': \"182\",\n        },\n\"how retirement villages work\",\n{\n            'v': 552,\n            'f': \"552\",\n        }],\n [{\n            'v': 183,\n            'f': \"183\",\n        },\n\"are retirement villages expensive\",\n{\n            'v': 552,\n            'f': \"552\",\n        }],\n [{\n            'v': 184,\n            'f': \"184\",\n        },\n\"how much are retirement homes in ontario\",\n{\n            'v': 552,\n            'f': \"552\",\n        }],\n [{\n            'v': 185,\n            'f': \"185\",\n        },\n\"best retirement villages gold coast\",\n{\n            'v': 552,\n            'f': \"552\",\n        }],\n [{\n            'v': 186,\n            'f': \"186\",\n        },\n\"rental retirement villages central coast nsw\",\n{\n            'v': 552,\n            'f': \"552\",\n        }],\n [{\n            'v': 187,\n            'f': \"187\",\n        },\n\"stockland sale of retirement villages\",\n{\n            'v': 552,\n            'f': \"552\",\n        }],\n [{\n            'v': 188,\n            'f': \"188\",\n        },\n\"retirement villages act nsw\",\n{\n            'v': 552,\n            'f': \"552\",\n        }],\n [{\n            'v': 189,\n            'f': \"189\",\n        },\n\"retirement villages ballarat\",\n{\n            'v': 552,\n            'f': \"552\",\n        }],\n [{\n            'v': 190,\n            'f': \"190\",\n        },\n\"retirement villages canberra\",\n{\n            'v': 552,\n            'f': \"552\",\n        }],\n [{\n            'v': 191,\n            'f': \"191\",\n        },\n\"retirement villages durban north\",\n{\n            'v': 552,\n            'f': \"552\",\n        }],\n [{\n            'v': 192,\n            'f': \"192\",\n        },\n\"retirement villages fourways\",\n{\n            'v': 552,\n            'f': \"552\",\n        }],\n [{\n            'v': 193,\n            'f': \"193\",\n        },\n\"retirement villages hillcrest\",\n{\n            'v': 552,\n            'f': \"552\",\n        }],\n [{\n            'v': 194,\n            'f': \"194\",\n        },\n\"retirement villages in texas\",\n{\n            'v': 552,\n            'f': \"552\",\n        }],\n [{\n            'v': 195,\n            'f': \"195\",\n        },\n\"retirement villages johannesburg northern suburbs\",\n{\n            'v': 552,\n            'f': \"552\",\n        }],\n [{\n            'v': 196,\n            'f': \"196\",\n        },\n\"retirement villages levin\",\n{\n            'v': 552,\n            'f': \"552\",\n        }],\n [{\n            'v': 197,\n            'f': \"197\",\n        },\n\"retirement villages mossel bay\",\n{\n            'v': 552,\n            'f': \"552\",\n        }],\n [{\n            'v': 198,\n            'f': \"198\",\n        },\n\"retirement villages near water\",\n{\n            'v': 552,\n            'f': \"552\",\n        }],\n [{\n            'v': 199,\n            'f': \"199\",\n        },\n\"retirement villages orange\",\n{\n            'v': 552,\n            'f': \"552\",\n        }],\n [{\n            'v': 200,\n            'f': \"200\",\n        },\n\"retirement villages port elizabeth\",\n{\n            'v': 552,\n            'f': \"552\",\n        }],\n [{\n            'v': 201,\n            'f': \"201\",\n        },\n\"retirement villages rentals\",\n{\n            'v': 552,\n            'f': \"552\",\n        }],\n [{\n            'v': 202,\n            'f': \"202\",\n        },\n\"retirement villages to rent\",\n{\n            'v': 552,\n            'f': \"552\",\n        }],\n [{\n            'v': 203,\n            'f': \"203\",\n        },\n\"retirement villages ulladulla\",\n{\n            'v': 552,\n            'f': \"552\",\n        }],\n [{\n            'v': 204,\n            'f': \"204\",\n        },\n\"retirement villages with bungalows uk\",\n{\n            'v': 552,\n            'f': \"552\",\n        }],\n [{\n            'v': 205,\n            'f': \"205\",\n        },\n\"are retirement villages a good idea\",\n{\n            'v': 552,\n            'f': \"552\",\n        }],\n [{\n            'v': 206,\n            'f': \"206\",\n        },\n\"retirement homes zoopla\",\n{\n            'v': 552,\n            'f': \"552\",\n        }],\n [{\n            'v': 207,\n            'f': \"207\",\n        },\n\"retirement villages in tennessee\",\n{\n            'v': 551,\n            'f': \"551\",\n        }],\n [{\n            'v': 208,\n            'f': \"208\",\n        },\n\"how retirement villages work\",\n{\n            'v': 551,\n            'f': \"551\",\n        }],\n [{\n            'v': 209,\n            'f': \"209\",\n        },\n\"which are the best retirement villages\",\n{\n            'v': 551,\n            'f': \"551\",\n        }],\n [{\n            'v': 210,\n            'f': \"210\",\n        },\n\"how do retirement villages make money\",\n{\n            'v': 551,\n            'f': \"551\",\n        }],\n [{\n            'v': 211,\n            'f': \"211\",\n        },\n\"how retirement villages work\",\n{\n            'v': 551,\n            'f': \"551\",\n        }],\n [{\n            'v': 212,\n            'f': \"212\",\n        },\n\"how much are retirement homes in florida\",\n{\n            'v': 551,\n            'f': \"551\",\n        }],\n [{\n            'v': 213,\n            'f': \"213\",\n        },\n\"best retirement villages in portugal\",\n{\n            'v': 551,\n            'f': \"551\",\n        }],\n [{\n            'v': 214,\n            'f': \"214\",\n        },\n\"worst retirement homes in america\",\n{\n            'v': 551,\n            'f': \"551\",\n        }],\n [{\n            'v': 215,\n            'f': \"215\",\n        },\n\"rental retirement villages perth\",\n{\n            'v': 551,\n            'f': \"551\",\n        }],\n [{\n            'v': 216,\n            'f': \"216\",\n        },\n\"retirement villages sale victoria\",\n{\n            'v': 551,\n            'f': \"551\",\n        }],\n [{\n            'v': 217,\n            'f': \"217\",\n        },\n\"retirement villages act qld\",\n{\n            'v': 551,\n            'f': \"551\",\n        }],\n [{\n            'v': 218,\n            'f': \"218\",\n        },\n\"retirement villages bundaberg\",\n{\n            'v': 551,\n            'f': \"551\",\n        }],\n [{\n            'v': 219,\n            'f': \"219\",\n        },\n\"retirement villages centurion\",\n{\n            'v': 551,\n            'f': \"551\",\n        }],\n [{\n            'v': 220,\n            'f': \"220\",\n        },\n\"retirement villages dublin\",\n{\n            'v': 551,\n            'f': \"551\",\n        }],\n [{\n            'v': 221,\n            'f': \"221\",\n        },\n\"retirement villages edenvale\",\n{\n            'v': 551,\n            'f': \"551\",\n        }],\n [{\n            'v': 222,\n            'f': \"222\",\n        },\n\"retirement villages feilding\",\n{\n            'v': 551,\n            'f': \"551\",\n        }],\n [{\n            'v': 223,\n            'f': \"223\",\n        },\n\"retirement villages galway\",\n{\n            'v': 551,\n            'f': \"551\",\n        }],\n [{\n            'v': 224,\n            'f': \"224\",\n        },\n\"retirement villages hawkes bay\",\n{\n            'v': 551,\n            'f': \"551\",\n        }],\n [{\n            'v': 225,\n            'f': \"225\",\n        },\n\"retirement villages in arkansas\",\n{\n            'v': 551,\n            'f': \"551\",\n        }],\n [{\n            'v': 226,\n            'f': \"226\",\n        },\n\"retirement villages johannesburg north\",\n{\n            'v': 551,\n            'f': \"551\",\n        }],\n [{\n            'v': 227,\n            'f': \"227\",\n        },\n\"retirement villages leeds\",\n{\n            'v': 551,\n            'f': \"551\",\n        }],\n [{\n            'v': 228,\n            'f': \"228\",\n        },\n\"retirement villages melbourne for sale\",\n{\n            'v': 551,\n            'f': \"551\",\n        }],\n [{\n            'v': 229,\n            'f': \"229\",\n        },\n\"retirement villages near austin tx\",\n{\n            'v': 551,\n            'f': \"551\",\n        }],\n [{\n            'v': 230,\n            'f': \"230\",\n        },\n\"retirement villages oxfordshire\",\n{\n            'v': 551,\n            'f': \"551\",\n        }],\n [{\n            'v': 231,\n            'f': \"231\",\n        },\n\"retirement villages palmerston north\",\n{\n            'v': 551,\n            'f': \"551\",\n        }],\n [{\n            'v': 232,\n            'f': \"232\",\n        },\n\"retirement villages qld sunshine coast\",\n{\n            'v': 551,\n            'f': \"551\",\n        }],\n [{\n            'v': 233,\n            'f': \"233\",\n        },\n\"retirement villages rotorua\",\n{\n            'v': 551,\n            'f': \"551\",\n        }],\n [{\n            'v': 234,\n            'f': \"234\",\n        },\n\"retirement villages somerset west\",\n{\n            'v': 551,\n            'f': \"551\",\n        }],\n [{\n            'v': 235,\n            'f': \"235\",\n        },\n\"retirement villages tasmania\",\n{\n            'v': 551,\n            'f': \"551\",\n        }],\n [{\n            'v': 236,\n            'f': \"236\",\n        },\n\"retirement villages under construction\",\n{\n            'v': 551,\n            'f': \"551\",\n        }],\n [{\n            'v': 237,\n            'f': \"237\",\n        },\n\"retirement villages west rand\",\n{\n            'v': 551,\n            'f': \"551\",\n        }],\n [{\n            'v': 238,\n            'f': \"238\",\n        },\n\"are retirement villages expensive\",\n{\n            'v': 551,\n            'f': \"551\",\n        }],\n [{\n            'v': 239,\n            'f': \"239\",\n        },\n\"retirement villages yarrawonga\",\n{\n            'v': 551,\n            'f': \"551\",\n        }],\n [{\n            'v': 240,\n            'f': \"240\",\n        },\n\"retirement homes zephyrhills\",\n{\n            'v': 551,\n            'f': \"551\",\n        }],\n [{\n            'v': 241,\n            'f': \"241\",\n        },\n\"retirement villages in texas\",\n{\n            'v': 550,\n            'f': \"550\",\n        }],\n [{\n            'v': 242,\n            'f': \"242\",\n        },\n\"how do over 55 retirement villages work\",\n{\n            'v': 550,\n            'f': \"550\",\n        }],\n [{\n            'v': 243,\n            'f': \"243\",\n        },\n\"how do over 55 retirement villages work\",\n{\n            'v': 550,\n            'f': \"550\",\n        }],\n [{\n            'v': 244,\n            'f': \"244\",\n        },\n\"are retirement villages a good investment\",\n{\n            'v': 550,\n            'f': \"550\",\n        }],\n [{\n            'v': 245,\n            'f': \"245\",\n        },\n\"are retirement villages worth it\",\n{\n            'v': 550,\n            'f': \"550\",\n        }],\n [{\n            'v': 246,\n            'f': \"246\",\n        },\n\"how much are retirement communities in florida\",\n{\n            'v': 550,\n            'f': \"550\",\n        }],\n [{\n            'v': 247,\n            'f': \"247\",\n        },\n\"best retirement villages brisbane\",\n{\n            'v': 550,\n            'f': \"550\",\n        }],\n [{\n            'v': 248,\n            'f': \"248\",\n        },\n\"worst retirement mistakes\",\n{\n            'v': 550,\n            'f': \"550\",\n        }],\n [{\n            'v': 249,\n            'f': \"249\",\n        },\n\"rental retirement villages melbourne\",\n{\n            'v': 550,\n            'f': \"550\",\n        }],\n [{\n            'v': 250,\n            'f': \"250\",\n        },\n\"retirement villages sale cape town\",\n{\n            'v': 550,\n            'f': \"550\",\n        }],\n [{\n            'v': 251,\n            'f': \"251\",\n        },\n\"villages retirement community\",\n{\n            'v': 550,\n            'f': \"550\",\n        }],\n [{\n            'v': 252,\n            'f': \"252\",\n        },\n\"retirement villages act victoria\",\n{\n            'v': 550,\n            'f': \"550\",\n        }],\n [{\n            'v': 253,\n            'f': \"253\",\n        },\n\"retirement villages benoni\",\n{\n            'v': 550,\n            'f': \"550\",\n        }],\n [{\n            'v': 254,\n            'f': \"254\",\n        },\n\"retirement villages cambridge\",\n{\n            'v': 550,\n            'f': \"550\",\n        }],\n [{\n            'v': 255,\n            'f': \"255\",\n        },\n\"retirement villages dorset\",\n{\n            'v': 550,\n            'f': \"550\",\n        }],\n [{\n            'v': 256,\n            'f': \"256\",\n        },\n\"retirement villages echuca moama\",\n{\n            'v': 550,\n            'f': \"550\",\n        }],\n [{\n            'v': 257,\n            'f': \"257\",\n        },\n\"retirement villages for rent\",\n{\n            'v': 550,\n            'f': \"550\",\n        }],\n [{\n            'v': 258,\n            'f': \"258\",\n        },\n\"retirement villages gold coast for sale\",\n{\n            'v': 550,\n            'f': \"550\",\n        }],\n [{\n            'v': 259,\n            'f': \"259\",\n        },\n\"retirement villages hampshire\",\n{\n            'v': 550,\n            'f': \"550\",\n        }],\n [{\n            'v': 260,\n            'f': \"260\",\n        },\n\"retirement villages in california\",\n{\n            'v': 550,\n            'f': \"550\",\n        }],\n [{\n            'v': 261,\n            'f': \"261\",\n        },\n\"retirement villages johannesburg for sale\",\n{\n            'v': 550,\n            'f': \"550\",\n        }],\n [{\n            'v': 262,\n            'f': \"262\",\n        },\n\"retirement villages leicestershire\",\n{\n            'v': 550,\n            'f': \"550\",\n        }],\n [{\n            'v': 263,\n            'f': \"263\",\n        },\n\"retirement villages mackay\",\n{\n            'v': 550,\n            'f': \"550\",\n        }],\n [{\n            'v': 264,\n            'f': \"264\",\n        },\n\"retirement villages near disney world\",\n{\n            'v': 550,\n            'f': \"550\",\n        }],\n [{\n            'v': 265,\n            'f': \"265\",\n        },\n\"retirement villages oxford\",\n{\n            'v': 550,\n            'f': \"550\",\n        }],\n [{\n            'v': 266,\n            'f': \"266\",\n        },\n\"retirement villages papamoa\",\n{\n            'v': 550,\n            'f': \"550\",\n        }],\n [{\n            'v': 267,\n            'f': \"267\",\n        },\n\"retirement villages queensland coast\",\n{\n            'v': 550,\n            'f': \"550\",\n        }],\n [{\n            'v': 268,\n            'f': \"268\",\n        },\n\"retirement villages rockingham\",\n{\n            'v': 550,\n            'f': \"550\",\n        }],\n [{\n            'v': 269,\n            'f': \"269\",\n        },\n\"retirement villages sheffield\",\n{\n            'v': 550,\n            'f': \"550\",\n        }],\n [{\n            'v': 270,\n            'f': \"270\",\n        },\n\"retirement villages that allow pets\",\n{\n            'v': 550,\n            'f': \"550\",\n        }],\n [{\n            'v': 271,\n            'f': \"271\",\n        },\n\"retirement villages upper north shore sydney\",\n{\n            'v': 550,\n            'f': \"550\",\n        }],\n [{\n            'v': 272,\n            'f': \"272\",\n        },\n\"retirement villages vermont\",\n{\n            'v': 550,\n            'f': \"550\",\n        }],\n [{\n            'v': 273,\n            'f': \"273\",\n        },\n\"retirement villages wollongong\",\n{\n            'v': 550,\n            'f': \"550\",\n        }],\n [{\n            'v': 274,\n            'f': \"274\",\n        },\n\"are retirement villages worth it\",\n{\n            'v': 550,\n            'f': \"550\",\n        }],\n [{\n            'v': 275,\n            'f': \"275\",\n        },\n\"retirement villages yeppoon qld\",\n{\n            'v': 550,\n            'f': \"550\",\n        }],\n [{\n            'v': 276,\n            'f': \"276\",\n        },\n\"retirement homes zanesville\",\n{\n            'v': 550,\n            'f': \"550\",\n        }]],\n        columns: [[\"number\", \"index\"], [\"string\", \"Keywords\"], [\"number\", \"Relevance\"]],\n        columnOptions: [{\"width\": \"1px\", \"className\": \"index_column\"}],\n        rowsPerPage: 25,\n        helpUrl: \"https://colab.research.google.com/notebooks/data_table.ipynb\",\n        suppressOutputScrolling: true,\n        minimumWidth: undefined,\n      });\n    "
          },
          "metadata": {},
          "execution_count": 17
        }
      ]
    },
    {
      "cell_type": "markdown",
      "source": [
        "#Optional - Style the Keyword Autosuggest Output with Pandas Styling"
      ],
      "metadata": {
        "id": "rkFcOMWPafWX"
      }
    },
    {
      "cell_type": "code",
      "source": [
        "#@title Style Pandas tables with CSS\n",
        "expanded_results_df = pd.read_csv('/content/keywords.csv') ] # you need to paste the file path from the previously saved data frame\n",
        "selection = ['Keywords','Relevance']\n",
        "df = expanded_results_df[selection]\n",
        "df.head(20).style.set_table_styles(\n",
        "[{'selector': 'th',\n",
        "  'props': [('background', '#7CAE00'), \n",
        "            ('color', 'white'),\n",
        "            ('font-family', 'verdana')]},\n",
        " \n",
        " {'selector': 'td',\n",
        "  'props': [('font-family', 'verdana')]},\n",
        "\n",
        " {'selector': 'tr:nth-of-type(odd)',\n",
        "  'props': [('background', '#DCDCDC')]}, \n",
        " \n",
        " {'selector': 'tr:nth-of-type(even)',\n",
        "  'props': [('background', 'white')]},\n",
        " \n",
        "]\n",
        ").hide_index()"
      ],
      "metadata": {
        "colab": {
          "base_uri": "https://localhost:8080/",
          "height": 677
        },
        "id": "ZR2XU3-UMpCZ",
        "outputId": "37b8a9f2-6b17-4cab-f9ba-5e9c1a61f5f6"
      },
      "execution_count": 23,
      "outputs": [
        {
          "output_type": "execute_result",
          "data": {
            "text/plain": [
              "<pandas.io.formats.style.Styler at 0x7f35299e2490>"
            ],
            "text/html": [
              "<style type=\"text/css\">\n",
              "#T_99647_ th {\n",
              "  background: #7CAE00;\n",
              "  color: white;\n",
              "  font-family: verdana;\n",
              "}\n",
              "#T_99647_ td {\n",
              "  font-family: verdana;\n",
              "}\n",
              "#T_99647_ tr:nth-of-type(odd) {\n",
              "  background: #DCDCDC;\n",
              "}\n",
              "#T_99647_ tr:nth-of-type(even) {\n",
              "  background: white;\n",
              "}\n",
              "</style>\n",
              "<table id=\"T_99647_\" class=\"dataframe\">\n",
              "  <thead>\n",
              "    <tr>\n",
              "      <th class=\"col_heading level0 col0\" >Keywords</th>\n",
              "      <th class=\"col_heading level0 col1\" >Relevance</th>\n",
              "    </tr>\n",
              "  </thead>\n",
              "  <tbody>\n",
              "    <tr>\n",
              "      <td id=\"T_99647_row0_col0\" class=\"data row0 col0\" >retirement villages victoria</td>\n",
              "      <td id=\"T_99647_row0_col1\" class=\"data row0 col1\" >1252</td>\n",
              "    </tr>\n",
              "    <tr>\n",
              "      <td id=\"T_99647_row1_col0\" class=\"data row1 col0\" >retirement villages arizona</td>\n",
              "      <td id=\"T_99647_row1_col1\" class=\"data row1 col1\" >1251</td>\n",
              "    </tr>\n",
              "    <tr>\n",
              "      <td id=\"T_99647_row2_col0\" class=\"data row2 col0\" >retirement villages colorado</td>\n",
              "      <td id=\"T_99647_row2_col1\" class=\"data row2 col1\" >1251</td>\n",
              "    </tr>\n",
              "    <tr>\n",
              "      <td id=\"T_99647_row3_col0\" class=\"data row3 col0\" >retirement villages ocala florida</td>\n",
              "      <td id=\"T_99647_row3_col1\" class=\"data row3 col1\" >1251</td>\n",
              "    </tr>\n",
              "    <tr>\n",
              "      <td id=\"T_99647_row4_col0\" class=\"data row4 col0\" >retirement villages queensland</td>\n",
              "      <td id=\"T_99647_row4_col1\" class=\"data row4 col1\" >1251</td>\n",
              "    </tr>\n",
              "    <tr>\n",
              "      <td id=\"T_99647_row5_col0\" class=\"data row5 col0\" >retirement villages south carolina</td>\n",
              "      <td id=\"T_99647_row5_col1\" class=\"data row5 col1\" >1251</td>\n",
              "    </tr>\n",
              "    <tr>\n",
              "      <td id=\"T_99647_row6_col0\" class=\"data row6 col0\" >retirement villages uk</td>\n",
              "      <td id=\"T_99647_row6_col1\" class=\"data row6 col1\" >1251</td>\n",
              "    </tr>\n",
              "    <tr>\n",
              "      <td id=\"T_99647_row7_col0\" class=\"data row7 col0\" >retirement villages victoria point</td>\n",
              "      <td id=\"T_99647_row7_col1\" class=\"data row7 col1\" >1251</td>\n",
              "    </tr>\n",
              "    <tr>\n",
              "      <td id=\"T_99647_row8_col0\" class=\"data row8 col0\" >retirement villages near me</td>\n",
              "      <td id=\"T_99647_row8_col1\" class=\"data row8 col1\" >1250</td>\n",
              "    </tr>\n",
              "    <tr>\n",
              "      <td id=\"T_99647_row9_col0\" class=\"data row9 col0\" >retirement villages arkansas</td>\n",
              "      <td id=\"T_99647_row9_col1\" class=\"data row9 col1\" >1250</td>\n",
              "    </tr>\n",
              "    <tr>\n",
              "      <td id=\"T_99647_row10_col0\" class=\"data row10 col0\" >retirement villages by the sea</td>\n",
              "      <td id=\"T_99647_row10_col1\" class=\"data row10 col1\" >1250</td>\n",
              "    </tr>\n",
              "    <tr>\n",
              "      <td id=\"T_99647_row11_col0\" class=\"data row11 col0\" >retirement villages california</td>\n",
              "      <td id=\"T_99647_row11_col1\" class=\"data row11 col1\" >1250</td>\n",
              "    </tr>\n",
              "    <tr>\n",
              "      <td id=\"T_99647_row12_col0\" class=\"data row12 col0\" >retirement villages florida</td>\n",
              "      <td id=\"T_99647_row12_col1\" class=\"data row12 col1\" >1250</td>\n",
              "    </tr>\n",
              "    <tr>\n",
              "      <td id=\"T_99647_row13_col0\" class=\"data row13 col0\" >retirement villages gold coast</td>\n",
              "      <td id=\"T_99647_row13_col1\" class=\"data row13 col1\" >1250</td>\n",
              "    </tr>\n",
              "    <tr>\n",
              "      <td id=\"T_99647_row14_col0\" class=\"data row14 col0\" >retirement villages hawaii</td>\n",
              "      <td id=\"T_99647_row14_col1\" class=\"data row14 col1\" >1250</td>\n",
              "    </tr>\n",
              "    <tr>\n",
              "      <td id=\"T_99647_row15_col0\" class=\"data row15 col0\" >retirement villages in florida</td>\n",
              "      <td id=\"T_99647_row15_col1\" class=\"data row15 col1\" >1250</td>\n",
              "    </tr>\n",
              "    <tr>\n",
              "      <td id=\"T_99647_row16_col0\" class=\"data row16 col0\" >retirement villages las vegas</td>\n",
              "      <td id=\"T_99647_row16_col1\" class=\"data row16 col1\" >1250</td>\n",
              "    </tr>\n",
              "    <tr>\n",
              "      <td id=\"T_99647_row17_col0\" class=\"data row17 col0\" >retirement villages montana</td>\n",
              "      <td id=\"T_99647_row17_col1\" class=\"data row17 col1\" >1250</td>\n",
              "    </tr>\n",
              "    <tr>\n",
              "      <td id=\"T_99647_row18_col0\" class=\"data row18 col0\" >retirement villages near me</td>\n",
              "      <td id=\"T_99647_row18_col1\" class=\"data row18 col1\" >1250</td>\n",
              "    </tr>\n",
              "    <tr>\n",
              "      <td id=\"T_99647_row19_col0\" class=\"data row19 col0\" >retirement villages ohio</td>\n",
              "      <td id=\"T_99647_row19_col1\" class=\"data row19 col1\" >1250</td>\n",
              "    </tr>\n",
              "  </tbody>\n",
              "</table>\n"
            ]
          },
          "metadata": {},
          "execution_count": 23
        }
      ]
    },
    {
      "cell_type": "code",
      "source": [
        "#@title Save the Output w/o Style Adjustments\n",
        "df.to_csv(r'iCloud Drive\\Scrivania\\cluster.csv', index = False, header=True)"
      ],
      "metadata": {
        "id": "RiacJLcQMpFI"
      },
      "execution_count": 24,
      "outputs": []
    }
  ]
}