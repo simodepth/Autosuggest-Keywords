{
  "nbformat": 4,
  "nbformat_minor": 0,
  "metadata": {
    "colab": {
      "name": "Google Autosuggest with Python.ipynb",
      "provenance": [],
      "collapsed_sections": [],
      "include_colab_link": true
    },
    "kernelspec": {
      "name": "python3",
      "display_name": "Python 3"
    },
    "language_info": {
      "name": "python"
    },
    "accelerator": "GPU"
  },
  "cells": [
    {
      "cell_type": "markdown",
      "metadata": {
        "id": "view-in-github",
        "colab_type": "text"
      },
      "source": [
        "<a href=\"https://colab.research.google.com/github/simodepth/Keyword-Research/blob/main/Google_Autosuggest_with_Python.ipynb\" target=\"_parent\"><img src=\"https://colab.research.google.com/assets/colab-badge.svg\" alt=\"Open In Colab\"/></a>"
      ]
    },
    {
      "cell_type": "markdown",
      "source": [
        "#🚀 Run Google Autosuggest to find keywords ideas in bulk \n",
        "\n",
        "\n",
        "---\n",
        "\n",
        "The following framework uses `urllib` and `requests_html` Python libraries to scrape Google Autosuggest and retrieve endless chunks of keywords combinations produced by term suffixes and content angles of your choice.\n",
        "\n",
        "\n"
      ],
      "metadata": {
        "id": "KbASV8aAiiV6"
      }
    },
    {
      "cell_type": "markdown",
      "source": [
        "#Assumptions\n",
        "\n",
        "- Please note the framework is not set on a specific target location, so the output does not provide local results\n",
        "- The output is messed with unwanted **punctuations**. You will be able to copy and paste the output onto a txt file, thus into a spreadsheet where you want to play around with filters to phase the punctuation.\n",
        "\n",
        "**Should you find a way to clean up the output, please feel free to fork up the last part of the script!** "
      ],
      "metadata": {
        "id": "IORSVBkiGGmm"
      }
    },
    {
      "cell_type": "code",
      "source": [
        "!pip install requests_html"
      ],
      "metadata": {
        "colab": {
          "base_uri": "https://localhost:8080/"
        },
        "id": "0fuz3sOsv1f6",
        "outputId": "ad24cafc-1b2c-4e00-a5ee-b5de1b300a88",
        "cellView": "code"
      },
      "execution_count": null,
      "outputs": [
        {
          "output_type": "stream",
          "name": "stdout",
          "text": [
            "Looking in indexes: https://pypi.org/simple, https://us-python.pkg.dev/colab-wheels/public/simple/\n",
            "Collecting requests_html\n",
            "  Downloading requests_html-0.10.0-py3-none-any.whl (13 kB)\n",
            "Collecting parse\n",
            "  Downloading parse-1.19.0.tar.gz (30 kB)\n",
            "Collecting pyquery\n",
            "  Downloading pyquery-1.4.3-py3-none-any.whl (22 kB)\n",
            "Collecting fake-useragent\n",
            "  Downloading fake-useragent-0.1.11.tar.gz (13 kB)\n",
            "Collecting pyppeteer>=0.0.14\n",
            "  Downloading pyppeteer-1.0.2-py3-none-any.whl (83 kB)\n",
            "\u001b[K     |████████████████████████████████| 83 kB 1.7 MB/s \n",
            "\u001b[?25hRequirement already satisfied: requests in /usr/local/lib/python3.7/dist-packages (from requests_html) (2.23.0)\n",
            "Collecting w3lib\n",
            "  Downloading w3lib-1.22.0-py2.py3-none-any.whl (20 kB)\n",
            "Requirement already satisfied: bs4 in /usr/local/lib/python3.7/dist-packages (from requests_html) (0.0.1)\n",
            "Requirement already satisfied: certifi>=2021 in /usr/local/lib/python3.7/dist-packages (from pyppeteer>=0.0.14->requests_html) (2022.5.18.1)\n",
            "Collecting urllib3<2.0.0,>=1.25.8\n",
            "  Downloading urllib3-1.26.9-py2.py3-none-any.whl (138 kB)\n",
            "\u001b[K     |████████████████████████████████| 138 kB 62.5 MB/s \n",
            "\u001b[?25hRequirement already satisfied: importlib-metadata>=1.4 in /usr/local/lib/python3.7/dist-packages (from pyppeteer>=0.0.14->requests_html) (4.11.4)\n",
            "Collecting websockets<11.0,>=10.0\n",
            "  Downloading websockets-10.3-cp37-cp37m-manylinux_2_5_x86_64.manylinux1_x86_64.manylinux_2_12_x86_64.manylinux2010_x86_64.whl (112 kB)\n",
            "\u001b[K     |████████████████████████████████| 112 kB 66.7 MB/s \n",
            "\u001b[?25hRequirement already satisfied: tqdm<5.0.0,>=4.42.1 in /usr/local/lib/python3.7/dist-packages (from pyppeteer>=0.0.14->requests_html) (4.64.0)\n",
            "Requirement already satisfied: appdirs<2.0.0,>=1.4.3 in /usr/local/lib/python3.7/dist-packages (from pyppeteer>=0.0.14->requests_html) (1.4.4)\n",
            "Collecting pyee<9.0.0,>=8.1.0\n",
            "  Downloading pyee-8.2.2-py2.py3-none-any.whl (12 kB)\n",
            "Requirement already satisfied: typing-extensions>=3.6.4 in /usr/local/lib/python3.7/dist-packages (from importlib-metadata>=1.4->pyppeteer>=0.0.14->requests_html) (4.2.0)\n",
            "Requirement already satisfied: zipp>=0.5 in /usr/local/lib/python3.7/dist-packages (from importlib-metadata>=1.4->pyppeteer>=0.0.14->requests_html) (3.8.0)\n",
            "Requirement already satisfied: beautifulsoup4 in /usr/local/lib/python3.7/dist-packages (from bs4->requests_html) (4.6.3)\n",
            "Collecting cssselect>0.7.9\n",
            "  Downloading cssselect-1.1.0-py2.py3-none-any.whl (16 kB)\n",
            "Requirement already satisfied: lxml>=2.1 in /usr/local/lib/python3.7/dist-packages (from pyquery->requests_html) (4.2.6)\n",
            "Collecting urllib3<2.0.0,>=1.25.8\n",
            "  Downloading urllib3-1.25.11-py2.py3-none-any.whl (127 kB)\n",
            "\u001b[K     |████████████████████████████████| 127 kB 72.7 MB/s \n",
            "\u001b[?25hRequirement already satisfied: idna<3,>=2.5 in /usr/local/lib/python3.7/dist-packages (from requests->requests_html) (2.10)\n",
            "Requirement already satisfied: chardet<4,>=3.0.2 in /usr/local/lib/python3.7/dist-packages (from requests->requests_html) (3.0.4)\n",
            "Requirement already satisfied: six>=1.4.1 in /usr/local/lib/python3.7/dist-packages (from w3lib->requests_html) (1.15.0)\n",
            "Building wheels for collected packages: fake-useragent, parse\n",
            "  Building wheel for fake-useragent (setup.py) ... \u001b[?25l\u001b[?25hdone\n",
            "  Created wheel for fake-useragent: filename=fake_useragent-0.1.11-py3-none-any.whl size=13502 sha256=0c2c88408aafea90cb1e9daad36e653ca0c7506d80f5ad4e5ead7a75aa331465\n",
            "  Stored in directory: /root/.cache/pip/wheels/ed/f7/62/50ab6c9a0b5567267ab76a9daa9d06315704209b2c5d032031\n",
            "  Building wheel for parse (setup.py) ... \u001b[?25l\u001b[?25hdone\n",
            "  Created wheel for parse: filename=parse-1.19.0-py3-none-any.whl size=24591 sha256=060607d11c159bc8a535deedd11090c47345091e583247588d3090b75a31c71b\n",
            "  Stored in directory: /root/.cache/pip/wheels/9c/aa/cc/f2228050ccb40f22144b073f15a2c84f11204f29fc0dce028e\n",
            "Successfully built fake-useragent parse\n",
            "Installing collected packages: websockets, urllib3, pyee, cssselect, w3lib, pyquery, pyppeteer, parse, fake-useragent, requests-html\n",
            "  Attempting uninstall: urllib3\n",
            "    Found existing installation: urllib3 1.24.3\n",
            "    Uninstalling urllib3-1.24.3:\n",
            "      Successfully uninstalled urllib3-1.24.3\n",
            "\u001b[31mERROR: pip's dependency resolver does not currently take into account all the packages that are installed. This behaviour is the source of the following dependency conflicts.\n",
            "datascience 0.10.6 requires folium==0.2.1, but you have folium 0.8.3 which is incompatible.\u001b[0m\n",
            "Successfully installed cssselect-1.1.0 fake-useragent-0.1.11 parse-1.19.0 pyee-8.2.2 pyppeteer-1.0.2 pyquery-1.4.3 requests-html-0.10.0 urllib3-1.25.11 w3lib-1.22.0 websockets-10.3\n"
          ]
        }
      ]
    },
    {
      "cell_type": "code",
      "source": [
        "#@title Run Import Modules\n",
        "import requests\n",
        "import urllib\n",
        "import json\n",
        "import operator\n",
        "import pandas as pd\n",
        "from requests_html import HTML\n",
        "from requests_html import HTMLSession\n"
      ],
      "metadata": {
        "id": "-Du5Iue8l9dr"
      },
      "execution_count": null,
      "outputs": []
    },
    {
      "cell_type": "markdown",
      "source": [
        "#Set up connections with Google SERPs"
      ],
      "metadata": {
        "id": "zFcqyMY7luoT"
      }
    },
    {
      "cell_type": "code",
      "source": [
        "def get_source(url):\n",
        "\n",
        "    try:\n",
        "        session = HTMLSession()\n",
        "        response = session.get(url)\n",
        "        return response\n",
        "    except requests.exceptions.RequestException as e:\n",
        "        print(e)"
      ],
      "metadata": {
        "id": "o97ujs1tmWvr"
      },
      "execution_count": null,
      "outputs": []
    },
    {
      "cell_type": "code",
      "source": [
        "def get_results(query):\n",
        "    query = urllib.parse.quote_plus(query)\n",
        "    response = get_source(\"https://suggestqueries.google.com/complete/search?output=chrome&hl=en&q=\" + query)\n",
        "    results = json.loads(response.text)\n",
        "    return results"
      ],
      "metadata": {
        "id": "7xXrE89ome8N"
      },
      "execution_count": null,
      "outputs": []
    },
    {
      "cell_type": "code",
      "source": [
        "#@title Type your Keyword\n",
        "search_term = \"retirement villages\" #@param {type:\"string\"}\n",
        "results = get_results(search_term)\n",
        "results"
      ],
      "metadata": {
        "colab": {
          "base_uri": "https://localhost:8080/"
        },
        "id": "8uIuuoFrmqnk",
        "outputId": "3d241e29-635b-42a6-a64d-68a1fc3db55c"
      },
      "execution_count": null,
      "outputs": [
        {
          "output_type": "execute_result",
          "data": {
            "text/plain": [
              "['retirement villages',\n",
              " ['retirement villages texas',\n",
              "  'retirement villages north carolina',\n",
              "  'retirement villages near me',\n",
              "  'retirement villages in florida',\n",
              "  'retirement villages in arizona',\n",
              "  'retirement villages in south carolina',\n",
              "  'retirement villages by the sea',\n",
              "  'retirement villages uk'],\n",
              " ['', '', '', '', '', '', '', ''],\n",
              " [],\n",
              " {'google:clientdata': {'bpc': False, 'tlw': False},\n",
              "  'google:suggestrelevance': [601, 600, 555, 554, 553, 552, 551, 550],\n",
              "  'google:suggestsubtypes': [[402],\n",
              "   [402],\n",
              "   [512],\n",
              "   [512],\n",
              "   [512],\n",
              "   [512],\n",
              "   [512],\n",
              "   [512]],\n",
              "  'google:suggesttype': ['QUERY',\n",
              "   'QUERY',\n",
              "   'QUERY',\n",
              "   'QUERY',\n",
              "   'QUERY',\n",
              "   'QUERY',\n",
              "   'QUERY',\n",
              "   'QUERY'],\n",
              "  'google:verbatimrelevance': 1300}]"
            ]
          },
          "metadata": {},
          "execution_count": 5
        }
      ]
    },
    {
      "cell_type": "markdown",
      "source": [
        "#Let's format the results"
      ],
      "metadata": {
        "id": "lvVH4nkmjuHq"
      }
    },
    {
      "cell_type": "code",
      "source": [
        "def format_results(results):\n",
        "    suggestions = []\n",
        "    for index, value in enumerate(results[1]):\n",
        "        suggestion = {'term': value, 'relevance': results[4]['google:suggestrelevance'][index]}\n",
        "        suggestions.append(suggestion)\n",
        "    return suggestions"
      ],
      "metadata": {
        "id": "6fhRNzuNnFMp"
      },
      "execution_count": null,
      "outputs": []
    },
    {
      "cell_type": "code",
      "source": [
        "formatted_results = format_results(results)\n",
        "formatted_results\n"
      ],
      "metadata": {
        "colab": {
          "base_uri": "https://localhost:8080/"
        },
        "id": "wbwikz_DnUGy",
        "outputId": "2aefc429-0253-426d-f6f4-1d8ec3087033"
      },
      "execution_count": null,
      "outputs": [
        {
          "output_type": "execute_result",
          "data": {
            "text/plain": [
              "[{'relevance': 601, 'term': 'retirement villages texas'},\n",
              " {'relevance': 600, 'term': 'retirement villages north carolina'},\n",
              " {'relevance': 555, 'term': 'retirement villages near me'},\n",
              " {'relevance': 554, 'term': 'retirement villages in florida'},\n",
              " {'relevance': 553, 'term': 'retirement villages in arizona'},\n",
              " {'relevance': 552, 'term': 'retirement villages in south carolina'},\n",
              " {'relevance': 551, 'term': 'retirement villages by the sea'},\n",
              " {'relevance': 550, 'term': 'retirement villages uk'}]"
            ]
          },
          "metadata": {},
          "execution_count": 7
        }
      ]
    },
    {
      "cell_type": "markdown",
      "source": [
        "🔗 **\"Relevance\"**  refers to an automated estimation based on the frequency that specific term is subjected to in the search results page"
      ],
      "metadata": {
        "id": "BsqHNPuHHcZ1"
      }
    },
    {
      "cell_type": "markdown",
      "source": [
        "#Spice-up the research by adding some term suffixes 🌶"
      ],
      "metadata": {
        "id": "X2SUyePMj1zC"
      }
    },
    {
      "cell_type": "code",
      "source": [
        "def get_expanded_term_suffixes():\n",
        "    expanded_term_suffixes = ['a', 'b', 'c', 'd', 'e', 'f', 'g', 'h', 'i', 'j', 'k', 'l', 'm',\n",
        "                             'n', 'o', 'p', 'q', 'r', 's', 't', 'u', 'v', 'w', 'x', 'y', 'z']\n",
        "    return expanded_term_suffixes"
      ],
      "metadata": {
        "id": "NYXmYDxjn8rb"
      },
      "execution_count": null,
      "outputs": []
    },
    {
      "cell_type": "markdown",
      "source": [
        "#Define your Content Angle according to the target funnel stage"
      ],
      "metadata": {
        "id": "YR46EYM8kSAd"
      }
    },
    {
      "cell_type": "code",
      "source": [
        "def get_expanded_term_prefixes():\n",
        "    expanded_term_prefixes = ['what *', 'where *', 'how to *', 'why *', 'buy*', 'how much*',\n",
        "                              'best *', 'worse *', 'rent*', 'sale*', 'offer*','vs*','or*'\n",
        "                             ]\n",
        "    return expanded_term_prefixes "
      ],
      "metadata": {
        "id": "zbEaw8GYoChC"
      },
      "execution_count": null,
      "outputs": []
    },
    {
      "cell_type": "markdown",
      "source": [
        "Content angle default's definition: \n",
        "\n",
        "\n",
        "```\n",
        "# ['what *', 'where *', 'how to *', 'why *', 'vs*', 'or*', 'buy*', 'how much*',\n",
        "                              'best *', 'worse *', 'tutorial *', 'tips *', 'ideas *', 'review *', 'guide *' \n",
        "                             ]\n",
        "```\n",
        "\n"
      ],
      "metadata": {
        "id": "5TgR_6nZ_DCX"
      }
    },
    {
      "cell_type": "markdown",
      "source": [
        "#Make sure to expand the search "
      ],
      "metadata": {
        "id": "EAejRN2RkoNS"
      }
    },
    {
      "cell_type": "code",
      "source": [
        "def get_expanded_terms(query):\n",
        "\n",
        "    expanded_term_prefixes = get_expanded_term_prefixes()\n",
        "    expanded_term_suffixes = get_expanded_term_suffixes()   \n",
        "\n",
        "    terms = []\n",
        "    terms.append(query)\n",
        "\n",
        "    for term in expanded_term_prefixes:\n",
        "        terms.append(term + ' ' + query)\n",
        "\n",
        "    for term in expanded_term_suffixes:\n",
        "        terms.append(query + ' ' + term)\n",
        "\n",
        "    return terms\n"
      ],
      "metadata": {
        "id": "PTH910b3oeke"
      },
      "execution_count": null,
      "outputs": []
    },
    {
      "cell_type": "code",
      "source": [
        "get_expanded_terms(search_term)\n"
      ],
      "metadata": {
        "colab": {
          "base_uri": "https://localhost:8080/"
        },
        "id": "B2EnmWp9omrr",
        "outputId": "d739ff33-1a0d-42de-b183-4c411b6cc7a4"
      },
      "execution_count": null,
      "outputs": [
        {
          "output_type": "execute_result",
          "data": {
            "text/plain": [
              "['retirement villages',\n",
              " 'what * retirement villages',\n",
              " 'where * retirement villages',\n",
              " 'how to * retirement villages',\n",
              " 'why * retirement villages',\n",
              " 'buy* retirement villages',\n",
              " 'how much* retirement villages',\n",
              " 'best * retirement villages',\n",
              " 'worse * retirement villages',\n",
              " 'rent* retirement villages',\n",
              " 'sale* retirement villages',\n",
              " 'offer* retirement villages',\n",
              " 'vs* retirement villages',\n",
              " 'or* retirement villages',\n",
              " 'retirement villages a',\n",
              " 'retirement villages b',\n",
              " 'retirement villages c',\n",
              " 'retirement villages d',\n",
              " 'retirement villages e',\n",
              " 'retirement villages f',\n",
              " 'retirement villages g',\n",
              " 'retirement villages h',\n",
              " 'retirement villages i',\n",
              " 'retirement villages j',\n",
              " 'retirement villages k',\n",
              " 'retirement villages l',\n",
              " 'retirement villages m',\n",
              " 'retirement villages n',\n",
              " 'retirement villages o',\n",
              " 'retirement villages p',\n",
              " 'retirement villages q',\n",
              " 'retirement villages r',\n",
              " 'retirement villages s',\n",
              " 'retirement villages t',\n",
              " 'retirement villages u',\n",
              " 'retirement villages v',\n",
              " 'retirement villages w',\n",
              " 'retirement villages x',\n",
              " 'retirement villages y',\n",
              " 'retirement villages z']"
            ]
          },
          "metadata": {},
          "execution_count": 11
        }
      ]
    },
    {
      "cell_type": "markdown",
      "source": [
        "#Look for further suggestions\n",
        "\n",
        "\n"
      ],
      "metadata": {
        "id": "02N29aAokvft"
      }
    },
    {
      "cell_type": "code",
      "source": [
        "def get_expanded_suggestions(query):\n",
        "\n",
        "    all_results = []\n",
        "\n",
        "    expanded_terms = get_expanded_terms(query)\n",
        "    for term in expanded_terms:\n",
        "        results = get_results(term)\n",
        "        results = format_results(results)\n",
        "        all_results = all_results + results\n",
        "        all_results = sorted(all_results, key=lambda k: k['relevance'], reverse=True)\n",
        "    return all_results\n"
      ],
      "metadata": {
        "id": "BDP4KZRMov-H"
      },
      "execution_count": null,
      "outputs": []
    },
    {
      "cell_type": "code",
      "source": [
        "expanded_results = get_expanded_suggestions(search_term)\n",
        "expanded_results"
      ],
      "metadata": {
        "colab": {
          "base_uri": "https://localhost:8080/"
        },
        "id": "7OyDeDORozwd",
        "outputId": "4dd5103d-3f39-4cd6-df2d-31cb4c7a51e9"
      },
      "execution_count": null,
      "outputs": [
        {
          "output_type": "execute_result",
          "data": {
            "text/plain": [
              "[{'relevance': 1251, 'term': 'retirement villages oregon'},\n",
              " {'relevance': 1251, 'term': 'retirement villages queensland'},\n",
              " {'relevance': 1251, 'term': 'retirement villages tennessee'},\n",
              " {'relevance': 1251, 'term': 'retirement villages victoria'},\n",
              " {'relevance': 1251, 'term': 'retirement villages yorkshire'},\n",
              " {'relevance': 1250, 'term': 'retirement villages arizona'},\n",
              " {'relevance': 1250, 'term': 'retirement villages by the sea'},\n",
              " {'relevance': 1250, 'term': 'retirement villages colorado'},\n",
              " {'relevance': 1250, 'term': 'retirement villages delaware'},\n",
              " {'relevance': 1250, 'term': 'retirement villages florida'},\n",
              " {'relevance': 1250, 'term': 'retirement villages group'},\n",
              " {'relevance': 1250, 'term': 'retirement villages in florida'},\n",
              " {'relevance': 1250,\n",
              "  'term': 'retirement villages johannesburg northern suburbs'},\n",
              " {'relevance': 1250, 'term': 'retirement villages las vegas'},\n",
              " {'relevance': 1250, 'term': 'retirement villages montana'},\n",
              " {'relevance': 1250, 'term': 'retirement villages near me'},\n",
              " {'relevance': 1250, 'term': 'retirement villages ocala florida'},\n",
              " {'relevance': 1250, 'term': 'retirement villages pennsylvania'},\n",
              " {'relevance': 1250, 'term': 'retirement villages qld'},\n",
              " {'relevance': 1250, 'term': 'retirement villages tampa florida'},\n",
              " {'relevance': 1250, 'term': 'retirement villages uk'},\n",
              " {'relevance': 1250, 'term': 'retirement villages victoria point'},\n",
              " {'relevance': 1250, 'term': 'retirement villages with golf course'},\n",
              " {'relevance': 1250, 'term': 'retirement villages yeppoon'},\n",
              " {'relevance': 1200, 'term': 'retirement villages victor harbor'},\n",
              " {'relevance': 1100, 'term': 'retirement villages johannesburg'},\n",
              " {'relevance': 1100, 'term': 'retirement villages with bungalows uk'},\n",
              " {'relevance': 1050, 'term': 'retirement villages queenstown'},\n",
              " {'relevance': 1050, 'term': 'retirement villages texas'},\n",
              " {'relevance': 1000, 'term': 'retirement villages hamilton'},\n",
              " {'relevance': 1000, 'term': 'retirement villages queanbeyan'},\n",
              " {'relevance': 950, 'term': 'retirement villages hervey bay'},\n",
              " {'relevance': 950, 'term': 'retirement villages kent'},\n",
              " {'relevance': 950, 'term': 'retirement villages regulations'},\n",
              " {'relevance': 950, 'term': 'retirement villages york'},\n",
              " {'relevance': 751, 'term': 'retirement villages kapiti'},\n",
              " {'relevance': 750, 'term': 'retirement villages eastern suburbs melbourne'},\n",
              " {'relevance': 750, 'term': 'retirement villages hobart'},\n",
              " {'relevance': 750, 'term': 'retirement villages krugersdorp'},\n",
              " {'relevance': 700, 'term': 'retirement villages east rand'},\n",
              " {'relevance': 700, 'term': 'retirement villages hermanus'},\n",
              " {'relevance': 700, 'term': 'retirement villages in arizona'},\n",
              " {'relevance': 700, 'term': 'retirement villages johannesburg south'},\n",
              " {'relevance': 650, 'term': 'retirement villages east london'},\n",
              " {'relevance': 650, 'term': 'retirement villages fl'},\n",
              " {'relevance': 650, 'term': 'retirement villages garden route for sale'},\n",
              " {'relevance': 602, 'term': 'retirement villages kzn'},\n",
              " {'relevance': 601, 'term': 'retirement villages texas'},\n",
              " {'relevance': 601, 'term': 'which retirement villages'},\n",
              " {'relevance': 601,\n",
              "  'term': 'where is the villages retirement community in florida'},\n",
              " {'relevance': 601, 'term': 'how do retirement villages work'},\n",
              " {'relevance': 601, 'term': 'why retirement village'},\n",
              " {'relevance': 601, 'term': 'buy in retirement community'},\n",
              " {'relevance': 601, 'term': 'how much retirement homes cost'},\n",
              " {'relevance': 601, 'term': 'best retirement villages in uk'},\n",
              " {'relevance': 601, 'term': 'worst retirement home'},\n",
              " {'relevance': 601, 'term': 'rent retirement villages'},\n",
              " {'relevance': 601, 'term': 'sale retirement village'},\n",
              " {'relevance': 601, 'term': 'retirement v'},\n",
              " {'relevance': 601, 'term': 'orrvilla retirement community'},\n",
              " {'relevance': 601, 'term': 'retirement villages act'},\n",
              " {'relevance': 601, 'term': 'retirement villages brisbane'},\n",
              " {'relevance': 601, 'term': 'retirement villages cape town'},\n",
              " {'relevance': 601, 'term': 'retirement villages durban'},\n",
              " {'relevance': 601, 'term': 'retirement villages east sussex'},\n",
              " {'relevance': 601, 'term': 'retirement villages for sale'},\n",
              " {'relevance': 601, 'term': 'retirement villages gold coast'},\n",
              " {'relevance': 601, 'term': 'retirement villages hawkes bay'},\n",
              " {'relevance': 601, 'term': 'retirement villages in south carolina'},\n",
              " {'relevance': 601, 'term': 'retirement villages jobs'},\n",
              " {'relevance': 601, 'term': 'retirement villages kerikeri'},\n",
              " {'relevance': 601, 'term': 'retirement villages london'},\n",
              " {'relevance': 601, 'term': 'retirement villages melbourne'},\n",
              " {'relevance': 601, 'term': 'retirement villages texas'},\n",
              " {'relevance': 601, 'term': 'retirement villages orewa'},\n",
              " {'relevance': 601, 'term': 'retirement villages perth'},\n",
              " {'relevance': 601, 'term': 'retirement villages queensland coast'},\n",
              " {'relevance': 601, 'term': 'retirement villages roodepoort'},\n",
              " {'relevance': 601, 'term': 'retirement villages south carolina'},\n",
              " {'relevance': 601, 'term': 'retirement villages tauranga'},\n",
              " {'relevance': 601, 'term': 'retirement villages umhlanga'},\n",
              " {'relevance': 601, 'term': 'retirement villages vaal triangle'},\n",
              " {'relevance': 601, 'term': 'retirement villages western cape'},\n",
              " {'relevance': 601, 'term': 'retirement communities xenia ohio'},\n",
              " {'relevance': 601, 'term': 'retirement villages yamba'},\n",
              " {'relevance': 601, 'term': 'retirement villages zimbabwe'},\n",
              " {'relevance': 600, 'term': 'retirement villages north carolina'},\n",
              " {'relevance': 600, 'term': 'what is audley retirement villages'},\n",
              " {'relevance': 600, 'term': 'where is the villages retirement'},\n",
              " {'relevance': 600, 'term': 'how retirement villages work'},\n",
              " {'relevance': 600, 'term': 'why retirement homes'},\n",
              " {'relevance': 600, 'term': 'buy house in retirement village'},\n",
              " {'relevance': 600, 'term': 'how much are retirement villages'},\n",
              " {'relevance': 600, 'term': 'best retirement villages in western cape'},\n",
              " {'relevance': 600, 'term': 'worst retirement plans'},\n",
              " {'relevance': 600, 'term': 'rental retirement villages brisbane northside'},\n",
              " {'relevance': 600, 'term': 'houses for sale retirement villages durbanville'},\n",
              " {'relevance': 600, 'term': 'village retirement'},\n",
              " {'relevance': 600, 'term': 'service retirement vs vested retirement'},\n",
              " {'relevance': 600, 'term': 'orlando retirement community'},\n",
              " {'relevance': 600, 'term': 'retirement villages adelaide'},\n",
              " {'relevance': 600, 'term': 'retirement villages ballarat'},\n",
              " {'relevance': 600, 'term': 'retirement villages central coast'},\n",
              " {'relevance': 600, 'term': 'retirement villages durbanville'},\n",
              " {'relevance': 600, 'term': 'retirement villages edenvale'},\n",
              " {'relevance': 600, 'term': 'retirement villages for sale nsw'},\n",
              " {'relevance': 600, 'term': 'retirement villages geelong'},\n",
              " {'relevance': 600, 'term': 'retirement villages hillcrest'},\n",
              " {'relevance': 600, 'term': 'retirement villages in north carolina'},\n",
              " {'relevance': 600, 'term': 'retirement villages joondalup'},\n",
              " {'relevance': 600, 'term': 'retirement villages knysna'},\n",
              " {'relevance': 600, 'term': 'retirement villages lower hutt'},\n",
              " {'relevance': 600, 'term': 'retirement villages mornington peninsula'},\n",
              " {'relevance': 600, 'term': 'retirement villages north carolina'},\n",
              " {'relevance': 600, 'term': 'retirement villages ontario'},\n",
              " {'relevance': 600, 'term': 'retirement villages pretoria'},\n",
              " {'relevance': 600, 'term': 'retirement villages queensland sunshine coast'},\n",
              " {'relevance': 600, 'term': 'retirement villages randburg'},\n",
              " {'relevance': 600, 'term': 'retirement villages sarasota fl'},\n",
              " {'relevance': 600, 'term': 'retirement villages toowoomba'},\n",
              " {'relevance': 600, 'term': 'retirement villages upper hutt'},\n",
              " {'relevance': 600, 'term': 'retirement villages vereeniging'},\n",
              " {'relevance': 600, 'term': 'retirement villages wellington'},\n",
              " {'relevance': 600, 'term': 'legacy retirement village xenia ohio'},\n",
              " {'relevance': 600, 'term': 'retirement villages yarra valley'},\n",
              " {'relevance': 600, 'term': 'retirement villages zillmere'},\n",
              " {'relevance': 555, 'term': 'retirement villages near me'},\n",
              " {'relevance': 555, 'term': 'how much do retirement homes cost'},\n",
              " {'relevance': 555, 'term': 'best retirement villages in victoria'},\n",
              " {'relevance': 555, 'term': 'rental retirement villages south australia'},\n",
              " {'relevance': 555, 'term': 'houses for sale retirement villages pretoria'},\n",
              " {'relevance': 555, 'term': 'retirement villages sydney'},\n",
              " {'relevance': 555, 'term': 'retirement villages zevenwacht'},\n",
              " {'relevance': 554, 'term': 'retirement villages in florida'},\n",
              " {'relevance': 554, 'term': 'how much are retirement homes'},\n",
              " {'relevance': 554, 'term': 'best retirement villages in south australia'},\n",
              " {'relevance': 554, 'term': 'rental retirement villages mornington peninsula'},\n",
              " {'relevance': 554,\n",
              "  'term': 'houses for sale retirement villages somerset west'},\n",
              " {'relevance': 554, 'term': 'retirement villages auckland'},\n",
              " {'relevance': 554, 'term': 'retirement villages brisbane northside'},\n",
              " {'relevance': 554, 'term': 'retirement villages christchurch'},\n",
              " {'relevance': 554, 'term': 'retirement villages durban north'},\n",
              " {'relevance': 554, 'term': 'retirement villages launceston'},\n",
              " {'relevance': 554, 'term': 'retirement villages mandurah'},\n",
              " {'relevance': 554, 'term': 'retirement villages near tampa florida'},\n",
              " {'relevance': 554, 'term': 'retirement villages port macquarie'},\n",
              " {'relevance': 554, 'term': 'retirement villages redcliffe'},\n",
              " {'relevance': 554, 'term': 'retirement villages sunshine coast'},\n",
              " {'relevance': 554, 'term': 'retirement villages units for sale'},\n",
              " {'relevance': 554, 'term': 'retirement village zimbali'},\n",
              " {'relevance': 553, 'term': 'retirement villages in arizona'},\n",
              " {'relevance': 553, 'term': 'how do over 55 retirement villages work'},\n",
              " {'relevance': 553, 'term': 'how much are retirement communities'},\n",
              " {'relevance': 553, 'term': 'best retirement villages in ireland'},\n",
              " {'relevance': 553, 'term': 'rental retirement villages central coast nsw'},\n",
              " {'relevance': 553, 'term': 'stockland sale of retirement villages'},\n",
              " {'relevance': 553, 'term': 'retirement villages act nsw'},\n",
              " {'relevance': 553, 'term': 'retirement villages bundaberg'},\n",
              " {'relevance': 553, 'term': 'retirement villages canberra'},\n",
              " {'relevance': 553, 'term': 'retirement villages durbanville for sale'},\n",
              " {'relevance': 553, 'term': 'retirement villages for rent'},\n",
              " {'relevance': 553, 'term': 'retirement villages george'},\n",
              " {'relevance': 553, 'term': 'retirement villages in texas'},\n",
              " {'relevance': 553, 'term': 'retirement villages lake macquarie'},\n",
              " {'relevance': 553, 'term': 'retirement villages mossel bay'},\n",
              " {'relevance': 553, 'term': 'retirement villages near orlando florida'},\n",
              " {'relevance': 553, 'term': 'retirement villages orange'},\n",
              " {'relevance': 553, 'term': 'retirement villages penrith'},\n",
              " {'relevance': 553, 'term': 'retirement villages rotorua'},\n",
              " {'relevance': 553, 'term': 'retirement villages scotland'},\n",
              " {'relevance': 553, 'term': 'retirement villages upper highway kzn'},\n",
              " {'relevance': 553, 'term': 'retirement villages whangarei'},\n",
              " {'relevance': 553, 'term': 'which are the best retirement villages'},\n",
              " {'relevance': 553, 'term': 'retirement communities zephyrhills fl'},\n",
              " {'relevance': 552, 'term': 'retirement villages in south carolina'},\n",
              " {'relevance': 552, 'term': 'which are the best retirement villages'},\n",
              " {'relevance': 552, 'term': 'how retirement villages work'},\n",
              " {'relevance': 552, 'term': 'are retirement villages expensive'},\n",
              " {'relevance': 552, 'term': 'how much are retirement homes in ontario'},\n",
              " {'relevance': 552, 'term': 'best retirement villages gold coast'},\n",
              " {'relevance': 552, 'term': 'rental retirement villages perth'},\n",
              " {'relevance': 552, 'term': 'retirement villages sale victoria'},\n",
              " {'relevance': 552, 'term': 'retirement villages act qld'},\n",
              " {'relevance': 552, 'term': 'retirement villages benoni'},\n",
              " {'relevance': 552, 'term': 'retirement villages centurion'},\n",
              " {'relevance': 552, 'term': 'retirement villages dunedin'},\n",
              " {'relevance': 552, 'term': 'retirement villages east auckland'},\n",
              " {'relevance': 552, 'term': 'retirement villages fourways'},\n",
              " {'relevance': 552, 'term': 'retirement villages gold coast for sale'},\n",
              " {'relevance': 552, 'term': 'retirement villages in georgia'},\n",
              " {'relevance': 552, 'term': 'retirement villages jeffreys bay'},\n",
              " {'relevance': 552, 'term': 'retirement villages leicestershire'},\n",
              " {'relevance': 552, 'term': 'retirement villages mackay'},\n",
              " {'relevance': 552, 'term': 'retirement villages near disney world'},\n",
              " {'relevance': 552, 'term': 'retirement villages overberg'},\n",
              " {'relevance': 552, 'term': 'retirement villages papamoa'},\n",
              " {'relevance': 552, 'term': 'retirement villages rentals'},\n",
              " {'relevance': 552, 'term': 'retirement villages somerset west'},\n",
              " {'relevance': 552, 'term': 'retirement villages townsville'},\n",
              " {'relevance': 552, 'term': 'retirement villages ulladulla'},\n",
              " {'relevance': 552, 'term': 'retirement villages victor harbour'},\n",
              " {'relevance': 552, 'term': 'retirement villages wollongong'},\n",
              " {'relevance': 552, 'term': 'are retirement villages a good idea'},\n",
              " {'relevance': 552, 'term': 'retirement villages yorkshire uk'},\n",
              " {'relevance': 552, 'term': 'retirement communities zionsville in'},\n",
              " {'relevance': 551, 'term': 'retirement villages by the sea'},\n",
              " {'relevance': 551, 'term': 'how retirement villages work'},\n",
              " {'relevance': 551, 'term': 'which are the best retirement villages'},\n",
              " {'relevance': 551, 'term': 'how do retirement villages make money'},\n",
              " {'relevance': 551, 'term': 'how retirement villages work'},\n",
              " {'relevance': 551, 'term': 'how much are retirement homes in florida'},\n",
              " {'relevance': 551, 'term': 'best retirement villages'},\n",
              " {'relevance': 551, 'term': 'worst retirement homes in america'},\n",
              " {'relevance': 551, 'term': 'rental retirement villages melbourne'},\n",
              " {'relevance': 551, 'term': 'retirement villages sale cape town'},\n",
              " {'relevance': 551, 'term': 'retirement villages act victoria'},\n",
              " {'relevance': 551, 'term': 'retirement villages bendigo'},\n",
              " {'relevance': 551, 'term': 'retirement villages cairns'},\n",
              " {'relevance': 551, 'term': 'retirement villages devon'},\n",
              " {'relevance': 551, 'term': 'retirement villages echuca moama'},\n",
              " {'relevance': 551, 'term': 'retirement villages frankston'},\n",
              " {'relevance': 551, 'term': 'retirement villages gold coast pet friendly'},\n",
              " {'relevance': 551, 'term': 'retirement villages hastings'},\n",
              " {'relevance': 551, 'term': 'retirement villages in delaware'},\n",
              " {'relevance': 551, 'term': 'retirement villages johannesburg for rent'},\n",
              " {'relevance': 551, 'term': 'retirement villages klerksdorp'},\n",
              " {'relevance': 551, 'term': 'retirement villages leeds'},\n",
              " {'relevance': 551, 'term': 'retirement villages mornington'},\n",
              " {'relevance': 551, 'term': 'retirement villages newcastle'},\n",
              " {'relevance': 551, 'term': 'retirement villages oxfordshire'},\n",
              " {'relevance': 551, 'term': 'retirement villages port elizabeth'},\n",
              " {'relevance': 551, 'term': 'retirement villages queenstown new zealand'},\n",
              " {'relevance': 551, 'term': 'retirement villages rockhampton'},\n",
              " {'relevance': 551, 'term': 'retirement villages south australia'},\n",
              " {'relevance': 551, 'term': 'retirement villages that allow pets'},\n",
              " {'relevance': 551, 'term': 'retirement villages usa'},\n",
              " {'relevance': 551, 'term': 'retirement villages vancouver'},\n",
              " {'relevance': 551, 'term': 'retirement villages west rand'},\n",
              " {'relevance': 551, 'term': 'are retirement villages expensive'},\n",
              " {'relevance': 551, 'term': 'retirement villages yorkshire dales'},\n",
              " {'relevance': 551, 'term': 'retirement homes zoopla'},\n",
              " {'relevance': 550, 'term': 'retirement villages uk'},\n",
              " {'relevance': 550, 'term': 'how do over 55 retirement villages work'},\n",
              " {'relevance': 550, 'term': 'how do over 55 retirement villages work'},\n",
              " {'relevance': 550, 'term': 'are retirement villages a good investment'},\n",
              " {'relevance': 550, 'term': 'are retirement villages worth it'},\n",
              " {'relevance': 550, 'term': 'how much are retirement communities in florida'},\n",
              " {'relevance': 550, 'term': 'best retirement villages in portugal'},\n",
              " {'relevance': 550, 'term': 'worst retirement mistakes'},\n",
              " {'relevance': 550, 'term': 'rental retirement villages adelaide'},\n",
              " {'relevance': 550, 'term': 'cheapest retirement villages'},\n",
              " {'relevance': 550, 'term': 'villages retirement community'},\n",
              " {'relevance': 550, 'term': 'retirement villages act 1999'},\n",
              " {'relevance': 550, 'term': 'retirement villages bloemfontein'},\n",
              " {'relevance': 550, 'term': 'retirement villages cambridge'},\n",
              " {'relevance': 550, 'term': 'retirement villages durbanville to rent'},\n",
              " {'relevance': 550, 'term': 'retirement villages edinburgh'},\n",
              " {'relevance': 550, 'term': 'retirement villages forster'},\n",
              " {'relevance': 550, 'term': 'retirement villages gauteng'},\n",
              " {'relevance': 550, 'term': 'retirement villages hampshire'},\n",
              " {'relevance': 550, 'term': 'retirement villages in tampa florida'},\n",
              " {'relevance': 550, 'term': 'retirement villages johannesburg north'},\n",
              " {'relevance': 550, 'term': 'retirement villages knox'},\n",
              " {'relevance': 550, 'term': 'retirement villages liverpool'},\n",
              " {'relevance': 550, 'term': 'retirement villages melbourne for sale'},\n",
              " {'relevance': 550, 'term': 'retirement villages nz'},\n",
              " {'relevance': 550, 'term': 'retirement villages ocean grove'},\n",
              " {'relevance': 550, 'term': 'retirement villages palmerston north'},\n",
              " {'relevance': 550, 'term': 'retirement villages queensland gold coast'},\n",
              " {'relevance': 550, 'term': 'retirement villages redlands'},\n",
              " {'relevance': 550, 'term': 'retirement villages sheffield'},\n",
              " {'relevance': 550, 'term': 'retirement villages to rent'},\n",
              " {'relevance': 550, 'term': 'retirement villages uk costs'},\n",
              " {'relevance': 550, 'term': 'retirement villages victoria australia'},\n",
              " {'relevance': 550, 'term': 'retirement villages western cape for sale'},\n",
              " {'relevance': 550, 'term': 'are retirement villages worth it'},\n",
              " {'relevance': 550, 'term': 'retirement villages yeronga'},\n",
              " {'relevance': 550, 'term': 'retirement homes zephyrhills'}]"
            ]
          },
          "metadata": {},
          "execution_count": 13
        }
      ]
    }
  ]
}