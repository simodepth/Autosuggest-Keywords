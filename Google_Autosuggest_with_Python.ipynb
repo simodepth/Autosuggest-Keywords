{
  "nbformat": 4,
  "nbformat_minor": 0,
  "metadata": {
    "colab": {
      "name": "Google Autosuggest with Python.ipynb",
      "provenance": [],
      "include_colab_link": true
    },
    "kernelspec": {
      "name": "python3",
      "display_name": "Python 3"
    },
    "language_info": {
      "name": "python"
    },
    "accelerator": "GPU"
  },
  "cells": [
    {
      "cell_type": "markdown",
      "metadata": {
        "id": "view-in-github",
        "colab_type": "text"
      },
      "source": [
        "<a href=\"https://colab.research.google.com/github/simodepth/Autosuggest-Keywords/blob/main/Google_Autosuggest_with_Python.ipynb\" target=\"_parent\"><img src=\"https://colab.research.google.com/assets/colab-badge.svg\" alt=\"Open In Colab\"/></a>"
      ]
    },
    {
      "cell_type": "markdown",
      "source": [
        "#🚀 Run Google Autosuggest to find keywords ideas in bulk \n",
        "\n",
        "\n",
        "---\n",
        "\n",
        "\n",
        "```\n",
        "# N.B: Please makes sure you install requests_html module before to start\n",
        "```\n",
        "\n",
        "\n"
      ],
      "metadata": {
        "id": "KbASV8aAiiV6"
      }
    },
    {
      "cell_type": "code",
      "source": [
        "!pip install requests_html"
      ],
      "metadata": {
        "colab": {
          "base_uri": "https://localhost:8080/"
        },
        "id": "0fuz3sOsv1f6",
        "outputId": "9ea2c2e7-b6c9-488c-976c-8bbbf896176d",
        "cellView": "code"
      },
      "execution_count": null,
      "outputs": [
        {
          "output_type": "stream",
          "name": "stdout",
          "text": [
            "Collecting requests_html\n",
            "  Downloading requests_html-0.10.0-py3-none-any.whl (13 kB)\n",
            "Collecting parse\n",
            "  Downloading parse-1.19.0.tar.gz (30 kB)\n",
            "Collecting w3lib\n",
            "  Downloading w3lib-1.22.0-py2.py3-none-any.whl (20 kB)\n",
            "Collecting pyppeteer>=0.0.14\n",
            "  Downloading pyppeteer-1.0.2-py3-none-any.whl (83 kB)\n",
            "\u001b[K     |████████████████████████████████| 83 kB 1.4 MB/s \n",
            "\u001b[?25hRequirement already satisfied: requests in /usr/local/lib/python3.7/dist-packages (from requests_html) (2.23.0)\n",
            "Collecting fake-useragent\n",
            "  Downloading fake-useragent-0.1.11.tar.gz (13 kB)\n",
            "Requirement already satisfied: bs4 in /usr/local/lib/python3.7/dist-packages (from requests_html) (0.0.1)\n",
            "Collecting pyquery\n",
            "  Downloading pyquery-1.4.3-py3-none-any.whl (22 kB)\n",
            "Collecting websockets<11.0,>=10.0\n",
            "  Downloading websockets-10.3-cp37-cp37m-manylinux_2_5_x86_64.manylinux1_x86_64.manylinux_2_12_x86_64.manylinux2010_x86_64.whl (112 kB)\n",
            "\u001b[K     |████████████████████████████████| 112 kB 34.9 MB/s \n",
            "\u001b[?25hCollecting pyee<9.0.0,>=8.1.0\n",
            "  Downloading pyee-8.2.2-py2.py3-none-any.whl (12 kB)\n",
            "Requirement already satisfied: tqdm<5.0.0,>=4.42.1 in /usr/local/lib/python3.7/dist-packages (from pyppeteer>=0.0.14->requests_html) (4.64.0)\n",
            "Requirement already satisfied: importlib-metadata>=1.4 in /usr/local/lib/python3.7/dist-packages (from pyppeteer>=0.0.14->requests_html) (4.11.3)\n",
            "Requirement already satisfied: certifi>=2021 in /usr/local/lib/python3.7/dist-packages (from pyppeteer>=0.0.14->requests_html) (2021.10.8)\n",
            "Collecting urllib3<2.0.0,>=1.25.8\n",
            "  Downloading urllib3-1.26.9-py2.py3-none-any.whl (138 kB)\n",
            "\u001b[K     |████████████████████████████████| 138 kB 4.9 MB/s \n",
            "\u001b[?25hRequirement already satisfied: appdirs<2.0.0,>=1.4.3 in /usr/local/lib/python3.7/dist-packages (from pyppeteer>=0.0.14->requests_html) (1.4.4)\n",
            "Requirement already satisfied: typing-extensions>=3.6.4 in /usr/local/lib/python3.7/dist-packages (from importlib-metadata>=1.4->pyppeteer>=0.0.14->requests_html) (4.1.1)\n",
            "Requirement already satisfied: zipp>=0.5 in /usr/local/lib/python3.7/dist-packages (from importlib-metadata>=1.4->pyppeteer>=0.0.14->requests_html) (3.8.0)\n",
            "Requirement already satisfied: beautifulsoup4 in /usr/local/lib/python3.7/dist-packages (from bs4->requests_html) (4.6.3)\n",
            "Requirement already satisfied: lxml>=2.1 in /usr/local/lib/python3.7/dist-packages (from pyquery->requests_html) (4.2.6)\n",
            "Collecting cssselect>0.7.9\n",
            "  Downloading cssselect-1.1.0-py2.py3-none-any.whl (16 kB)\n",
            "Requirement already satisfied: idna<3,>=2.5 in /usr/local/lib/python3.7/dist-packages (from requests->requests_html) (2.10)\n",
            "Collecting urllib3<2.0.0,>=1.25.8\n",
            "  Downloading urllib3-1.25.11-py2.py3-none-any.whl (127 kB)\n",
            "\u001b[K     |████████████████████████████████| 127 kB 32.1 MB/s \n",
            "\u001b[?25hRequirement already satisfied: chardet<4,>=3.0.2 in /usr/local/lib/python3.7/dist-packages (from requests->requests_html) (3.0.4)\n",
            "Requirement already satisfied: six>=1.4.1 in /usr/local/lib/python3.7/dist-packages (from w3lib->requests_html) (1.15.0)\n",
            "Building wheels for collected packages: fake-useragent, parse\n",
            "  Building wheel for fake-useragent (setup.py) ... \u001b[?25l\u001b[?25hdone\n",
            "  Created wheel for fake-useragent: filename=fake_useragent-0.1.11-py3-none-any.whl size=13502 sha256=1629094086bd81943dab2396606d0aa9fb5e00c0a7041b1b271aa21e28738c1e\n",
            "  Stored in directory: /root/.cache/pip/wheels/ed/f7/62/50ab6c9a0b5567267ab76a9daa9d06315704209b2c5d032031\n",
            "  Building wheel for parse (setup.py) ... \u001b[?25l\u001b[?25hdone\n",
            "  Created wheel for parse: filename=parse-1.19.0-py3-none-any.whl size=24591 sha256=ddfb5e7be62a4fc5a726f6fc1f8732eefa08bacf87aa07bb35de07b553a4d23f\n",
            "  Stored in directory: /root/.cache/pip/wheels/9c/aa/cc/f2228050ccb40f22144b073f15a2c84f11204f29fc0dce028e\n",
            "Successfully built fake-useragent parse\n",
            "Installing collected packages: websockets, urllib3, pyee, cssselect, w3lib, pyquery, pyppeteer, parse, fake-useragent, requests-html\n",
            "  Attempting uninstall: urllib3\n",
            "    Found existing installation: urllib3 1.24.3\n",
            "    Uninstalling urllib3-1.24.3:\n",
            "      Successfully uninstalled urllib3-1.24.3\n",
            "\u001b[31mERROR: pip's dependency resolver does not currently take into account all the packages that are installed. This behaviour is the source of the following dependency conflicts.\n",
            "datascience 0.10.6 requires folium==0.2.1, but you have folium 0.8.3 which is incompatible.\u001b[0m\n",
            "Successfully installed cssselect-1.1.0 fake-useragent-0.1.11 parse-1.19.0 pyee-8.2.2 pyppeteer-1.0.2 pyquery-1.4.3 requests-html-0.10.0 urllib3-1.25.11 w3lib-1.22.0 websockets-10.3\n"
          ]
        }
      ]
    },
    {
      "cell_type": "code",
      "source": [
        "#@title Run Import Modules\n",
        "import requests\n",
        "import urllib\n",
        "import json\n",
        "import operator\n",
        "import pandas as pd\n",
        "from requests_html import HTML\n",
        "from requests_html import HTMLSession\n"
      ],
      "metadata": {
        "id": "-Du5Iue8l9dr"
      },
      "execution_count": null,
      "outputs": []
    },
    {
      "cell_type": "markdown",
      "source": [
        "#Set up connections with Google SERPs"
      ],
      "metadata": {
        "id": "zFcqyMY7luoT"
      }
    },
    {
      "cell_type": "code",
      "source": [
        "def get_source(url):\n",
        "\n",
        "    try:\n",
        "        session = HTMLSession()\n",
        "        response = session.get(url)\n",
        "        return response\n",
        "    except requests.exceptions.RequestException as e:\n",
        "        print(e)"
      ],
      "metadata": {
        "id": "o97ujs1tmWvr"
      },
      "execution_count": null,
      "outputs": []
    },
    {
      "cell_type": "code",
      "source": [
        "def get_results(query):\n",
        "    query = urllib.parse.quote_plus(query)\n",
        "    response = get_source(\"https://suggestqueries.google.com/complete/search?output=chrome&hl=en&q=\" + query)\n",
        "    results = json.loads(response.text)\n",
        "    return results"
      ],
      "metadata": {
        "id": "7xXrE89ome8N"
      },
      "execution_count": null,
      "outputs": []
    },
    {
      "cell_type": "code",
      "source": [
        "#@title Type your Keyword\n",
        "search_term = \"Leeds digital agency\"\n",
        "results = get_results(search_term)\n",
        "results"
      ],
      "metadata": {
        "colab": {
          "base_uri": "https://localhost:8080/"
        },
        "id": "8uIuuoFrmqnk",
        "outputId": "5ca88faf-64ca-40db-b98d-e989bd28fac6"
      },
      "execution_count": null,
      "outputs": [
        {
          "output_type": "execute_result",
          "data": {
            "text/plain": [
              "['Leeds digital agency',\n",
              " ['leeds digital marketing agency'],\n",
              " [''],\n",
              " [],\n",
              " {'google:clientdata': {'bpc': False, 'tlw': False},\n",
              "  'google:suggestrelevance': [600],\n",
              "  'google:suggestsubtypes': [[457, 22, 30]],\n",
              "  'google:suggesttype': ['QUERY'],\n",
              "  'google:verbatimrelevance': 1300}]"
            ]
          },
          "metadata": {},
          "execution_count": 14
        }
      ]
    },
    {
      "cell_type": "markdown",
      "source": [
        "#Let's format the results"
      ],
      "metadata": {
        "id": "lvVH4nkmjuHq"
      }
    },
    {
      "cell_type": "code",
      "source": [
        "def format_results(results):\n",
        "    suggestions = []\n",
        "    for index, value in enumerate(results[1]):\n",
        "        suggestion = {'term': value, 'relevance': results[4]['google:suggestrelevance'][index]}\n",
        "        suggestions.append(suggestion)\n",
        "    return suggestions"
      ],
      "metadata": {
        "id": "6fhRNzuNnFMp"
      },
      "execution_count": null,
      "outputs": []
    },
    {
      "cell_type": "code",
      "source": [
        "formatted_results = format_results(results)\n",
        "formatted_results\n"
      ],
      "metadata": {
        "colab": {
          "base_uri": "https://localhost:8080/"
        },
        "id": "wbwikz_DnUGy",
        "outputId": "25fcf4db-bdfb-4f72-bdbe-93a62ca83532"
      },
      "execution_count": null,
      "outputs": [
        {
          "output_type": "execute_result",
          "data": {
            "text/plain": [
              "[{'relevance': 600, 'term': 'leeds digital marketing agency'}]"
            ]
          },
          "metadata": {},
          "execution_count": 16
        }
      ]
    },
    {
      "cell_type": "markdown",
      "source": [
        "#Spice-up the research by adding some term suffixes 🌶"
      ],
      "metadata": {
        "id": "X2SUyePMj1zC"
      }
    },
    {
      "cell_type": "code",
      "source": [
        "def get_expanded_term_suffixes():\n",
        "    expanded_term_suffixes = ['a', 'b', 'c', 'd', 'e', 'f', 'g', 'h', 'i', 'j', 'k', 'l', 'm',\n",
        "                             'n', 'o', 'p', 'q', 'r', 's', 't', 'u', 'v', 'w', 'x', 'y', 'z']\n",
        "    return expanded_term_suffixes"
      ],
      "metadata": {
        "id": "NYXmYDxjn8rb"
      },
      "execution_count": null,
      "outputs": []
    },
    {
      "cell_type": "markdown",
      "source": [
        "#Define your Content Angle with regards to your desired funnel stage "
      ],
      "metadata": {
        "id": "YR46EYM8kSAd"
      }
    },
    {
      "cell_type": "code",
      "source": [
        "def get_expanded_term_prefixes():\n",
        "    expanded_term_prefixes = ['what *', 'where *', 'how to *', 'why *', 'vs*', 'or*', 'buy*', 'how much*',\n",
        "                              'best *', 'tutorial *', 'tips *', 'ideas *', 'review *', 'guide *' \n",
        "                             ]\n",
        "    return expanded_term_prefixes"
      ],
      "metadata": {
        "id": "zbEaw8GYoChC"
      },
      "execution_count": null,
      "outputs": []
    },
    {
      "cell_type": "markdown",
      "source": [
        "#Make sure to expand the search "
      ],
      "metadata": {
        "id": "EAejRN2RkoNS"
      }
    },
    {
      "cell_type": "code",
      "source": [
        "def get_expanded_terms(query):\n",
        "\n",
        "    expanded_term_prefixes = get_expanded_term_prefixes()\n",
        "    expanded_term_suffixes = get_expanded_term_suffixes()   \n",
        "\n",
        "    terms = []\n",
        "    terms.append(query)\n",
        "\n",
        "    for term in expanded_term_prefixes:\n",
        "        terms.append(term + ' ' + query)\n",
        "\n",
        "    for term in expanded_term_suffixes:\n",
        "        terms.append(query + ' ' + term)\n",
        "\n",
        "    return terms\n"
      ],
      "metadata": {
        "id": "PTH910b3oeke"
      },
      "execution_count": null,
      "outputs": []
    },
    {
      "cell_type": "code",
      "source": [
        "get_expanded_terms(search_term)\n"
      ],
      "metadata": {
        "colab": {
          "base_uri": "https://localhost:8080/"
        },
        "id": "B2EnmWp9omrr",
        "outputId": "7afadd75-d45f-4ecf-debd-d147d5a73fae"
      },
      "execution_count": null,
      "outputs": [
        {
          "output_type": "execute_result",
          "data": {
            "text/plain": [
              "['Leeds digital agency',\n",
              " 'what * Leeds digital agency',\n",
              " 'where * Leeds digital agency',\n",
              " 'how to * Leeds digital agency',\n",
              " 'why * Leeds digital agency',\n",
              " 'vs* Leeds digital agency',\n",
              " 'or* Leeds digital agency',\n",
              " 'buy* Leeds digital agency',\n",
              " 'how much* Leeds digital agency',\n",
              " 'best * Leeds digital agency',\n",
              " 'tutorial * Leeds digital agency',\n",
              " 'tips * Leeds digital agency',\n",
              " 'ideas * Leeds digital agency',\n",
              " 'review * Leeds digital agency',\n",
              " 'guide * Leeds digital agency',\n",
              " 'Leeds digital agency a',\n",
              " 'Leeds digital agency b',\n",
              " 'Leeds digital agency c',\n",
              " 'Leeds digital agency d',\n",
              " 'Leeds digital agency e',\n",
              " 'Leeds digital agency f',\n",
              " 'Leeds digital agency g',\n",
              " 'Leeds digital agency h',\n",
              " 'Leeds digital agency i',\n",
              " 'Leeds digital agency j',\n",
              " 'Leeds digital agency k',\n",
              " 'Leeds digital agency l',\n",
              " 'Leeds digital agency m',\n",
              " 'Leeds digital agency n',\n",
              " 'Leeds digital agency o',\n",
              " 'Leeds digital agency p',\n",
              " 'Leeds digital agency q',\n",
              " 'Leeds digital agency r',\n",
              " 'Leeds digital agency s',\n",
              " 'Leeds digital agency t',\n",
              " 'Leeds digital agency u',\n",
              " 'Leeds digital agency v',\n",
              " 'Leeds digital agency w',\n",
              " 'Leeds digital agency x',\n",
              " 'Leeds digital agency y',\n",
              " 'Leeds digital agency z']"
            ]
          },
          "metadata": {},
          "execution_count": 20
        }
      ]
    },
    {
      "cell_type": "markdown",
      "source": [
        "#Add-ons: get further suggestions 🤷\n",
        "\n",
        "\n",
        "---\n",
        "\n",
        "\n",
        "\n",
        "```\n",
        "# N.B: \"Relevance\" indicator refers to an automated estimation based on the frequency that specific term is subjected to in the search results page\n",
        "```\n",
        "\n"
      ],
      "metadata": {
        "id": "02N29aAokvft"
      }
    },
    {
      "cell_type": "code",
      "source": [
        "def get_expanded_suggestions(query):\n",
        "\n",
        "    all_results = []\n",
        "\n",
        "    expanded_terms = get_expanded_terms(query)\n",
        "    for term in expanded_terms:\n",
        "        results = get_results(term)\n",
        "        results = format_results(results)\n",
        "        all_results = all_results + results\n",
        "        all_results = sorted(all_results, key=lambda k: k['relevance'], reverse=True)\n",
        "    return all_results\n"
      ],
      "metadata": {
        "id": "BDP4KZRMov-H"
      },
      "execution_count": null,
      "outputs": []
    },
    {
      "cell_type": "code",
      "source": [
        "expanded_results = get_expanded_suggestions(search_term)\n",
        "expanded_results"
      ],
      "metadata": {
        "colab": {
          "base_uri": "https://localhost:8080/"
        },
        "id": "7OyDeDORozwd",
        "outputId": "60f5d304-403c-4d69-997d-944dab95a54e"
      },
      "execution_count": null,
      "outputs": [
        {
          "output_type": "execute_result",
          "data": {
            "text/plain": [
              "[{'relevance': 601, 'term': 'tips leads certification'},\n",
              " {'relevance': 601, 'term': 'lee digital'},\n",
              " {'relevance': 600, 'term': 'leeds digital marketing agency'},\n",
              " {'relevance': 600, 'term': 'leeds digital agencies'},\n",
              " {'relevance': 600, 'term': 'leeds digital agencies'},\n",
              " {'relevance': 600, 'term': 'digital design agency leeds'},\n",
              " {'relevance': 600, 'term': 'engage digital agency leeds'},\n",
              " {'relevance': 600, 'term': 'digital agency jobs leeds'},\n",
              " {'relevance': 600, 'term': 'leeds digital agency'},\n",
              " {'relevance': 600, 'term': 'leeds digital marketing agency'},\n",
              " {'relevance': 600, 'term': 'digital pr agency leeds'},\n",
              " {'relevance': 600, 'term': 'leeds digital agencies'},\n",
              " {'relevance': 551, 'term': 'tips for digital artists'},\n",
              " {'relevance': 550, 'term': 'tips llc'}]"
            ]
          },
          "metadata": {},
          "execution_count": 21
        }
      ]
    }
  ]
}