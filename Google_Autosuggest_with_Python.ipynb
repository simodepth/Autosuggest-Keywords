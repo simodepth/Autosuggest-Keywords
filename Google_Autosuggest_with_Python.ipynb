{
  "nbformat": 4,
  "nbformat_minor": 0,
  "metadata": {
    "colab": {
      "name": "Google Autosuggest with Python.ipynb",
      "provenance": [],
      "include_colab_link": true
    },
    "kernelspec": {
      "name": "python3",
      "display_name": "Python 3"
    },
    "language_info": {
      "name": "python"
    },
    "accelerator": "GPU"
  },
  "cells": [
    {
      "cell_type": "markdown",
      "metadata": {
        "id": "view-in-github",
        "colab_type": "text"
      },
      "source": [
        "<a href=\"https://colab.research.google.com/github/simodepth/Autosuggest-Keywords/blob/main/Google_Autosuggest_with_Python.ipynb\" target=\"_parent\"><img src=\"https://colab.research.google.com/assets/colab-badge.svg\" alt=\"Open In Colab\"/></a>"
      ]
    },
    {
      "cell_type": "markdown",
      "source": [
        "#🚀 Run Google Autosuggest to find keywords ideas in bulk \n",
        "\n",
        "\n"
      ],
      "metadata": {
        "id": "KbASV8aAiiV6"
      }
    },
    {
      "cell_type": "markdown",
      "source": [
        "#Requirements and Assumptions\n",
        "- Have requests_html module installed before to start\n",
        "- Leverage GPU runtime type when processing very generic queries"
      ],
      "metadata": {
        "id": "kerbCgFAUo31"
      }
    },
    {
      "cell_type": "code",
      "source": [
        "#@title Install Requests_html\n",
        "!pip install requests_html"
      ],
      "metadata": {
        "colab": {
          "base_uri": "https://localhost:8080/"
        },
        "id": "0fuz3sOsv1f6",
        "outputId": "ffe7a8d8-602e-4fef-8dfc-1eec6b1cad05",
        "cellView": "form"
      },
      "execution_count": 1,
      "outputs": [
        {
          "output_type": "stream",
          "name": "stdout",
          "text": [
            "Collecting requests_html\n",
            "  Downloading requests_html-0.10.0-py3-none-any.whl (13 kB)\n",
            "Collecting pyppeteer>=0.0.14\n",
            "  Downloading pyppeteer-1.0.2-py3-none-any.whl (83 kB)\n",
            "\u001b[K     |████████████████████████████████| 83 kB 1.4 MB/s \n",
            "\u001b[?25hCollecting w3lib\n",
            "  Downloading w3lib-1.22.0-py2.py3-none-any.whl (20 kB)\n",
            "Requirement already satisfied: bs4 in /usr/local/lib/python3.7/dist-packages (from requests_html) (0.0.1)\n",
            "Collecting fake-useragent\n",
            "  Downloading fake-useragent-0.1.11.tar.gz (13 kB)\n",
            "Requirement already satisfied: requests in /usr/local/lib/python3.7/dist-packages (from requests_html) (2.23.0)\n",
            "Collecting parse\n",
            "  Downloading parse-1.19.0.tar.gz (30 kB)\n",
            "Collecting pyquery\n",
            "  Downloading pyquery-1.4.3-py3-none-any.whl (22 kB)\n",
            "Collecting urllib3<2.0.0,>=1.25.8\n",
            "  Downloading urllib3-1.26.9-py2.py3-none-any.whl (138 kB)\n",
            "\u001b[K     |████████████████████████████████| 138 kB 24.8 MB/s \n",
            "\u001b[?25hRequirement already satisfied: appdirs<2.0.0,>=1.4.3 in /usr/local/lib/python3.7/dist-packages (from pyppeteer>=0.0.14->requests_html) (1.4.4)\n",
            "Requirement already satisfied: importlib-metadata>=1.4 in /usr/local/lib/python3.7/dist-packages (from pyppeteer>=0.0.14->requests_html) (4.11.3)\n",
            "Requirement already satisfied: certifi>=2021 in /usr/local/lib/python3.7/dist-packages (from pyppeteer>=0.0.14->requests_html) (2021.10.8)\n",
            "Collecting websockets<11.0,>=10.0\n",
            "  Downloading websockets-10.3-cp37-cp37m-manylinux_2_5_x86_64.manylinux1_x86_64.manylinux_2_12_x86_64.manylinux2010_x86_64.whl (112 kB)\n",
            "\u001b[K     |████████████████████████████████| 112 kB 48.0 MB/s \n",
            "\u001b[?25hRequirement already satisfied: tqdm<5.0.0,>=4.42.1 in /usr/local/lib/python3.7/dist-packages (from pyppeteer>=0.0.14->requests_html) (4.64.0)\n",
            "Collecting pyee<9.0.0,>=8.1.0\n",
            "  Downloading pyee-8.2.2-py2.py3-none-any.whl (12 kB)\n",
            "Requirement already satisfied: typing-extensions>=3.6.4 in /usr/local/lib/python3.7/dist-packages (from importlib-metadata>=1.4->pyppeteer>=0.0.14->requests_html) (4.2.0)\n",
            "Requirement already satisfied: zipp>=0.5 in /usr/local/lib/python3.7/dist-packages (from importlib-metadata>=1.4->pyppeteer>=0.0.14->requests_html) (3.8.0)\n",
            "Requirement already satisfied: beautifulsoup4 in /usr/local/lib/python3.7/dist-packages (from bs4->requests_html) (4.6.3)\n",
            "Requirement already satisfied: lxml>=2.1 in /usr/local/lib/python3.7/dist-packages (from pyquery->requests_html) (4.2.6)\n",
            "Collecting cssselect>0.7.9\n",
            "  Downloading cssselect-1.1.0-py2.py3-none-any.whl (16 kB)\n",
            "Collecting urllib3<2.0.0,>=1.25.8\n",
            "  Downloading urllib3-1.25.11-py2.py3-none-any.whl (127 kB)\n",
            "\u001b[K     |████████████████████████████████| 127 kB 44.3 MB/s \n",
            "\u001b[?25hRequirement already satisfied: idna<3,>=2.5 in /usr/local/lib/python3.7/dist-packages (from requests->requests_html) (2.10)\n",
            "Requirement already satisfied: chardet<4,>=3.0.2 in /usr/local/lib/python3.7/dist-packages (from requests->requests_html) (3.0.4)\n",
            "Requirement already satisfied: six>=1.4.1 in /usr/local/lib/python3.7/dist-packages (from w3lib->requests_html) (1.15.0)\n",
            "Building wheels for collected packages: fake-useragent, parse\n",
            "  Building wheel for fake-useragent (setup.py) ... \u001b[?25l\u001b[?25hdone\n",
            "  Created wheel for fake-useragent: filename=fake_useragent-0.1.11-py3-none-any.whl size=13502 sha256=e77d554272811aff86d8f2ac75076a42db97d521e1b2a2f6592ac3001ce2718d\n",
            "  Stored in directory: /root/.cache/pip/wheels/ed/f7/62/50ab6c9a0b5567267ab76a9daa9d06315704209b2c5d032031\n",
            "  Building wheel for parse (setup.py) ... \u001b[?25l\u001b[?25hdone\n",
            "  Created wheel for parse: filename=parse-1.19.0-py3-none-any.whl size=24591 sha256=ec8ad444032e5e062731cee576da3470519d346616a11cb8f9252402d1f2486a\n",
            "  Stored in directory: /root/.cache/pip/wheels/9c/aa/cc/f2228050ccb40f22144b073f15a2c84f11204f29fc0dce028e\n",
            "Successfully built fake-useragent parse\n",
            "Installing collected packages: websockets, urllib3, pyee, cssselect, w3lib, pyquery, pyppeteer, parse, fake-useragent, requests-html\n",
            "  Attempting uninstall: urllib3\n",
            "    Found existing installation: urllib3 1.24.3\n",
            "    Uninstalling urllib3-1.24.3:\n",
            "      Successfully uninstalled urllib3-1.24.3\n",
            "\u001b[31mERROR: pip's dependency resolver does not currently take into account all the packages that are installed. This behaviour is the source of the following dependency conflicts.\n",
            "datascience 0.10.6 requires folium==0.2.1, but you have folium 0.8.3 which is incompatible.\u001b[0m\n",
            "Successfully installed cssselect-1.1.0 fake-useragent-0.1.11 parse-1.19.0 pyee-8.2.2 pyppeteer-1.0.2 pyquery-1.4.3 requests-html-0.10.0 urllib3-1.25.11 w3lib-1.22.0 websockets-10.3\n"
          ]
        }
      ]
    },
    {
      "cell_type": "code",
      "source": [
        "#@title Run Import Modules\n",
        "import requests\n",
        "import urllib\n",
        "import json\n",
        "import operator\n",
        "import pandas as pd\n",
        "from requests_html import HTML\n",
        "from requests_html import HTMLSession\n"
      ],
      "metadata": {
        "id": "-Du5Iue8l9dr"
      },
      "execution_count": 2,
      "outputs": []
    },
    {
      "cell_type": "markdown",
      "source": [
        "#Set up connections with Google SERPs"
      ],
      "metadata": {
        "id": "zFcqyMY7luoT"
      }
    },
    {
      "cell_type": "code",
      "source": [
        "def get_source(url):\n",
        "\n",
        "    try:\n",
        "        session = HTMLSession()\n",
        "        response = session.get(url)\n",
        "        return response\n",
        "    except requests.exceptions.RequestException as e:\n",
        "        print(e)"
      ],
      "metadata": {
        "id": "o97ujs1tmWvr"
      },
      "execution_count": 3,
      "outputs": []
    },
    {
      "cell_type": "code",
      "source": [
        "def get_results(query):\n",
        "    query = urllib.parse.quote_plus(query)\n",
        "    response = get_source(\"https://suggestqueries.google.com/complete/search?output=chrome&hl=en&q=\" + query)\n",
        "    results = json.loads(response.text)\n",
        "    return results"
      ],
      "metadata": {
        "id": "7xXrE89ome8N"
      },
      "execution_count": 4,
      "outputs": []
    },
    {
      "cell_type": "code",
      "source": [
        "#@title Type your Keyword\n",
        "search_term = \"Catan\"\n",
        "results = get_results(search_term)\n",
        "results"
      ],
      "metadata": {
        "colab": {
          "base_uri": "https://localhost:8080/"
        },
        "id": "8uIuuoFrmqnk",
        "outputId": "001f8ba2-19b3-47a6-ad6c-b13540bb0a65"
      },
      "execution_count": 5,
      "outputs": [
        {
          "output_type": "execute_result",
          "data": {
            "text/plain": [
              "['Catan',\n",
              " ['catania',\n",
              "  'catanduanes',\n",
              "  'catan online',\n",
              "  'catan universe',\n",
              "  'catan rules',\n",
              "  'catanauan quezon',\n",
              "  'catan strategy',\n",
              "  'catanduanes map'],\n",
              " ['', '', '', '', '', '', '', ''],\n",
              " [],\n",
              " {'google:clientdata': {'bpc': False, 'tlw': False},\n",
              "  'google:suggestrelevance': [800, 653, 652, 651, 650, 601, 600, 550],\n",
              "  'google:suggestsubtypes': [[512],\n",
              "   [512],\n",
              "   [512],\n",
              "   [512],\n",
              "   [512],\n",
              "   [512],\n",
              "   [512],\n",
              "   [512]],\n",
              "  'google:suggesttype': ['QUERY',\n",
              "   'QUERY',\n",
              "   'QUERY',\n",
              "   'QUERY',\n",
              "   'QUERY',\n",
              "   'QUERY',\n",
              "   'QUERY',\n",
              "   'QUERY'],\n",
              "  'google:verbatimrelevance': 1300}]"
            ]
          },
          "metadata": {},
          "execution_count": 5
        }
      ]
    },
    {
      "cell_type": "code",
      "source": [
        "#@title Format the Results\n",
        "def format_results(results):\n",
        "    suggestions = []\n",
        "    for index, value in enumerate(results[1]):\n",
        "        suggestion = {'term': value, 'relevance': results[4]['google:suggestrelevance'][index]}\n",
        "        suggestions.append(suggestion)\n",
        "    return suggestions\n",
        "formatted_results = format_results(results)\n",
        "formatted_results"
      ],
      "metadata": {
        "id": "6fhRNzuNnFMp",
        "outputId": "9b6ef3ed-133f-493d-c48a-6ff966a308da",
        "colab": {
          "base_uri": "https://localhost:8080/"
        }
      },
      "execution_count": 6,
      "outputs": [
        {
          "output_type": "execute_result",
          "data": {
            "text/plain": [
              "[{'relevance': 800, 'term': 'catania'},\n",
              " {'relevance': 653, 'term': 'catanduanes'},\n",
              " {'relevance': 652, 'term': 'catan online'},\n",
              " {'relevance': 651, 'term': 'catan universe'},\n",
              " {'relevance': 650, 'term': 'catan rules'},\n",
              " {'relevance': 601, 'term': 'catanauan quezon'},\n",
              " {'relevance': 600, 'term': 'catan strategy'},\n",
              " {'relevance': 550, 'term': 'catanduanes map'}]"
            ]
          },
          "metadata": {},
          "execution_count": 6
        }
      ]
    },
    {
      "cell_type": "markdown",
      "source": [
        "#Spice-up the research by adding some term suffixes 🌶"
      ],
      "metadata": {
        "id": "X2SUyePMj1zC"
      }
    },
    {
      "cell_type": "code",
      "source": [
        "def get_expanded_term_suffixes():\n",
        "    expanded_term_suffixes = ['a', 'b', 'c', 'd', 'e', 'f', 'g', 'h', 'i', 'j', 'k', 'l', 'm',\n",
        "                             'n', 'o', 'p', 'q', 'r', 's', 't', 'u', 'v', 'w', 'x', 'y', 'z']\n",
        "    return expanded_term_suffixes"
      ],
      "metadata": {
        "id": "NYXmYDxjn8rb"
      },
      "execution_count": 7,
      "outputs": []
    },
    {
      "cell_type": "markdown",
      "source": [
        "#Define your Content Angle"
      ],
      "metadata": {
        "id": "YR46EYM8kSAd"
      }
    },
    {
      "cell_type": "code",
      "source": [
        "def get_expanded_term_prefixes():\n",
        "    expanded_term_prefixes = ['what *', 'where *', 'how to *', 'why *', 'vs*', 'or*', 'buy*', 'how much*',\n",
        "                              'best *', 'tutorial *', 'tips *', 'ideas *', 'review *', 'guide *' \n",
        "                             ]\n",
        "    return expanded_term_prefixes"
      ],
      "metadata": {
        "id": "zbEaw8GYoChC"
      },
      "execution_count": 8,
      "outputs": []
    },
    {
      "cell_type": "markdown",
      "source": [
        "📔 You can expand the range of angle at your ease"
      ],
      "metadata": {
        "id": "7C0f0Lr-TFR4"
      }
    },
    {
      "cell_type": "code",
      "source": [
        "#@title Expand the Research\n",
        "def get_expanded_terms(query):\n",
        "\n",
        "    expanded_term_prefixes = get_expanded_term_prefixes()\n",
        "    expanded_term_suffixes = get_expanded_term_suffixes()   \n",
        "\n",
        "    terms = []\n",
        "    terms.append(query)\n",
        "\n",
        "    for term in expanded_term_prefixes:\n",
        "        terms.append(term + ' ' + query)\n",
        "\n",
        "    for term in expanded_term_suffixes:\n",
        "        terms.append(query + ' ' + term)\n",
        "\n",
        "    return terms\n"
      ],
      "metadata": {
        "id": "PTH910b3oeke",
        "cellView": "form"
      },
      "execution_count": 9,
      "outputs": []
    },
    {
      "cell_type": "code",
      "source": [
        "get_expanded_terms(search_term)\n"
      ],
      "metadata": {
        "colab": {
          "base_uri": "https://localhost:8080/"
        },
        "id": "B2EnmWp9omrr",
        "outputId": "8655353a-8a82-4faf-ebdd-29b9fb3326be"
      },
      "execution_count": 10,
      "outputs": [
        {
          "output_type": "execute_result",
          "data": {
            "text/plain": [
              "['Catan',\n",
              " 'what * Catan',\n",
              " 'where * Catan',\n",
              " 'how to * Catan',\n",
              " 'why * Catan',\n",
              " 'vs* Catan',\n",
              " 'or* Catan',\n",
              " 'buy* Catan',\n",
              " 'how much* Catan',\n",
              " 'best * Catan',\n",
              " 'tutorial * Catan',\n",
              " 'tips * Catan',\n",
              " 'ideas * Catan',\n",
              " 'review * Catan',\n",
              " 'guide * Catan',\n",
              " 'Catan a',\n",
              " 'Catan b',\n",
              " 'Catan c',\n",
              " 'Catan d',\n",
              " 'Catan e',\n",
              " 'Catan f',\n",
              " 'Catan g',\n",
              " 'Catan h',\n",
              " 'Catan i',\n",
              " 'Catan j',\n",
              " 'Catan k',\n",
              " 'Catan l',\n",
              " 'Catan m',\n",
              " 'Catan n',\n",
              " 'Catan o',\n",
              " 'Catan p',\n",
              " 'Catan q',\n",
              " 'Catan r',\n",
              " 'Catan s',\n",
              " 'Catan t',\n",
              " 'Catan u',\n",
              " 'Catan v',\n",
              " 'Catan w',\n",
              " 'Catan x',\n",
              " 'Catan y',\n",
              " 'Catan z']"
            ]
          },
          "metadata": {},
          "execution_count": 10
        }
      ]
    },
    {
      "cell_type": "code",
      "source": [
        "#@title Get further suggestions 🤷\n",
        "def get_expanded_suggestions(query):\n",
        "\n",
        "    all_results = []\n",
        "\n",
        "    expanded_terms = get_expanded_terms(query)\n",
        "    for term in expanded_terms:\n",
        "        results = get_results(term)\n",
        "        results = format_results(results)\n",
        "        all_results = all_results + results\n",
        "        all_results = sorted(all_results, key=lambda k: k['relevance'], reverse=True)\n",
        "    return all_results\n"
      ],
      "metadata": {
        "id": "BDP4KZRMov-H",
        "cellView": "form"
      },
      "execution_count": 11,
      "outputs": []
    },
    {
      "cell_type": "code",
      "source": [
        "expanded_results = get_expanded_suggestions(search_term)\n",
        "expanded_results"
      ],
      "metadata": {
        "colab": {
          "base_uri": "https://localhost:8080/"
        },
        "id": "7OyDeDORozwd",
        "outputId": "90ed1358-15c0-490e-c98f-3e90ce792044"
      },
      "execution_count": 12,
      "outputs": [
        {
          "output_type": "execute_result",
          "data": {
            "text/plain": [
              "[{'relevance': 1251, 'term': 'catan expansion'},\n",
              " {'relevance': 1250, 'term': 'catan board game'},\n",
              " {'relevance': 1250, 'term': 'catan cities and knights'},\n",
              " {'relevance': 1250, 'term': 'catan expansion pack'},\n",
              " {'relevance': 1250, 'term': 'catan game'},\n",
              " {'relevance': 1250, 'term': 'catan how to play'},\n",
              " {'relevance': 1250, 'term': 'catan io'},\n",
              " {'relevance': 1250, 'term': 'catan junior'},\n",
              " {'relevance': 1250, 'term': 'catan knights and cities'},\n",
              " {'relevance': 1250, 'term': 'catan longest road rules'},\n",
              " {'relevance': 1250, 'term': 'catan map generator'},\n",
              " {'relevance': 1250, 'term': 'catan online'},\n",
              " {'relevance': 1250, 'term': 'catan qualifiers 2022'},\n",
              " {'relevance': 1250, 'term': 'catan rules'},\n",
              " {'relevance': 1250, 'term': 'catan strategy'},\n",
              " {'relevance': 1250, 'term': 'catan universe'},\n",
              " {'relevance': 1250, 'term': 'catan vr'},\n",
              " {'relevance': 1250, 'term': 'catan xbox'},\n",
              " {'relevance': 1250, 'term': 'catan zaidimas'},\n",
              " {'relevance': 1200, 'term': 'catan pronunciation'},\n",
              " {'relevance': 1150, 'term': 'catan knight'},\n",
              " {'relevance': 1150, 'term': 'catan quick rules'},\n",
              " {'relevance': 1150, 'term': 'catan seafarers'},\n",
              " {'relevance': 1100, 'term': 'catan kmart'},\n",
              " {'relevance': 1000, 'term': 'catan dice game'},\n",
              " {'relevance': 1000, 'term': 'catan fish'},\n",
              " {'relevance': 900, 'term': 'catan juego'},\n",
              " {'relevance': 801, 'term': 'catan amazon'},\n",
              " {'relevance': 801, 'term': 'catan family edition'},\n",
              " {'relevance': 801, 'term': 'catan igra'},\n",
              " {'relevance': 801, 'term': 'catan number of players'},\n",
              " {'relevance': 801, 'term': 'catan versions'},\n",
              " {'relevance': 800, 'term': 'catania'},\n",
              " {'relevance': 800, 'term': 'catan app'},\n",
              " {'relevance': 800, 'term': 'catan development cards'},\n",
              " {'relevance': 800, 'term': 'catan free online'},\n",
              " {'relevance': 800, 'term': 'catan instructions'},\n",
              " {'relevance': 800, 'term': 'catan jr'},\n",
              " {'relevance': 800, 'term': 'catan nintendo switch'},\n",
              " {'relevance': 800, 'term': 'catan video game'},\n",
              " {'relevance': 750, 'term': 'catan xbox series x'},\n",
              " {'relevance': 700, 'term': 'catan for two'},\n",
              " {'relevance': 700, 'term': 'catan quotes'},\n",
              " {'relevance': 653, 'term': 'catanduanes'},\n",
              " {'relevance': 652, 'term': 'catan online'},\n",
              " {'relevance': 651, 'term': 'catan universe'},\n",
              " {'relevance': 651, 'term': 'catan traders and barbarians'},\n",
              " {'relevance': 651, 'term': 'catan zeevaarders'},\n",
              " {'relevance': 650, 'term': 'catan rules'},\n",
              " {'relevance': 650, 'term': 'catan accessories'},\n",
              " {'relevance': 650, 'term': 'catan drinking game'},\n",
              " {'relevance': 650, 'term': 'catan how many players'},\n",
              " {'relevance': 650, 'term': 'catan quick guide'},\n",
              " {'relevance': 650, 'term': 'catan tips'},\n",
              " {'relevance': 650, 'term': 'catan victory points'},\n",
              " {'relevance': 650, 'term': 'catan zasady'},\n",
              " {'relevance': 603, 'term': 'catan near me'},\n",
              " {'relevance': 602, 'term': 'catan extension'},\n",
              " {'relevance': 602, 'term': 'catan meaning'},\n",
              " {'relevance': 602, 'term': 'catan numbers'},\n",
              " {'relevance': 602, 'term': 'catan tournament'},\n",
              " {'relevance': 602, 'term': 'catan zestaw osadnika'},\n",
              " {'relevance': 601, 'term': 'catanauan quezon'},\n",
              " {'relevance': 601, 'term': 'what catan expansion should i get'},\n",
              " {'relevance': 601, 'term': 'catania where to eat'},\n",
              " {'relevance': 601, 'term': 'how to play catan'},\n",
              " {'relevance': 601, 'term': 'why catan is a bad game'},\n",
              " {'relevance': 601, 'term': 'catania vs palermo'},\n",
              " {'relevance': 601, 'term': 'catan or ticket to ride'},\n",
              " {'relevance': 601, 'term': 'buy catan'},\n",
              " {'relevance': 601, 'term': 'how much does catan universe cost'},\n",
              " {'relevance': 601, 'term': 'best catan expansion'},\n",
              " {'relevance': 601, 'term': 'tutorial catan'},\n",
              " {'relevance': 601, 'term': 'tips catan'},\n",
              " {'relevance': 601, 'term': 'catan ideas'},\n",
              " {'relevance': 601, 'term': 'review catan'},\n",
              " {'relevance': 601, 'term': 'guide catania'},\n",
              " {'relevance': 601, 'term': 'catan america'},\n",
              " {'relevance': 601, 'term': 'catan board'},\n",
              " {'relevance': 601, 'term': 'catan card game'},\n",
              " {'relevance': 601, 'term': 'catan dragons'},\n",
              " {'relevance': 601, 'term': 'catan explorers and pirates'},\n",
              " {'relevance': 601, 'term': 'catan fish in english'},\n",
              " {'relevance': 601, 'term': 'catan generator'},\n",
              " {'relevance': 601, 'term': 'catan histories'},\n",
              " {'relevance': 601, 'term': 'catan in english'},\n",
              " {'relevance': 601, 'term': 'catan joc'},\n",
              " {'relevance': 601, 'term': 'catan kutu oyunu'},\n",
              " {'relevance': 601, 'term': 'catan largest army'},\n",
              " {'relevance': 601, 'term': 'catan memes'},\n",
              " {'relevance': 601, 'term': 'catan nz'},\n",
              " {'relevance': 601, 'term': 'catan online game'},\n",
              " {'relevance': 601, 'term': 'catan pieces'},\n",
              " {'relevance': 601, 'term': 'catan que es'},\n",
              " {'relevance': 601, 'term': 'catan randomizer'},\n",
              " {'relevance': 601, 'term': 'catan starfarers'},\n",
              " {'relevance': 601, 'term': 'catan target'},\n",
              " {'relevance': 601, 'term': 'catan universe online'},\n",
              " {'relevance': 601, 'term': 'catan variations'},\n",
              " {'relevance': 601, 'term': 'catan walmart'},\n",
              " {'relevance': 601, 'term': 'catan xbox 360'},\n",
              " {'relevance': 601, 'term': 'catan universe'},\n",
              " {'relevance': 601, 'term': 'catan żeglarze'},\n",
              " {'relevance': 600, 'term': 'catan strategy'},\n",
              " {'relevance': 600, 'term': 'what catan expansions are compatible'},\n",
              " {'relevance': 600, 'term': 'catan where to buy'},\n",
              " {'relevance': 600, 'term': 'how to win catan'},\n",
              " {'relevance': 600, 'term': 'why catanduanes called happy island'},\n",
              " {'relevance': 600, 'term': 'catania vs vibonese'},\n",
              " {'relevance': 600, 'term': 'catan or carcassonne'},\n",
              " {'relevance': 600, 'term': 'buy catan board game'},\n",
              " {'relevance': 600, 'term': 'how much does catan cost'},\n",
              " {'relevance': 600, 'term': 'best catan strategy'},\n",
              " {'relevance': 600, 'term': 'tutorial catan online'},\n",
              " {'relevance': 600, 'term': 'tips catan winnen'},\n",
              " {'relevance': 600, 'term': 'catana ideas'},\n",
              " {'relevance': 600, 'term': 'review catan board game'},\n",
              " {'relevance': 600, 'term': 'guide catan'},\n",
              " {'relevance': 600, 'term': 'catan anniversary edition'},\n",
              " {'relevance': 600, 'term': 'catan board generator'},\n",
              " {'relevance': 600, 'term': 'catan cards'},\n",
              " {'relevance': 600, 'term': 'catan definition'},\n",
              " {'relevance': 600, 'term': 'catan expansion 5-6'},\n",
              " {'relevance': 600, 'term': 'catan for kids'},\n",
              " {'relevance': 600, 'term': 'catan game of thrones'},\n",
              " {'relevance': 600, 'term': 'catan harbormaster'},\n",
              " {'relevance': 600, 'term': 'catan island'},\n",
              " {'relevance': 600, 'term': 'catan junior rules'},\n",
              " {'relevance': 600, 'term': 'catan knights and cities rules'},\n",
              " {'relevance': 600, 'term': 'catan logo'},\n",
              " {'relevance': 600, 'term': 'catan maps'},\n",
              " {'relevance': 600, 'term': 'catan navigatorii'},\n",
              " {'relevance': 600, 'term': 'catan organizer'},\n",
              " {'relevance': 600, 'term': 'catan players'},\n",
              " {'relevance': 600, 'term': 'catan quest 2'},\n",
              " {'relevance': 600, 'term': 'catan resources'},\n",
              " {'relevance': 600, 'term': 'catan settlers of america'},\n",
              " {'relevance': 600, 'term': 'catan two player'},\n",
              " {'relevance': 600, 'term': 'catan universe promo code'},\n",
              " {'relevance': 600, 'term': 'catan vs settlers of catan'},\n",
              " {'relevance': 600, 'term': 'catan world championship'},\n",
              " {'relevance': 600, 'term': 'catan xbox game'},\n",
              " {'relevance': 600, 'term': 'catan youtube'},\n",
              " {'relevance': 600, 'term': 'catan zatu'},\n",
              " {'relevance': 555, 'term': 'what catan expansion is best'},\n",
              " {'relevance': 555, 'term': 'catania where to stay'},\n",
              " {'relevance': 555, 'term': 'how to play catan with 2 players'},\n",
              " {'relevance': 555, 'term': 'why catan is best game ever'},\n",
              " {'relevance': 555, 'term': 'catan vs carcassonne'},\n",
              " {'relevance': 555, 'term': 'catan or risk'},\n",
              " {'relevance': 555, 'term': 'buy catan online'},\n",
              " {'relevance': 555, 'term': 'how much is catan universe'},\n",
              " {'relevance': 555, 'term': 'best catan game'},\n",
              " {'relevance': 555, 'term': 'tutorial catan universe'},\n",
              " {'relevance': 555, 'term': 'tips catania'},\n",
              " {'relevance': 555, 'term': 'review catan junior'},\n",
              " {'relevance': 555, 'term': 'catan guide reddit'},\n",
              " {'relevance': 555, 'term': 'catan wiki'},\n",
              " {'relevance': 555, 'term': 'catan year of plenty'},\n",
              " {'relevance': 554, 'term': \"what's catan game\"},\n",
              " {'relevance': 554, 'term': 'catan where can you build settlements'},\n",
              " {'relevance': 554, 'term': 'how to pronounce catan'},\n",
              " {'relevance': 554, 'term': 'why catan so popular'},\n",
              " {'relevance': 554, 'term': 'catan vs ticket to ride'},\n",
              " {'relevance': 554, 'term': 'catania or syracuse'},\n",
              " {'relevance': 554, 'term': 'buy catan near me'},\n",
              " {'relevance': 554, 'term': 'how much of catan is luck'},\n",
              " {'relevance': 554, 'term': 'best catan board setup'},\n",
              " {'relevance': 554, 'term': 'tutorial catan junior'},\n",
              " {'relevance': 554, 'term': 'tips catania sicilie'},\n",
              " {'relevance': 554, 'term': 'review catan expansions'},\n",
              " {'relevance': 554, 'term': 'catan guide pdf'},\n",
              " {'relevance': 554, 'term': 'catan board setup'},\n",
              " {'relevance': 554, 'term': 'catan colonist'},\n",
              " {'relevance': 554, 'term': 'catan game online'},\n",
              " {'relevance': 554, 'term': 'catan layout'},\n",
              " {'relevance': 554, 'term': 'catan on switch'},\n",
              " {'relevance': 554, 'term': 'catan pirates and explorers'},\n",
              " {'relevance': 554, 'term': 'catan random generator'},\n",
              " {'relevance': 554, 'term': 'catan universe login'},\n",
              " {'relevance': 554, 'term': 'catan with 2 players'},\n",
              " {'relevance': 554, 'term': 'catan year'},\n",
              " {'relevance': 553, 'term': 'what catan should i buy'},\n",
              " {'relevance': 553, 'term': 'catan where can i build a settlement'},\n",
              " {'relevance': 553, 'term': 'how to play catan online'},\n",
              " {'relevance': 553, 'term': \"catan why can't i build a settlement\"},\n",
              " {'relevance': 553, 'term': 'catania vs san nicolo'},\n",
              " {'relevance': 553, 'term': 'catania or palermo beaches'},\n",
              " {'relevance': 553, 'term': 'buy catan cities and knights'},\n",
              " {'relevance': 553, 'term': 'how much is catan gold'},\n",
              " {'relevance': 553, 'term': 'best catan expansion reddit'},\n",
              " {'relevance': 553, 'term': 'tutorial catan piratas y exploradores'},\n",
              " {'relevance': 553, 'term': 'tips catan zeevaarders'},\n",
              " {'relevance': 553, 'term': 'lego ideas catan'},\n",
              " {'relevance': 553, 'term': 'review catan dice game'},\n",
              " {'relevance': 553, 'term': 'catan guide for beginners'},\n",
              " {'relevance': 553, 'term': 'catan board game rules'},\n",
              " {'relevance': 553, 'term': 'catan cities and knights rules'},\n",
              " {'relevance': 553, 'term': 'catan game rules'},\n",
              " {'relevance': 553, 'term': 'catan house rules'},\n",
              " {'relevance': 553, 'term': 'catan legend of the conquerors'},\n",
              " {'relevance': 553, 'term': 'catan movie'},\n",
              " {'relevance': 553, 'term': 'catan orase si cavaleri'},\n",
              " {'relevance': 553, 'term': 'catan play online'},\n",
              " {'relevance': 553, 'term': 'catan robber'},\n",
              " {'relevance': 553, 'term': 'catan seni'},\n",
              " {'relevance': 553, 'term': 'catan universe create account'},\n",
              " {'relevance': 553, 'term': 'catan world explorers'},\n",
              " {'relevance': 553, 'term': 'catan xbox one release date'},\n",
              " {'relevance': 553, 'term': 'catan universe promo code'},\n",
              " {'relevance': 552, 'term': 'what catan to buy'},\n",
              " {'relevance': 552, 'term': 'catan where to place settlements'},\n",
              " {'relevance': 552, 'term': 'how to win catan every time'},\n",
              " {'relevance': 552, 'term': 'why is catan so expensive'},\n",
              " {'relevance': 552, 'term': 'catanzaro vs catania'},\n",
              " {'relevance': 552, 'term': 'catan or 7 wonders'},\n",
              " {'relevance': 552, 'term': 'buy catan nz'},\n",
              " {'relevance': 552, 'term': 'how much is catan worth'},\n",
              " {'relevance': 552, 'term': 'best catan strategy reddit'},\n",
              " {'relevance': 552, 'term': 'tutorial catan ciudades y caballeros'},\n",
              " {'relevance': 552, 'term': 'catan tips reddit'},\n",
              " {'relevance': 552, 'term': 'operazione all ideas catanzaro'},\n",
              " {'relevance': 552, 'term': 'review catan game'},\n",
              " {'relevance': 552, 'term': 'catania guide pdf'},\n",
              " {'relevance': 552, 'term': 'catan age'},\n",
              " {'relevance': 552, 'term': 'catan big box'},\n",
              " {'relevance': 552, 'term': 'catan city'},\n",
              " {'relevance': 552, 'term': 'catan duel'},\n",
              " {'relevance': 552, 'term': 'catan expansion setup'},\n",
              " {'relevance': 552, 'term': 'catan gra'},\n",
              " {'relevance': 552, 'term': 'catan helpers'},\n",
              " {'relevance': 552, 'term': 'catan indigo'},\n",
              " {'relevance': 552, 'term': 'catan juego de mesa'},\n",
              " {'relevance': 552, 'term': 'catan knights and cities strategy'},\n",
              " {'relevance': 552, 'term': 'catan logic puzzle'},\n",
              " {'relevance': 552, 'term': 'catan max players'},\n",
              " {'relevance': 552, 'term': 'catan on steam'},\n",
              " {'relevance': 552, 'term': 'catan price'},\n",
              " {'relevance': 552, 'term': 'catan resource cards'},\n",
              " {'relevance': 552, 'term': 'catan steam'},\n",
              " {'relevance': 552, 'term': 'catan trade build settle'},\n",
              " {'relevance': 552, 'term': 'catan universe 4 players'},\n",
              " {'relevance': 552, 'term': 'catan website'},\n",
              " {'relevance': 552, 'term': 'catan xl'},\n",
              " {'relevance': 552, 'term': 'catan universe login'},\n",
              " {'relevance': 551, 'term': 'catan meaning'},\n",
              " {'relevance': 551, 'term': 'catania where to go'},\n",
              " {'relevance': 551, 'term': 'how to play catan junior'},\n",
              " {'relevance': 551, 'term': 'why is catan universe not working'},\n",
              " {'relevance': 551, 'term': 'catan vs risk'},\n",
              " {'relevance': 551, 'term': 'catania or palermo reddit'},\n",
              " {'relevance': 551, 'term': 'buy catan uk'},\n",
              " {'relevance': 551, 'term': 'how much is catan on steam'},\n",
              " {'relevance': 551, 'term': 'best catan version'},\n",
              " {'relevance': 551, 'term': 'tutorial catan el juego'},\n",
              " {'relevance': 551, 'term': 'catan tips and strategies'},\n",
              " {'relevance': 551, 'term': 'catan map ideas'},\n",
              " {'relevance': 551, 'term': 'review catan game of thrones'},\n",
              " {'relevance': 551, 'term': 'michelin guide catania'},\n",
              " {'relevance': 551, 'term': 'catan all expansions'},\n",
              " {'relevance': 551, 'term': 'catan building costs'},\n",
              " {'relevance': 551, 'term': 'catan card holder'},\n",
              " {'relevance': 551, 'term': 'catan deluxe'},\n",
              " {'relevance': 551, 'term': 'catan extension map'},\n",
              " {'relevance': 551, 'term': 'catan for switch'},\n",
              " {'relevance': 551, 'term': 'catan gif'},\n",
              " {'relevance': 551, 'term': 'catan hexatower'},\n",
              " {'relevance': 551, 'term': 'catan india'},\n",
              " {'relevance': 551, 'term': 'catan jogo'},\n",
              " {'relevance': 551, 'term': 'catan kosmos'},\n",
              " {'relevance': 551, 'term': 'catan legend of the sea robbers'},\n",
              " {'relevance': 551, 'term': 'catan minimum players'},\n",
              " {'relevance': 551, 'term': 'catan national championship'},\n",
              " {'relevance': 551, 'term': 'catan oil springs'},\n",
              " {'relevance': 551, 'term': 'catan piece holder'},\n",
              " {'relevance': 551, 'term': 'catan quiz'},\n",
              " {'relevance': 551, 'term': 'catan rivals'},\n",
              " {'relevance': 551, 'term': 'catan switch'},\n",
              " {'relevance': 551, 'term': 'catan treasures dragons and adventurers'},\n",
              " {'relevance': 551, 'term': 'catan universe account'},\n",
              " {'relevance': 551, 'term': 'catan victory point card'},\n",
              " {'relevance': 551, 'term': 'catan wooden board'},\n",
              " {'relevance': 551, 'term': 'catan xbox 360 download'},\n",
              " {'relevance': 551, 'term': 'catan universe create account'},\n",
              " {'relevance': 551, 'term': 'catan zasady gry'},\n",
              " {'relevance': 550, 'term': 'catanduanes map'},\n",
              " {'relevance': 550, 'term': 'what catan expansion to get'},\n",
              " {'relevance': 550, 'term': 'catan where to start'},\n",
              " {'relevance': 550, 'term': 'how to start catan'},\n",
              " {'relevance': 550, 'term': 'why did catan change names'},\n",
              " {'relevance': 550, 'term': 'catania vs foggia'},\n",
              " {'relevance': 550, 'term': 'catania or palermo better'},\n",
              " {'relevance': 550, 'term': 'buy catan seafarers'},\n",
              " {'relevance': 550, 'term': 'how much does catan gold cost'},\n",
              " {'relevance': 550, 'term': 'best catan app'},\n",
              " {'relevance': 550, 'term': 'tutorial catan juego de tronos'},\n",
              " {'relevance': 550, 'term': 'catan tips for beginners'},\n",
              " {'relevance': 550, 'term': 'easy catan strategy'},\n",
              " {'relevance': 550, 'term': 'review catan universe'},\n",
              " {'relevance': 550, 'term': 'guide to catan expansions'},\n",
              " {'relevance': 550, 'term': 'catan apk'},\n",
              " {'relevance': 550, 'term': 'catan board game online'},\n",
              " {'relevance': 550, 'term': 'catan cities and knights 5-6 player extension'},\n",
              " {'relevance': 550, 'term': 'catan dawn of humankind'},\n",
              " {'relevance': 550, 'term': 'catan expansion seafarers'},\n",
              " {'relevance': 550, 'term': 'catan for dummies'},\n",
              " {'relevance': 550, 'term': 'catan game pieces'},\n",
              " {'relevance': 550, 'term': 'catan hexadocks'},\n",
              " {'relevance': 550, 'term': 'catan inkas'},\n",
              " {'relevance': 550, 'term': 'catan jeu'},\n",
              " {'relevance': 550, 'term': 'catan kosmonauten'},\n",
              " {'relevance': 550, 'term': 'catan like games'},\n",
              " {'relevance': 550, 'term': 'catan mobile'},\n",
              " {'relevance': 550, 'term': 'catan navegantes'},\n",
              " {'relevance': 550, 'term': 'catan oyunu'},\n",
              " {'relevance': 550, 'term': 'catan player count'},\n",
              " {'relevance': 550, 'term': 'catan quick card game'},\n",
              " {'relevance': 550, 'term': 'catan rise of the incas'},\n",
              " {'relevance': 550, 'term': 'catan seafarers rules'},\n",
              " {'relevance': 550, 'term': 'catan trading post'},\n",
              " {'relevance': 550, 'term': 'catan universe promotion code'},\n",
              " {'relevance': 550, 'term': 'catan vr oculus quest'},\n",
              " {'relevance': 550, 'term': 'catan world championship prize money'},\n",
              " {'relevance': 550, 'term': 'catan x champion'},\n",
              " {'relevance': 550, 'term': 'catan universe 4 players'},\n",
              " {'relevance': 550, 'term': 'catan zoom background'}]"
            ]
          },
          "metadata": {},
          "execution_count": 12
        }
      ]
    },
    {
      "cell_type": "markdown",
      "source": [
        "\n",
        "\n",
        "---\n",
        "\n",
        "\n",
        "\n",
        "```\n",
        "# N.B: \"Relevance\" indicator refers to an automated estimation based on the frequency that specific term is subjected to in the search results page\n",
        "```\n",
        "\n"
      ],
      "metadata": {
        "id": "02N29aAokvft"
      }
    }
  ]
}